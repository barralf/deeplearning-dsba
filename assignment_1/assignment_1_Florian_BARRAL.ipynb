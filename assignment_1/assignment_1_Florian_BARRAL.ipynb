{
 "cells": [
  {
   "cell_type": "markdown",
   "metadata": {},
   "source": [
    "# Miniproject #1: Classification and Regression"
   ]
  },
  {
   "cell_type": "markdown",
   "metadata": {},
   "source": [
    "**Florian BARRAL**\n",
    "\n",
    "florian.barral@student.ecp.fr"
   ]
  },
  {
   "cell_type": "markdown",
   "metadata": {},
   "source": [
    "## Getting Started"
   ]
  },
  {
   "cell_type": "code",
   "execution_count": 1,
   "metadata": {},
   "outputs": [],
   "source": [
    "import matplotlib.pyplot as plt\n",
    "%matplotlib inline\n",
    "import numpy as np\n",
    "\n",
    "def generate_a_drawing(figsize, U, V, noise=0.0):\n",
    "    fig = plt.figure(figsize=(figsize,figsize))\n",
    "    ax = plt.subplot(111)\n",
    "    plt.axis('Off')\n",
    "    ax.set_xlim(0,figsize)\n",
    "    ax.set_ylim(0,figsize)\n",
    "    ax.fill(U, V, \"k\")\n",
    "    fig.canvas.draw()\n",
    "    imdata = np.frombuffer(fig.canvas.tostring_rgb(), dtype=np.uint8)[::3].astype(np.float32)\n",
    "    imdata = imdata + noise * np.random.random(imdata.size)\n",
    "    plt.close(fig)\n",
    "    return imdata\n",
    "\n",
    "def generate_a_rectangle(noise=0.0, free_location=False):\n",
    "    figsize = 1.0    \n",
    "    U = np.zeros(4)\n",
    "    V = np.zeros(4)\n",
    "    if free_location:\n",
    "        corners = np.random.random(4)\n",
    "        top = max(corners[0], corners[1])\n",
    "        bottom = min(corners[0], corners[1])\n",
    "        left = min(corners[2], corners[3])\n",
    "        right = max(corners[2], corners[3])\n",
    "    else:\n",
    "        side = (0.3 + 0.7 * np.random.random()) * figsize\n",
    "        top = figsize/2 + side/2\n",
    "        bottom = figsize/2 - side/2\n",
    "        left = bottom\n",
    "        right = top\n",
    "    U[0] = U[1] = top\n",
    "    U[2] = U[3] = bottom\n",
    "    V[0] = V[3] = left\n",
    "    V[1] = V[2] = right\n",
    "    return generate_a_drawing(figsize, U, V, noise)\n",
    "\n",
    "\n",
    "def generate_a_disk(noise=0.0, free_location=False):\n",
    "    figsize = 1.0\n",
    "    if free_location:\n",
    "        center = np.random.random(2)\n",
    "    else:\n",
    "        center = (figsize/2, figsize/2)\n",
    "    radius = (0.3 + 0.7 * np.random.random()) * figsize/2\n",
    "    N = 50\n",
    "    U = np.zeros(N)\n",
    "    V = np.zeros(N)\n",
    "    i = 0\n",
    "    for t in np.linspace(0, 2*np.pi, N):\n",
    "        U[i] = center[0] + np.cos(t) * radius\n",
    "        V[i] = center[1] + np.sin(t) * radius\n",
    "        i = i + 1\n",
    "    return generate_a_drawing(figsize, U, V, noise)\n",
    "\n",
    "def generate_a_triangle(noise=0.0, free_location=False):\n",
    "    figsize = 1.0\n",
    "    if free_location:\n",
    "        U = np.random.random(3)\n",
    "        V = np.random.random(3)\n",
    "    else:\n",
    "        size = (0.3 + 0.7 * np.random.random())*figsize/2\n",
    "        middle = figsize/2\n",
    "        U = (middle, middle+size, middle-size)\n",
    "        V = (middle+size, middle-size, middle-size)\n",
    "    imdata = generate_a_drawing(figsize, U, V, noise)\n",
    "    return [imdata, [U[0], V[0], U[1], V[1], U[2], V[2]]]"
   ]
  },
  {
   "cell_type": "code",
   "execution_count": 2,
   "metadata": {},
   "outputs": [
    {
     "data": {
      "text/plain": [
       "<matplotlib.image.AxesImage at 0x10e6fffd0>"
      ]
     },
     "execution_count": 2,
     "metadata": {},
     "output_type": "execute_result"
    },
    {
     "data": {
      "image/png": "[encoded data removed]",
      "text/plain": [
       "<matplotlib.figure.Figure at 0x1074a00d0>"
      ]
     },
     "metadata": {},
     "output_type": "display_data"
    }
   ],
   "source": [
    "im = generate_a_rectangle(10, True)\n",
    "plt.imshow(im.reshape(72,72), cmap='gray')"
   ]
  },
  {
   "cell_type": "code",
   "execution_count": 3,
   "metadata": {},
   "outputs": [
    {
     "data": {
      "text/plain": [
       "<matplotlib.image.AxesImage at 0x10e82cc90>"
      ]
     },
     "execution_count": 3,
     "metadata": {},
     "output_type": "execute_result"
    },
    {
     "data": {
      "image/png": "[encoded data removed]",
      "text/plain": [
       "<matplotlib.figure.Figure at 0x10e6dc790>"
      ]
     },
     "metadata": {},
     "output_type": "display_data"
    }
   ],
   "source": [
    "im = generate_a_disk(10)\n",
    "plt.imshow(im.reshape(72,72), cmap='gray')"
   ]
  },
  {
   "cell_type": "code",
   "execution_count": 4,
   "metadata": {},
   "outputs": [
    {
     "data": {
      "text/plain": [
       "<matplotlib.image.AxesImage at 0x10e86d910>"
      ]
     },
     "execution_count": 4,
     "metadata": {},
     "output_type": "execute_result"
    },
    {
     "data": {
      "image/png": "[encoded data removed]",
      "text/plain": [
       "<matplotlib.figure.Figure at 0x10e7ff850>"
      ]
     },
     "metadata": {},
     "output_type": "display_data"
    }
   ],
   "source": [
    "[im, v] = generate_a_triangle(20, False)\n",
    "plt.imshow(im.reshape(72,72), cmap='gray')"
   ]
  },
  {
   "cell_type": "code",
   "execution_count": 5,
   "metadata": {
    "collapsed": true
   },
   "outputs": [],
   "source": [
    "def generate_dataset_classification(nb_samples, noise=0.0, free_location=False):\n",
    "    # Getting im_size:\n",
    "    im_size = generate_a_rectangle().shape[0]\n",
    "    X = np.zeros([nb_samples,im_size])\n",
    "    Y = np.zeros(nb_samples)\n",
    "    print('Creating data:')\n",
    "    for i in range(nb_samples):\n",
    "        if i % 10 == 0:\n",
    "            print(i)\n",
    "        category = np.random.randint(3)\n",
    "        if category == 0:\n",
    "            X[i] = generate_a_rectangle(noise, free_location)\n",
    "        elif category == 1: \n",
    "            X[i] = generate_a_disk(noise, free_location)\n",
    "        else:\n",
    "            [X[i], V] = generate_a_triangle(noise, free_location)\n",
    "        Y[i] = category\n",
    "    X = (X + noise) / (255 + 2 * noise)\n",
    "    return [X, Y] #return pixels and categorgy for as many as samples there are\n",
    "\n",
    "def generate_test_set_classification():\n",
    "    np.random.seed(42)\n",
    "    [X_test, Y_test] = generate_dataset_classification(300, 20, True)\n",
    "    Y_test = np_utils.to_categorical(Y_test, 3) \n",
    "    return [X_test, Y_test]\n",
    "\n",
    "def generate_dataset_regression(nb_samples, noise=0.0):\n",
    "    # Getting im_size:\n",
    "    im_size = generate_a_triangle()[0].shape[0]\n",
    "    X = np.zeros([nb_samples,im_size])\n",
    "    Y = np.zeros([nb_samples, 6])\n",
    "    print('Creating data:')\n",
    "    for i in range(nb_samples):\n",
    "        if i % 10 == 0:\n",
    "            print(i)\n",
    "        [X[i], Y[i]] = generate_a_triangle(noise, True)\n",
    "    X = (X + noise) / (255 + 2 * noise)\n",
    "    return [X, Y]\n",
    "\n",
    "import matplotlib.patches as patches\n",
    "\n",
    "def visualize_prediction(x, y):\n",
    "    fig, ax = plt.subplots(figsize=(5, 5))\n",
    "    I = x.reshape((72,72))\n",
    "    ax.imshow(I, extent=[-0.15,1.15,-0.15,1.15],cmap='gray')\n",
    "    ax.set_xlim([0,1])\n",
    "    ax.set_ylim([0,1])\n",
    "\n",
    "    xy = y.reshape(3,2)\n",
    "    tri = patches.Polygon(xy, closed=True, fill = False, edgecolor = 'r', linewidth = 5, alpha = 0.5)\n",
    "    ax.add_patch(tri)\n",
    "\n",
    "    plt.show()\n",
    "\n",
    "def generate_test_set_regression():\n",
    "    np.random.seed(42)\n",
    "    [X_test, Y_test] = generate_dataset_regression(300, 20)\n",
    "    Y_test = np_utils.to_categorical(Y_test, 3) \n",
    "    return [X_test, Y_test]"
   ]
  },
  {
   "cell_type": "markdown",
   "metadata": {},
   "source": [
    "## Simple Classification"
   ]
  },
  {
   "cell_type": "code",
   "execution_count": 6,
   "metadata": {},
   "outputs": [
    {
     "name": "stderr",
     "output_type": "stream",
     "text": [
      "Using TensorFlow backend.\n"
     ]
    }
   ],
   "source": [
    "import keras\n",
    "import keras.utils\n",
    "from keras import utils as np_utils\n",
    "from keras.layers import Dense\n",
    "from keras.models import Sequential\n",
    "from keras.utils import to_categorical\n",
    "from keras.models import load_model\n",
    "from keras.callbacks import EarlyStopping"
   ]
  },
  {
   "cell_type": "markdown",
   "metadata": {},
   "source": [
    "### Stochastic Gradient Descent Model"
   ]
  },
  {
   "cell_type": "code",
   "execution_count": 7,
   "metadata": {},
   "outputs": [
    {
     "name": "stdout",
     "output_type": "stream",
     "text": [
      "Creating data:\n",
      "0\n",
      "10\n",
      "20\n",
      "30\n",
      "40\n",
      "50\n",
      "60\n",
      "70\n",
      "80\n",
      "90\n",
      "100\n",
      "110\n",
      "120\n",
      "130\n",
      "140\n",
      "150\n",
      "160\n",
      "170\n",
      "180\n",
      "190\n",
      "200\n",
      "210\n",
      "220\n",
      "230\n",
      "240\n",
      "250\n",
      "260\n",
      "270\n",
      "280\n",
      "290\n"
     ]
    }
   ],
   "source": [
    "#Generate the training set\n",
    "[X_train, Y_train] = generate_dataset_classification(300, 20)"
   ]
  },
  {
   "cell_type": "code",
   "execution_count": 8,
   "metadata": {},
   "outputs": [
    {
     "data": {
      "text/plain": [
       "array([[ 0.96492439,  0.9387399 ,  0.97027331, ...,  0.95881134,\n",
       "         0.93918551,  0.97234818],\n",
       "       [ 0.93587204,  0.95998769,  0.94186368, ...,  0.97521903,\n",
       "         0.97372043,  0.97846004],\n",
       "       [ 0.99098417,  0.98940963,  0.96896974, ...,  0.98382374,\n",
       "         0.96852382,  0.9357522 ],\n",
       "       ..., \n",
       "       [ 0.99421424,  0.96782062,  0.93536704, ...,  0.96515484,\n",
       "         0.93631274,  0.98143081],\n",
       "       [ 0.99221801,  0.99896281,  0.9835832 , ...,  0.94810301,\n",
       "         0.97343487,  0.98713311],\n",
       "       [ 0.96031414,  0.93827743,  0.97663508, ...,  0.99571788,\n",
       "         0.96437165,  0.94890615]])"
      ]
     },
     "execution_count": 8,
     "metadata": {},
     "output_type": "execute_result"
    }
   ],
   "source": [
    "X_train"
   ]
  },
  {
   "cell_type": "code",
   "execution_count": 9,
   "metadata": {},
   "outputs": [
    {
     "data": {
      "text/plain": [
       "array([ 1.,  1.,  2.,  0.,  1.,  2.,  2.,  1.,  1.,  2.,  1.,  2.,  0.,\n",
       "        0.,  0.,  1.,  2.,  1.,  2.,  2.,  0.,  1.,  0.,  0.,  2.,  2.,\n",
       "        1.,  1.,  2.,  0.,  1.,  0.,  2.,  1.,  2.,  0.,  2.,  2.,  2.,\n",
       "        0.,  2.,  2.,  1.,  2.,  1.,  0.,  0.,  1.,  1.,  0.,  0.,  1.,\n",
       "        1.,  2.,  0.,  0.,  1.,  2.,  2.,  0.,  0.,  2.,  2.,  0.,  0.,\n",
       "        2.,  1.,  1.,  0.,  1.,  1.,  0.,  2.,  0.,  0.,  1.,  1.,  0.,\n",
       "        0.,  1.,  0.,  1.,  0.,  0.,  1.,  1.,  1.,  1.,  1.,  1.,  2.,\n",
       "        0.,  2.,  2.,  1.,  0.,  2.,  1.,  1.,  0.,  2.,  1.,  2.,  0.,\n",
       "        2.,  1.,  2.,  2.,  1.,  2.,  2.,  1.,  0.,  0.,  1.,  1.,  0.,\n",
       "        2.,  0.,  2.,  1.,  0.,  1.,  2.,  1.,  0.,  1.,  1.,  2.,  0.,\n",
       "        0.,  1.,  1.,  0.,  0.,  2.,  1.,  0.,  0.,  0.,  0.,  2.,  1.,\n",
       "        0.,  0.,  1.,  1.,  1.,  2.,  2.,  0.,  0.,  1.,  1.,  0.,  0.,\n",
       "        0.,  0.,  1.,  1.,  2.,  2.,  1.,  2.,  0.,  0.,  2.,  0.,  0.,\n",
       "        1.,  0.,  1.,  1.,  1.,  2.,  1.,  2.,  2.,  1.,  1.,  2.,  2.,\n",
       "        0.,  0.,  0.,  1.,  1.,  1.,  2.,  2.,  1.,  0.,  1.,  1.,  1.,\n",
       "        2.,  2.,  0.,  2.,  1.,  2.,  1.,  1.,  0.,  1.,  2.,  2.,  0.,\n",
       "        1.,  1.,  2.,  1.,  0.,  0.,  2.,  1.,  2.,  1.,  1.,  0.,  2.,\n",
       "        2.,  2.,  2.,  1.,  2.,  2.,  2.,  2.,  2.,  1.,  0.,  2.,  0.,\n",
       "        0.,  1.,  2.,  1.,  1.,  2.,  1.,  1.,  1.,  2.,  2.,  2.,  2.,\n",
       "        2.,  2.,  1.,  1.,  1.,  2.,  1.,  2.,  2.,  1.,  2.,  0.,  0.,\n",
       "        0.,  1.,  2.,  2.,  2.,  2.,  2.,  1.,  0.,  0.,  2.,  0.,  2.,\n",
       "        1.,  2.,  0.,  2.,  1.,  1.,  2.,  0.,  1.,  0.,  0.,  2.,  2.,\n",
       "        2.,  0.,  0.,  0.,  2.,  2.,  1.,  2.,  1.,  0.,  1.,  2.,  2.,  0.])"
      ]
     },
     "execution_count": 9,
     "metadata": {},
     "output_type": "execute_result"
    }
   ],
   "source": [
    "Y_train"
   ]
  },
  {
   "cell_type": "code",
   "execution_count": 10,
   "metadata": {},
   "outputs": [
    {
     "data": {
      "text/plain": [
       "<matplotlib.image.AxesImage at 0x121217d90>"
      ]
     },
     "execution_count": 10,
     "metadata": {},
     "output_type": "execute_result"
    },
    {
     "data": {
      "image/png": "[encoded data removed]",
      "text/plain": [
       "<matplotlib.figure.Figure at 0x1205e7e90>"
      ]
     },
     "metadata": {},
     "output_type": "display_data"
    }
   ],
   "source": [
    "plt.imshow(X_train[0].reshape(72,72), cmap='ocean')"
   ]
  },
  {
   "cell_type": "code",
   "execution_count": 11,
   "metadata": {},
   "outputs": [
    {
     "name": "stdout",
     "output_type": "stream",
     "text": [
      "Train on 240 samples, validate on 60 samples\n",
      "Epoch 1/100\n",
      "240/240 [==============================] - 0s 518us/step - loss: 1.2462 - acc: 0.4125 - val_loss: 1.4588 - val_acc: 0.2500\n",
      "Epoch 2/100\n",
      "240/240 [==============================] - 0s 337us/step - loss: 1.0423 - acc: 0.4250 - val_loss: 0.9918 - val_acc: 0.4667\n",
      "Epoch 3/100\n",
      "240/240 [==============================] - 0s 397us/step - loss: 1.0276 - acc: 0.4333 - val_loss: 0.8632 - val_acc: 0.6000\n",
      "Epoch 4/100\n",
      "240/240 [==============================] - 0s 269us/step - loss: 0.8900 - acc: 0.5833 - val_loss: 0.7217 - val_acc: 0.6500\n",
      "Epoch 5/100\n",
      "240/240 [==============================] - 0s 232us/step - loss: 0.8105 - acc: 0.6083 - val_loss: 0.7334 - val_acc: 0.6833\n",
      "Epoch 6/100\n",
      "240/240 [==============================] - 0s 240us/step - loss: 0.7780 - acc: 0.6333 - val_loss: 0.9022 - val_acc: 0.4667\n",
      "Epoch 7/100\n",
      "240/240 [==============================] - 0s 211us/step - loss: 0.7947 - acc: 0.6458 - val_loss: 0.6699 - val_acc: 0.6833\n",
      "Epoch 8/100\n",
      "240/240 [==============================] - 0s 246us/step - loss: 0.6695 - acc: 0.7208 - val_loss: 0.8469 - val_acc: 0.4667\n",
      "Epoch 9/100\n",
      "240/240 [==============================] - 0s 377us/step - loss: 0.6000 - acc: 0.7292 - val_loss: 0.8016 - val_acc: 0.6833\n",
      "Epoch 10/100\n",
      "240/240 [==============================] - 0s 315us/step - loss: 0.7435 - acc: 0.6458 - val_loss: 0.7726 - val_acc: 0.6833\n",
      "Epoch 11/100\n",
      "240/240 [==============================] - 0s 256us/step - loss: 0.5949 - acc: 0.6833 - val_loss: 0.5216 - val_acc: 0.7333\n",
      "Epoch 12/100\n",
      "240/240 [==============================] - 0s 252us/step - loss: 0.6092 - acc: 0.6875 - val_loss: 0.4999 - val_acc: 0.7667\n",
      "Epoch 13/100\n",
      "240/240 [==============================] - 0s 274us/step - loss: 0.6111 - acc: 0.7000 - val_loss: 0.4311 - val_acc: 0.9000\n",
      "Epoch 14/100\n",
      "240/240 [==============================] - 0s 254us/step - loss: 0.5844 - acc: 0.7333 - val_loss: 0.5403 - val_acc: 0.7500\n",
      "Epoch 15/100\n",
      "240/240 [==============================] - 0s 254us/step - loss: 0.4737 - acc: 0.7792 - val_loss: 0.5017 - val_acc: 0.7500\n",
      "Epoch 16/100\n",
      "240/240 [==============================] - 0s 327us/step - loss: 0.6585 - acc: 0.7667 - val_loss: 2.0494 - val_acc: 0.2833\n",
      "Epoch 17/100\n",
      "240/240 [==============================] - 0s 278us/step - loss: 0.8154 - acc: 0.6250 - val_loss: 0.5125 - val_acc: 0.8167\n",
      "Epoch 18/100\n",
      "240/240 [==============================] - 0s 253us/step - loss: 0.4867 - acc: 0.8208 - val_loss: 0.4868 - val_acc: 0.8000\n",
      "Epoch 19/100\n",
      "240/240 [==============================] - 0s 235us/step - loss: 0.5531 - acc: 0.7500 - val_loss: 0.3968 - val_acc: 0.8167\n",
      "Epoch 20/100\n",
      "240/240 [==============================] - 0s 214us/step - loss: 0.4000 - acc: 0.8042 - val_loss: 0.3236 - val_acc: 0.9167\n",
      "Epoch 21/100\n",
      "240/240 [==============================] - 0s 247us/step - loss: 0.3723 - acc: 0.8458 - val_loss: 0.7229 - val_acc: 0.7167\n",
      "Epoch 22/100\n",
      "240/240 [==============================] - 0s 213us/step - loss: 0.5961 - acc: 0.6833 - val_loss: 0.3323 - val_acc: 0.8500\n",
      "Epoch 23/100\n",
      "240/240 [==============================] - 0s 274us/step - loss: 0.3486 - acc: 0.8708 - val_loss: 0.2962 - val_acc: 0.8333\n",
      "Epoch 24/100\n",
      "240/240 [==============================] - 0s 277us/step - loss: 0.4778 - acc: 0.7750 - val_loss: 0.6017 - val_acc: 0.8000\n",
      "Epoch 25/100\n",
      "240/240 [==============================] - 0s 338us/step - loss: 0.3801 - acc: 0.8500 - val_loss: 0.7752 - val_acc: 0.7000\n",
      "Epoch 26/100\n",
      "240/240 [==============================] - 0s 294us/step - loss: 0.4891 - acc: 0.7417 - val_loss: 0.2861 - val_acc: 0.9000\n",
      "Epoch 27/100\n",
      "240/240 [==============================] - 0s 318us/step - loss: 0.3362 - acc: 0.8250 - val_loss: 0.3531 - val_acc: 0.8000\n",
      "Epoch 28/100\n",
      "240/240 [==============================] - 0s 330us/step - loss: 0.4189 - acc: 0.7875 - val_loss: 0.2759 - val_acc: 0.8333\n",
      "Epoch 29/100\n",
      "240/240 [==============================] - 0s 256us/step - loss: 0.3498 - acc: 0.7917 - val_loss: 0.2979 - val_acc: 0.9167\n",
      "Epoch 30/100\n",
      "240/240 [==============================] - 0s 314us/step - loss: 0.3259 - acc: 0.8750 - val_loss: 0.2304 - val_acc: 0.9333\n",
      "Epoch 31/100\n",
      "240/240 [==============================] - 0s 340us/step - loss: 0.3045 - acc: 0.8667 - val_loss: 0.2680 - val_acc: 0.9000\n",
      "Epoch 32/100\n",
      "240/240 [==============================] - 0s 325us/step - loss: 0.3041 - acc: 0.8708 - val_loss: 0.6546 - val_acc: 0.7000\n",
      "Epoch 33/100\n",
      "240/240 [==============================] - 0s 294us/step - loss: 0.3214 - acc: 0.8708 - val_loss: 0.3267 - val_acc: 0.8500\n",
      "Epoch 34/100\n",
      "240/240 [==============================] - 0s 393us/step - loss: 0.3580 - acc: 0.7917 - val_loss: 0.3364 - val_acc: 0.8167\n",
      "Epoch 35/100\n",
      "240/240 [==============================] - 0s 412us/step - loss: 0.3306 - acc: 0.8167 - val_loss: 0.2225 - val_acc: 0.9333\n",
      "Epoch 36/100\n",
      "240/240 [==============================] - 0s 336us/step - loss: 0.3146 - acc: 0.8333 - val_loss: 0.2177 - val_acc: 0.9333\n",
      "Epoch 37/100\n",
      "240/240 [==============================] - 0s 286us/step - loss: 0.2508 - acc: 0.9125 - val_loss: 0.4883 - val_acc: 0.6833\n",
      "Epoch 38/100\n",
      "240/240 [==============================] - 0s 222us/step - loss: 0.3654 - acc: 0.8333 - val_loss: 0.2566 - val_acc: 0.9000\n",
      "Epoch 39/100\n",
      "240/240 [==============================] - 0s 221us/step - loss: 0.2964 - acc: 0.9000 - val_loss: 0.7870 - val_acc: 0.7500\n",
      "Epoch 40/100\n",
      "240/240 [==============================] - 0s 340us/step - loss: 0.4189 - acc: 0.8292 - val_loss: 0.2958 - val_acc: 0.8167\n",
      "Epoch 41/100\n",
      "240/240 [==============================] - 0s 303us/step - loss: 0.2679 - acc: 0.8958 - val_loss: 0.1978 - val_acc: 0.9333\n",
      "Epoch 42/100\n",
      "240/240 [==============================] - 0s 296us/step - loss: 0.3223 - acc: 0.8417 - val_loss: 0.2511 - val_acc: 0.8333\n",
      "Epoch 43/100\n",
      "240/240 [==============================] - 0s 287us/step - loss: 0.2495 - acc: 0.8875 - val_loss: 0.5040 - val_acc: 0.7833\n",
      "Epoch 44/100\n",
      "240/240 [==============================] - 0s 324us/step - loss: 0.2750 - acc: 0.8667 - val_loss: 0.4013 - val_acc: 0.8167\n",
      "Epoch 45/100\n",
      "240/240 [==============================] - 0s 293us/step - loss: 0.3863 - acc: 0.8208 - val_loss: 0.2160 - val_acc: 0.8333\n",
      "Epoch 46/100\n",
      "240/240 [==============================] - 0s 275us/step - loss: 0.2856 - acc: 0.8250 - val_loss: 0.1969 - val_acc: 0.9333\n",
      "Epoch 47/100\n",
      "240/240 [==============================] - 0s 284us/step - loss: 0.3078 - acc: 0.8292 - val_loss: 0.2010 - val_acc: 0.8833\n",
      "Epoch 48/100\n",
      "240/240 [==============================] - 0s 266us/step - loss: 0.2597 - acc: 0.8667 - val_loss: 0.1645 - val_acc: 0.9833\n",
      "Epoch 49/100\n",
      "240/240 [==============================] - 0s 259us/step - loss: 0.1831 - acc: 0.9500 - val_loss: 0.8057 - val_acc: 0.7000\n",
      "Epoch 50/100\n",
      "240/240 [==============================] - 0s 310us/step - loss: 0.2708 - acc: 0.8958 - val_loss: 0.5742 - val_acc: 0.7167\n",
      "Epoch 51/100\n",
      "240/240 [==============================] - 0s 272us/step - loss: 0.3525 - acc: 0.8500 - val_loss: 0.1740 - val_acc: 0.9333\n",
      "Epoch 52/100\n",
      "240/240 [==============================] - 0s 248us/step - loss: 0.1624 - acc: 0.9458 - val_loss: 0.8738 - val_acc: 0.7167\n",
      "Epoch 53/100\n",
      "240/240 [==============================] - 0s 267us/step - loss: 0.3668 - acc: 0.8542 - val_loss: 0.2517 - val_acc: 0.8500\n",
      "Epoch 54/100\n",
      "240/240 [==============================] - 0s 286us/step - loss: 0.2216 - acc: 0.9167 - val_loss: 0.3883 - val_acc: 0.8333\n",
      "Epoch 55/100\n",
      "240/240 [==============================] - 0s 321us/step - loss: 0.1901 - acc: 0.9250 - val_loss: 0.5439 - val_acc: 0.8000\n",
      "Epoch 56/100\n",
      "240/240 [==============================] - 0s 281us/step - loss: 0.3380 - acc: 0.8375 - val_loss: 0.1569 - val_acc: 0.9667\n",
      "Epoch 57/100\n",
      "240/240 [==============================] - 0s 285us/step - loss: 0.1573 - acc: 0.9417 - val_loss: 0.2810 - val_acc: 0.8500\n",
      "Epoch 58/100\n",
      "240/240 [==============================] - 0s 303us/step - loss: 0.3360 - acc: 0.8583 - val_loss: 0.1624 - val_acc: 0.9667\n",
      "Epoch 59/100\n",
      "240/240 [==============================] - 0s 297us/step - loss: 0.1947 - acc: 0.9167 - val_loss: 0.1641 - val_acc: 0.9333\n",
      "Epoch 60/100\n",
      "240/240 [==============================] - 0s 293us/step - loss: 0.4130 - acc: 0.8292 - val_loss: 0.2030 - val_acc: 0.9667\n"
     ]
    },
    {
     "name": "stdout",
     "output_type": "stream",
     "text": [
      "Epoch 61/100\n",
      "240/240 [==============================] - 0s 289us/step - loss: 0.1888 - acc: 0.9625 - val_loss: 0.3640 - val_acc: 0.8167\n",
      "Epoch 62/100\n",
      "240/240 [==============================] - 0s 248us/step - loss: 0.2387 - acc: 0.8708 - val_loss: 0.2717 - val_acc: 0.8500\n",
      "Epoch 63/100\n",
      "240/240 [==============================] - 0s 346us/step - loss: 0.2988 - acc: 0.8708 - val_loss: 0.1712 - val_acc: 0.9000\n",
      "Epoch 64/100\n",
      "240/240 [==============================] - 0s 348us/step - loss: 0.1594 - acc: 0.9208 - val_loss: 0.6147 - val_acc: 0.8167\n",
      "Epoch 65/100\n",
      "240/240 [==============================] - 0s 328us/step - loss: 0.2296 - acc: 0.9042 - val_loss: 0.1904 - val_acc: 0.9167\n",
      "Epoch 66/100\n",
      "240/240 [==============================] - 0s 335us/step - loss: 0.3223 - acc: 0.8542 - val_loss: 0.3179 - val_acc: 0.8500\n",
      "Epoch 67/100\n",
      "240/240 [==============================] - 0s 294us/step - loss: 0.1730 - acc: 0.9500 - val_loss: 0.1722 - val_acc: 0.9000\n",
      "Epoch 68/100\n",
      "240/240 [==============================] - 0s 292us/step - loss: 0.2131 - acc: 0.8875 - val_loss: 0.1221 - val_acc: 0.9667\n",
      "Epoch 69/100\n",
      "240/240 [==============================] - 0s 317us/step - loss: 0.2751 - acc: 0.8750 - val_loss: 0.3810 - val_acc: 0.8000\n",
      "Epoch 70/100\n",
      "240/240 [==============================] - 0s 294us/step - loss: 0.1878 - acc: 0.9042 - val_loss: 0.1306 - val_acc: 0.9333\n",
      "Epoch 71/100\n",
      "240/240 [==============================] - 0s 313us/step - loss: 0.1329 - acc: 0.9417 - val_loss: 0.1138 - val_acc: 0.9667\n",
      "Epoch 72/100\n",
      "240/240 [==============================] - 0s 272us/step - loss: 0.0978 - acc: 0.9833 - val_loss: 0.1043 - val_acc: 0.9667\n",
      "Epoch 73/100\n",
      "240/240 [==============================] - 0s 319us/step - loss: 0.3595 - acc: 0.8625 - val_loss: 0.2215 - val_acc: 0.8500\n",
      "Epoch 74/100\n",
      "240/240 [==============================] - 0s 323us/step - loss: 0.2219 - acc: 0.8750 - val_loss: 0.2150 - val_acc: 0.9000\n",
      "Epoch 75/100\n",
      "240/240 [==============================] - 0s 309us/step - loss: 0.2084 - acc: 0.9083 - val_loss: 0.2119 - val_acc: 0.9000\n",
      "Epoch 76/100\n",
      "240/240 [==============================] - 0s 276us/step - loss: 0.1205 - acc: 0.9583 - val_loss: 0.4375 - val_acc: 0.8167\n",
      "Epoch 77/100\n",
      "240/240 [==============================] - 0s 291us/step - loss: 0.5238 - acc: 0.8125 - val_loss: 0.1495 - val_acc: 0.9333\n",
      "Epoch 78/100\n",
      "240/240 [==============================] - 0s 325us/step - loss: 0.1141 - acc: 0.9583 - val_loss: 0.1248 - val_acc: 0.9167\n",
      "Epoch 79/100\n",
      "240/240 [==============================] - 0s 284us/step - loss: 0.2882 - acc: 0.8792 - val_loss: 0.1244 - val_acc: 0.9167\n",
      "Epoch 80/100\n",
      "240/240 [==============================] - 0s 269us/step - loss: 0.1234 - acc: 0.9625 - val_loss: 0.2935 - val_acc: 0.9000\n",
      "Epoch 81/100\n",
      "240/240 [==============================] - 0s 288us/step - loss: 0.1195 - acc: 0.9542 - val_loss: 0.0955 - val_acc: 0.9667\n",
      "Epoch 82/100\n",
      "240/240 [==============================] - 0s 257us/step - loss: 0.0843 - acc: 0.9833 - val_loss: 0.0857 - val_acc: 0.9667\n",
      "Epoch 83/100\n",
      "240/240 [==============================] - 0s 283us/step - loss: 0.1205 - acc: 0.9583 - val_loss: 0.4277 - val_acc: 0.8500\n",
      "Epoch 84/100\n",
      "240/240 [==============================] - 0s 279us/step - loss: 0.1858 - acc: 0.9375 - val_loss: 0.1645 - val_acc: 0.9333\n",
      "Epoch 85/100\n",
      "240/240 [==============================] - 0s 327us/step - loss: 0.0788 - acc: 0.9833 - val_loss: 0.1653 - val_acc: 0.9000\n",
      "Epoch 86/100\n",
      "240/240 [==============================] - 0s 277us/step - loss: 0.9835 - acc: 0.6542 - val_loss: 1.4807 - val_acc: 0.4333\n",
      "Epoch 87/100\n",
      "240/240 [==============================] - 0s 236us/step - loss: 2.3743 - acc: 0.6125 - val_loss: 0.2152 - val_acc: 0.9000\n",
      "Epoch 88/100\n",
      "240/240 [==============================] - 0s 253us/step - loss: 0.1889 - acc: 0.9250 - val_loss: 0.1484 - val_acc: 0.9667\n",
      "Epoch 89/100\n",
      "240/240 [==============================] - 0s 298us/step - loss: 0.1455 - acc: 0.9583 - val_loss: 0.2243 - val_acc: 0.9000\n",
      "Epoch 90/100\n",
      "240/240 [==============================] - 0s 280us/step - loss: 0.1593 - acc: 0.9417 - val_loss: 0.1661 - val_acc: 0.9000\n",
      "Epoch 91/100\n",
      "240/240 [==============================] - 0s 294us/step - loss: 0.2077 - acc: 0.8917 - val_loss: 0.1213 - val_acc: 0.9333\n",
      "Epoch 92/100\n",
      "240/240 [==============================] - 0s 312us/step - loss: 0.1039 - acc: 0.9667 - val_loss: 0.1761 - val_acc: 0.9167\n",
      "Epoch 93/100\n",
      "240/240 [==============================] - 0s 265us/step - loss: 0.4131 - acc: 0.8375 - val_loss: 0.2519 - val_acc: 0.9000\n",
      "Epoch 94/100\n",
      "240/240 [==============================] - 0s 281us/step - loss: 0.1290 - acc: 0.9500 - val_loss: 0.1537 - val_acc: 0.9333\n",
      "Epoch 95/100\n",
      "240/240 [==============================] - 0s 336us/step - loss: 0.1086 - acc: 0.9750 - val_loss: 0.1029 - val_acc: 0.9833\n",
      "Epoch 96/100\n",
      "240/240 [==============================] - 0s 287us/step - loss: 0.1195 - acc: 0.9708 - val_loss: 0.0921 - val_acc: 0.9667\n",
      "Epoch 97/100\n",
      "240/240 [==============================] - 0s 290us/step - loss: 0.0931 - acc: 0.9708 - val_loss: 0.1283 - val_acc: 0.9333\n",
      "Epoch 98/100\n",
      "240/240 [==============================] - 0s 290us/step - loss: 0.0748 - acc: 0.9833 - val_loss: 0.1010 - val_acc: 0.9667\n",
      "Epoch 99/100\n",
      "240/240 [==============================] - 0s 296us/step - loss: 0.1021 - acc: 0.9708 - val_loss: 1.1369 - val_acc: 0.7000\n",
      "Epoch 100/100\n",
      "240/240 [==============================] - 0s 308us/step - loss: 0.2740 - acc: 0.8958 - val_loss: 0.0869 - val_acc: 0.9833\n"
     ]
    },
    {
     "data": {
      "text/plain": [
       "<keras.callbacks.History at 0x1213e6fd0>"
      ]
     },
     "execution_count": 11,
     "metadata": {},
     "output_type": "execute_result"
    }
   ],
   "source": [
    "#Loading model\n",
    "model_1= Sequential()\n",
    "\n",
    "#Loading input\n",
    "input_shape=(X_train.shape[1],)\n",
    "\n",
    "#Loading layers\n",
    "model_1.add(Dense(100,activation = \"relu\",input_shape = input_shape))\n",
    "model_1.add(Dense(100,activation = \"relu\"))\n",
    "model_1.add(Dense(3,activation = \"softmax\"))\n",
    "\n",
    "#Compiling model with default learning rate of 0.01\n",
    "model_1.compile(optimizer=\"sgd\",loss='categorical_crossentropy', metrics = ['accuracy'])\n",
    "\n",
    "#Fitting model\n",
    "target = to_categorical(Y_train)\n",
    "model_1.fit(X_train, target,validation_split =0.2, epochs = 100)#, callbacks= [early_stopping_monitor])"
   ]
  },
  {
   "cell_type": "code",
   "execution_count": 12,
   "metadata": {},
   "outputs": [
    {
     "name": "stdout",
     "output_type": "stream",
     "text": [
      "Train on 240 samples, validate on 60 samples\n",
      "Epoch 1/30\n",
      "240/240 [==============================] - 0s 677us/step - loss: 2.0976 - acc: 0.4125 - val_loss: 0.8963 - val_acc: 0.6000\n",
      "Epoch 2/30\n",
      "240/240 [==============================] - 0s 322us/step - loss: 0.8265 - acc: 0.6042 - val_loss: 0.6657 - val_acc: 0.7500\n",
      "Epoch 3/30\n",
      "240/240 [==============================] - 0s 416us/step - loss: 0.6789 - acc: 0.6208 - val_loss: 0.4242 - val_acc: 0.7833\n",
      "Epoch 4/30\n",
      "240/240 [==============================] - 0s 499us/step - loss: 0.5724 - acc: 0.6875 - val_loss: 0.4998 - val_acc: 0.7500\n",
      "Epoch 5/30\n",
      "240/240 [==============================] - 0s 419us/step - loss: 0.6130 - acc: 0.6708 - val_loss: 0.3733 - val_acc: 0.9333\n",
      "Epoch 6/30\n",
      "240/240 [==============================] - 0s 390us/step - loss: 0.3895 - acc: 0.8458 - val_loss: 0.3214 - val_acc: 0.9333\n",
      "Epoch 7/30\n",
      "240/240 [==============================] - 0s 402us/step - loss: 0.3614 - acc: 0.8625 - val_loss: 0.3147 - val_acc: 0.8667\n",
      "Epoch 8/30\n",
      "240/240 [==============================] - 0s 432us/step - loss: 0.3347 - acc: 0.8583 - val_loss: 0.3035 - val_acc: 0.8000\n",
      "Epoch 9/30\n",
      "240/240 [==============================] - 0s 399us/step - loss: 0.3003 - acc: 0.9000 - val_loss: 0.2808 - val_acc: 0.9167\n",
      "Epoch 10/30\n",
      "240/240 [==============================] - 0s 412us/step - loss: 0.2767 - acc: 0.9417 - val_loss: 0.2464 - val_acc: 0.8500\n",
      "Epoch 11/30\n",
      "240/240 [==============================] - 0s 413us/step - loss: 0.2807 - acc: 0.8833 - val_loss: 0.2639 - val_acc: 0.8500\n",
      "Epoch 12/30\n",
      "240/240 [==============================] - 0s 396us/step - loss: 0.2485 - acc: 0.8833 - val_loss: 0.1888 - val_acc: 0.9833\n",
      "Epoch 13/30\n",
      "240/240 [==============================] - 0s 380us/step - loss: 0.1999 - acc: 0.9792 - val_loss: 0.1688 - val_acc: 0.9667\n",
      "Epoch 14/30\n",
      "240/240 [==============================] - 0s 375us/step - loss: 0.1755 - acc: 0.9792 - val_loss: 0.1514 - val_acc: 0.9667\n",
      "Epoch 15/30\n",
      "240/240 [==============================] - 0s 420us/step - loss: 0.1809 - acc: 0.9583 - val_loss: 0.1895 - val_acc: 0.9333\n",
      "Epoch 16/30\n",
      "240/240 [==============================] - 0s 387us/step - loss: 0.1994 - acc: 0.9208 - val_loss: 0.2359 - val_acc: 0.8667\n",
      "Epoch 17/30\n",
      "240/240 [==============================] - 0s 388us/step - loss: 0.1552 - acc: 0.9417 - val_loss: 0.1984 - val_acc: 0.9000\n",
      "Epoch 18/30\n",
      "240/240 [==============================] - 0s 397us/step - loss: 0.1464 - acc: 0.9583 - val_loss: 0.2825 - val_acc: 0.8500\n",
      "Epoch 19/30\n",
      "240/240 [==============================] - 0s 402us/step - loss: 0.1824 - acc: 0.9167 - val_loss: 0.2259 - val_acc: 0.9000\n",
      "Epoch 20/30\n",
      "240/240 [==============================] - 0s 401us/step - loss: 0.1330 - acc: 0.9750 - val_loss: 0.1685 - val_acc: 0.9333\n",
      "Epoch 21/30\n",
      "240/240 [==============================] - 0s 366us/step - loss: 0.1062 - acc: 0.9833 - val_loss: 0.1461 - val_acc: 0.9333\n",
      "Epoch 22/30\n",
      "240/240 [==============================] - 0s 395us/step - loss: 0.0779 - acc: 0.9917 - val_loss: 0.0771 - val_acc: 0.9833\n",
      "Epoch 23/30\n",
      "240/240 [==============================] - 0s 384us/step - loss: 0.0609 - acc: 0.9958 - val_loss: 0.0848 - val_acc: 0.9833\n",
      "Epoch 24/30\n",
      "240/240 [==============================] - 0s 311us/step - loss: 0.0544 - acc: 1.0000 - val_loss: 0.0589 - val_acc: 0.9833\n",
      "Epoch 25/30\n",
      "240/240 [==============================] - 0s 413us/step - loss: 0.0507 - acc: 1.0000 - val_loss: 0.0542 - val_acc: 1.0000\n",
      "Epoch 26/30\n",
      "240/240 [==============================] - 0s 407us/step - loss: 0.0447 - acc: 0.9958 - val_loss: 0.0509 - val_acc: 0.9833\n",
      "Epoch 27/30\n",
      "240/240 [==============================] - 0s 407us/step - loss: 0.0389 - acc: 1.0000 - val_loss: 0.0466 - val_acc: 0.9833\n",
      "Epoch 28/30\n",
      "240/240 [==============================] - 0s 409us/step - loss: 0.0384 - acc: 1.0000 - val_loss: 0.0517 - val_acc: 0.9833\n",
      "Epoch 29/30\n",
      "240/240 [==============================] - 0s 395us/step - loss: 0.0352 - acc: 1.0000 - val_loss: 0.0633 - val_acc: 0.9833\n",
      "Epoch 30/30\n",
      "240/240 [==============================] - 0s 382us/step - loss: 0.0324 - acc: 1.0000 - val_loss: 0.0420 - val_acc: 0.9833\n"
     ]
    },
    {
     "data": {
      "text/plain": [
       "<keras.callbacks.History at 0x108892fd0>"
      ]
     },
     "execution_count": 12,
     "metadata": {},
     "output_type": "execute_result"
    }
   ],
   "source": [
    "#Loading model\n",
    "model_2= Sequential()\n",
    "\n",
    "#Loading input\n",
    "input_shape=(X_train.shape[1],)\n",
    "\n",
    "#Loading layers - 1 hidden layer chosen here\n",
    "model_2.add(Dense(100,activation = \"relu\",input_shape = input_shape))\n",
    "model_2.add(Dense(100,activation = \"relu\"))\n",
    "model_2.add(Dense(3,activation = \"softmax\"))\n",
    "\n",
    "#Compiling model\n",
    "model_2.compile(optimizer=\"adam\",loss='categorical_crossentropy', metrics = ['accuracy'])#for classification, loss='categorical_crossentropy'\n",
    "\n",
    "# Optional - Defining patience of the model\n",
    "#early_stopping_monitor = EarlyStopping(patience = 6)\n",
    "\n",
    "#Fitting model\n",
    "target = to_categorical(Y_train)\n",
    "model_2.fit(X_train, target, validation_split = 0.2, epochs = 30, batch_size= 32)#, callbacks= [early_stopping_monitor])"
   ]
  },
  {
   "cell_type": "code",
   "execution_count": 13,
   "metadata": {},
   "outputs": [
    {
     "data": {
      "text/plain": [
       "array([[ 1.,  0.,  0.]], dtype=float32)"
      ]
     },
     "execution_count": 13,
     "metadata": {},
     "output_type": "execute_result"
    }
   ],
   "source": [
    "# Testing\n",
    "X_test = generate_a_rectangle()\n",
    "X_test = X_test.reshape(1, X_test.shape[0])\n",
    "model_1.predict(X_test)"
   ]
  },
  {
   "cell_type": "code",
   "execution_count": 14,
   "metadata": {},
   "outputs": [
    {
     "data": {
      "text/plain": [
       "array([[ 1.,  0.,  0.]], dtype=float32)"
      ]
     },
     "execution_count": 14,
     "metadata": {},
     "output_type": "execute_result"
    }
   ],
   "source": [
    "model_2.predict(X_test)"
   ]
  },
  {
   "cell_type": "code",
   "execution_count": 22,
   "metadata": {},
   "outputs": [
    {
     "data": {
      "text/plain": [
       "((5184, 100), (100,), (100, 100), (100,), (100, 3), (3,))"
      ]
     },
     "execution_count": 22,
     "metadata": {},
     "output_type": "execute_result"
    }
   ],
   "source": [
    "model_1.get_weights()[0].shape,model_1.get_weights()[1].shape,model_1.get_weights()[2].shape,model_1.get_weights()[3].shape,model_1.get_weights()[4].shape,model_1.get_weights()[5].shape"
   ]
  },
  {
   "cell_type": "markdown",
   "metadata": {},
   "source": [
    "## Visualization of the Solution"
   ]
  },
  {
   "cell_type": "markdown",
   "metadata": {},
   "source": [
    "### Stochastic Gradient Descent"
   ]
  },
  {
   "cell_type": "code",
   "execution_count": 23,
   "metadata": {},
   "outputs": [],
   "source": [
    "[weights_1,weights_2,weights_3,weights_4,weights_5,weights_6_sgd] = model_1.get_weights()"
   ]
  },
  {
   "cell_type": "code",
   "execution_count": 24,
   "metadata": {
    "collapsed": true
   },
   "outputs": [],
   "source": [
    "dot_sgd = np.dot(weights_1,weights_3)\n",
    "total_dot_sgd = np.dot(dot_sgd,weights_5)\n",
    "sgd_shape = total_dot_sgd.reshape(72,72,-1)"
   ]
  },
  {
   "cell_type": "code",
   "execution_count": 25,
   "metadata": {},
   "outputs": [
    {
     "data": {
      "text/plain": [
       "<matplotlib.image.AxesImage at 0x108aaad90>"
      ]
     },
     "execution_count": 25,
     "metadata": {},
     "output_type": "execute_result"
    },
    {
     "data": {
      "image/png": "[encoded data removed]",
      "text/plain": [
       "<matplotlib.figure.Figure at 0x108a7df90>"
      ]
     },
     "metadata": {},
     "output_type": "display_data"
    }
   ],
   "source": [
    "plt.imshow(sgd_shape[:,:,0] , cmap='plasma')"
   ]
  },
  {
   "cell_type": "code",
   "execution_count": 26,
   "metadata": {},
   "outputs": [
    {
     "data": {
      "text/plain": [
       "<matplotlib.image.AxesImage at 0x11a741450>"
      ]
     },
     "execution_count": 26,
     "metadata": {},
     "output_type": "execute_result"
    },
    {
     "data": {
      "image/png": "[encoded data removed]",
      "text/plain": [
       "<matplotlib.figure.Figure at 0x119dd8c90>"
      ]
     },
     "metadata": {},
     "output_type": "display_data"
    }
   ],
   "source": [
    "plt.imshow(sgd_shape[:,:,1] , cmap='plasma')"
   ]
  },
  {
   "cell_type": "code",
   "execution_count": 27,
   "metadata": {},
   "outputs": [
    {
     "data": {
      "text/plain": [
       "<matplotlib.image.AxesImage at 0x11a827c90>"
      ]
     },
     "execution_count": 27,
     "metadata": {},
     "output_type": "execute_result"
    },
    {
     "data": {
      "image/png": "[encoded data removed]",
      "text/plain": [
       "<matplotlib.figure.Figure at 0x11a75f450>"
      ]
     },
     "metadata": {},
     "output_type": "display_data"
    }
   ],
   "source": [
    "plt.imshow(sgd_shape[:,:,2] , cmap='plasma')"
   ]
  },
  {
   "cell_type": "markdown",
   "metadata": {},
   "source": [
    "### Adam\n"
   ]
  },
  {
   "cell_type": "code",
   "execution_count": 28,
   "metadata": {
    "collapsed": true
   },
   "outputs": [],
   "source": [
    "[weights_1,weights_2,weights_3,weights_4,weights_5,weights_6_sgd] = model_2.get_weights()"
   ]
  },
  {
   "cell_type": "code",
   "execution_count": 29,
   "metadata": {
    "collapsed": true
   },
   "outputs": [],
   "source": [
    "dot_adam = np.dot(weights_1,weights_3)\n",
    "total_dot_adam = np.dot(dot_adam,weights_5)\n",
    "adam_shape = total_dot_adam.reshape(72,72,-1)"
   ]
  },
  {
   "cell_type": "code",
   "execution_count": 30,
   "metadata": {},
   "outputs": [
    {
     "data": {
      "text/plain": [
       "<matplotlib.image.AxesImage at 0x11a8bc490>"
      ]
     },
     "execution_count": 30,
     "metadata": {},
     "output_type": "execute_result"
    },
    {
     "data": {
      "image/png": "[encoded data removed]",
      "text/plain": [
       "<matplotlib.figure.Figure at 0x11a845850>"
      ]
     },
     "metadata": {},
     "output_type": "display_data"
    }
   ],
   "source": [
    "plt.imshow(adam_shape[:,:,0] , cmap='inferno')"
   ]
  },
  {
   "cell_type": "code",
   "execution_count": 31,
   "metadata": {},
   "outputs": [
    {
     "data": {
      "text/plain": [
       "<matplotlib.image.AxesImage at 0x1235bfc90>"
      ]
     },
     "execution_count": 31,
     "metadata": {},
     "output_type": "execute_result"
    },
    {
     "data": {
      "image/png": "[encoded data removed]",
      "text/plain": [
       "<matplotlib.figure.Figure at 0x121230d90>"
      ]
     },
     "metadata": {},
     "output_type": "display_data"
    }
   ],
   "source": [
    "plt.imshow(adam_shape[:,:,1] , cmap='inferno')"
   ]
  },
  {
   "cell_type": "code",
   "execution_count": 32,
   "metadata": {},
   "outputs": [
    {
     "data": {
      "text/plain": [
       "<matplotlib.image.AxesImage at 0x1236b14d0>"
      ]
     },
     "execution_count": 32,
     "metadata": {},
     "output_type": "execute_result"
    },
    {
     "data": {
      "image/png": "[encoded data removed]",
      "text/plain": [
       "<matplotlib.figure.Figure at 0x1235fb910>"
      ]
     },
     "metadata": {},
     "output_type": "display_data"
    }
   ],
   "source": [
    "plt.imshow(adam_shape[:,:,2] , cmap='inferno')"
   ]
  },
  {
   "cell_type": "markdown",
   "metadata": {},
   "source": [
    "## A More Difficult Classification Problem"
   ]
  },
  {
   "cell_type": "code",
   "execution_count": 33,
   "metadata": {
    "collapsed": true
   },
   "outputs": [],
   "source": [
    "from keras.layers import Conv2D, MaxPooling2D\n",
    "from keras.layers.normalization import BatchNormalization\n",
    "from keras.layers.advanced_activations import LeakyReLU"
   ]
  },
  {
   "cell_type": "code",
   "execution_count": 42,
   "metadata": {
    "collapsed": true
   },
   "outputs": [],
   "source": [
    "%%capture\n",
    "#Generating a new training and a testing set, bigger than the original one\n",
    "[new_X_train, new_Y_train] = generate_dataset_classification(600, 20, True)\n",
    "[new_X_test, new_Y_test] = generate_test_set_classification()"
   ]
  },
  {
   "cell_type": "code",
   "execution_count": 43,
   "metadata": {},
   "outputs": [
    {
     "data": {
      "text/plain": [
       "((600, 5184), (600,), (300, 5184), (300, 3))"
      ]
     },
     "execution_count": 43,
     "metadata": {},
     "output_type": "execute_result"
    }
   ],
   "source": [
    "new_X_train.shape,new_Y_train.shape, new_X_test.shape, new_Y_test.shape"
   ]
  },
  {
   "cell_type": "code",
   "execution_count": 44,
   "metadata": {},
   "outputs": [
    {
     "name": "stdout",
     "output_type": "stream",
     "text": [
      "Train on 480 samples, validate on 120 samples\n",
      "Epoch 1/100\n",
      "480/480 [==============================] - 1s 1ms/step - loss: 1.2729 - acc: 0.3021 - val_loss: 1.1114 - val_acc: 0.3000\n",
      "Epoch 2/100\n",
      "480/480 [==============================] - 0s 439us/step - loss: 1.1136 - acc: 0.3771 - val_loss: 1.0557 - val_acc: 0.4417\n",
      "Epoch 3/100\n",
      "480/480 [==============================] - 0s 433us/step - loss: 1.1380 - acc: 0.3063 - val_loss: 1.1630 - val_acc: 0.2750\n",
      "Epoch 4/100\n",
      "480/480 [==============================] - 0s 436us/step - loss: 1.0630 - acc: 0.4042 - val_loss: 1.0648 - val_acc: 0.3667\n",
      "Epoch 5/100\n",
      "480/480 [==============================] - 0s 455us/step - loss: 0.9919 - acc: 0.4583 - val_loss: 1.1070 - val_acc: 0.4500\n",
      "Epoch 6/100\n",
      "480/480 [==============================] - 0s 408us/step - loss: 0.9095 - acc: 0.5417 - val_loss: 0.8866 - val_acc: 0.5500\n",
      "Epoch 7/100\n",
      "480/480 [==============================] - 0s 442us/step - loss: 0.8945 - acc: 0.5125 - val_loss: 0.8950 - val_acc: 0.6167\n",
      "Epoch 8/100\n",
      "480/480 [==============================] - 0s 395us/step - loss: 0.8997 - acc: 0.5271 - val_loss: 0.8737 - val_acc: 0.5917\n",
      "Epoch 9/100\n",
      "480/480 [==============================] - 0s 451us/step - loss: 0.8738 - acc: 0.5687 - val_loss: 0.7658 - val_acc: 0.6167\n",
      "Epoch 10/100\n",
      "480/480 [==============================] - 0s 425us/step - loss: 0.8078 - acc: 0.5667 - val_loss: 0.8686 - val_acc: 0.5333\n",
      "Epoch 11/100\n",
      "480/480 [==============================] - 0s 445us/step - loss: 0.7910 - acc: 0.6042 - val_loss: 0.7746 - val_acc: 0.6167\n",
      "Epoch 12/100\n",
      "480/480 [==============================] - 0s 444us/step - loss: 0.7448 - acc: 0.6083 - val_loss: 0.7550 - val_acc: 0.6333\n",
      "Epoch 13/100\n",
      "480/480 [==============================] - 0s 433us/step - loss: 0.7558 - acc: 0.5833 - val_loss: 0.7468 - val_acc: 0.6167\n",
      "Epoch 14/100\n",
      "480/480 [==============================] - 0s 450us/step - loss: 0.7989 - acc: 0.5792 - val_loss: 0.8656 - val_acc: 0.5833\n",
      "Epoch 15/100\n",
      "480/480 [==============================] - 0s 451us/step - loss: 0.8687 - acc: 0.5521 - val_loss: 0.9705 - val_acc: 0.4667\n",
      "Epoch 16/100\n",
      "480/480 [==============================] - 0s 435us/step - loss: 0.7676 - acc: 0.5938 - val_loss: 0.9010 - val_acc: 0.5583\n",
      "Epoch 17/100\n",
      "480/480 [==============================] - 0s 405us/step - loss: 0.7833 - acc: 0.5917 - val_loss: 0.7702 - val_acc: 0.6250\n",
      "Epoch 18/100\n",
      "480/480 [==============================] - 0s 419us/step - loss: 0.7265 - acc: 0.6104 - val_loss: 0.9048 - val_acc: 0.5083\n",
      "Epoch 19/100\n",
      "480/480 [==============================] - 0s 449us/step - loss: 0.7464 - acc: 0.6125 - val_loss: 0.8218 - val_acc: 0.5000\n",
      "Epoch 20/100\n",
      "480/480 [==============================] - 0s 444us/step - loss: 0.7325 - acc: 0.5979 - val_loss: 0.7573 - val_acc: 0.5417\n",
      "Epoch 21/100\n",
      "480/480 [==============================] - 0s 410us/step - loss: 0.8196 - acc: 0.5604 - val_loss: 0.7286 - val_acc: 0.6333\n",
      "Epoch 22/100\n",
      "480/480 [==============================] - 0s 464us/step - loss: 0.7456 - acc: 0.6104 - val_loss: 0.9329 - val_acc: 0.5750\n",
      "Epoch 23/100\n",
      "480/480 [==============================] - 0s 408us/step - loss: 0.7377 - acc: 0.6458 - val_loss: 0.8768 - val_acc: 0.5500\n",
      "Epoch 24/100\n",
      "480/480 [==============================] - 0s 480us/step - loss: 0.7327 - acc: 0.5896 - val_loss: 0.9655 - val_acc: 0.5167\n",
      "Epoch 25/100\n",
      "480/480 [==============================] - 0s 446us/step - loss: 0.7590 - acc: 0.5813 - val_loss: 0.7933 - val_acc: 0.6250\n",
      "Epoch 26/100\n",
      "480/480 [==============================] - 0s 418us/step - loss: 0.6938 - acc: 0.6083 - val_loss: 0.6896 - val_acc: 0.6500\n",
      "Epoch 27/100\n",
      "480/480 [==============================] - 0s 435us/step - loss: 0.6704 - acc: 0.6667 - val_loss: 0.7973 - val_acc: 0.6083\n",
      "Epoch 28/100\n",
      "480/480 [==============================] - 0s 387us/step - loss: 0.7153 - acc: 0.6167 - val_loss: 0.6996 - val_acc: 0.6333\n",
      "Epoch 29/100\n",
      "480/480 [==============================] - 0s 434us/step - loss: 0.7069 - acc: 0.6125 - val_loss: 0.7050 - val_acc: 0.6250\n",
      "Epoch 30/100\n",
      "480/480 [==============================] - 0s 421us/step - loss: 0.6958 - acc: 0.6312 - val_loss: 0.6993 - val_acc: 0.5917\n",
      "Epoch 31/100\n",
      "480/480 [==============================] - 0s 441us/step - loss: 0.6474 - acc: 0.6583 - val_loss: 0.7814 - val_acc: 0.6417\n",
      "Epoch 32/100\n",
      "480/480 [==============================] - 0s 428us/step - loss: 0.7944 - acc: 0.5917 - val_loss: 1.2520 - val_acc: 0.4333\n",
      "Epoch 33/100\n",
      "480/480 [==============================] - 0s 437us/step - loss: 0.8706 - acc: 0.5417 - val_loss: 0.7995 - val_acc: 0.5583\n",
      "Epoch 34/100\n",
      "480/480 [==============================] - 0s 462us/step - loss: 0.6945 - acc: 0.6375 - val_loss: 0.7120 - val_acc: 0.6167\n",
      "Epoch 35/100\n",
      "480/480 [==============================] - 0s 436us/step - loss: 0.8336 - acc: 0.5542 - val_loss: 0.7968 - val_acc: 0.6000\n",
      "Epoch 36/100\n",
      "480/480 [==============================] - 0s 414us/step - loss: 0.7800 - acc: 0.6042 - val_loss: 0.8589 - val_acc: 0.4917\n",
      "Epoch 37/100\n",
      "480/480 [==============================] - 0s 455us/step - loss: 0.7189 - acc: 0.6146 - val_loss: 0.7619 - val_acc: 0.5833\n",
      "Epoch 38/100\n",
      "480/480 [==============================] - 0s 469us/step - loss: 0.6471 - acc: 0.6750 - val_loss: 0.7787 - val_acc: 0.6000\n",
      "Epoch 39/100\n",
      "480/480 [==============================] - 0s 452us/step - loss: 0.6220 - acc: 0.7042 - val_loss: 0.6956 - val_acc: 0.6250\n",
      "Epoch 40/100\n",
      "480/480 [==============================] - 0s 430us/step - loss: 0.6448 - acc: 0.6729 - val_loss: 0.6842 - val_acc: 0.6333\n",
      "Epoch 41/100\n",
      "480/480 [==============================] - ETA: 0s - loss: 0.6188 - acc: 0.676 - 0s 414us/step - loss: 0.6417 - acc: 0.6646 - val_loss: 0.7531 - val_acc: 0.6333\n",
      "Epoch 42/100\n",
      "480/480 [==============================] - 0s 473us/step - loss: 0.6252 - acc: 0.6687 - val_loss: 0.6545 - val_acc: 0.6333\n",
      "Epoch 43/100\n",
      "480/480 [==============================] - 0s 433us/step - loss: 0.5984 - acc: 0.6917 - val_loss: 0.7443 - val_acc: 0.6083\n",
      "Epoch 44/100\n",
      "480/480 [==============================] - 0s 420us/step - loss: 0.6143 - acc: 0.6917 - val_loss: 0.7278 - val_acc: 0.6333\n",
      "Epoch 45/100\n",
      "480/480 [==============================] - 0s 338us/step - loss: 0.6725 - acc: 0.6083 - val_loss: 0.7165 - val_acc: 0.6333\n",
      "Epoch 46/100\n",
      "480/480 [==============================] - 0s 369us/step - loss: 0.6096 - acc: 0.6729 - val_loss: 0.7245 - val_acc: 0.6250\n",
      "Epoch 47/100\n",
      "480/480 [==============================] - 0s 413us/step - loss: 0.5862 - acc: 0.6917 - val_loss: 0.7295 - val_acc: 0.6333\n",
      "Epoch 48/100\n",
      "480/480 [==============================] - 0s 337us/step - loss: 0.5835 - acc: 0.7042 - val_loss: 0.7589 - val_acc: 0.5667\n",
      "Epoch 49/100\n",
      "480/480 [==============================] - 0s 373us/step - loss: 0.5880 - acc: 0.7083 - val_loss: 0.7258 - val_acc: 0.6167\n",
      "Epoch 50/100\n",
      "480/480 [==============================] - 0s 427us/step - loss: 0.6177 - acc: 0.6729 - val_loss: 0.8392 - val_acc: 0.5917\n",
      "Epoch 51/100\n",
      "480/480 [==============================] - 0s 476us/step - loss: 0.6250 - acc: 0.7083 - val_loss: 0.6757 - val_acc: 0.6083\n",
      "Epoch 52/100\n",
      "480/480 [==============================] - 0s 425us/step - loss: 0.5527 - acc: 0.7333 - val_loss: 0.7726 - val_acc: 0.6083\n",
      "Epoch 53/100\n",
      "480/480 [==============================] - 0s 419us/step - loss: 0.6112 - acc: 0.6583 - val_loss: 0.6938 - val_acc: 0.6167\n",
      "Epoch 54/100\n",
      "480/480 [==============================] - 0s 431us/step - loss: 0.5429 - acc: 0.7271 - val_loss: 0.8262 - val_acc: 0.6167\n",
      "Epoch 55/100\n",
      "480/480 [==============================] - 0s 460us/step - loss: 0.6330 - acc: 0.6729 - val_loss: 0.6761 - val_acc: 0.6500\n",
      "Epoch 56/100\n",
      "480/480 [==============================] - 0s 420us/step - loss: 0.5784 - acc: 0.7063 - val_loss: 0.7311 - val_acc: 0.6167\n",
      "Epoch 57/100\n",
      "480/480 [==============================] - 0s 448us/step - loss: 0.5766 - acc: 0.6917 - val_loss: 0.7205 - val_acc: 0.6250\n",
      "Epoch 58/100\n",
      "480/480 [==============================] - 0s 468us/step - loss: 0.6203 - acc: 0.6833 - val_loss: 0.6990 - val_acc: 0.6333\n",
      "Epoch 59/100\n",
      "480/480 [==============================] - 0s 477us/step - loss: 0.5617 - acc: 0.7063 - val_loss: 0.8170 - val_acc: 0.6083\n",
      "Epoch 60/100\n",
      "480/480 [==============================] - 0s 435us/step - loss: 0.5733 - acc: 0.7292 - val_loss: 0.8264 - val_acc: 0.6250\n"
     ]
    },
    {
     "name": "stdout",
     "output_type": "stream",
     "text": [
      "Epoch 61/100\n",
      "480/480 [==============================] - 0s 476us/step - loss: 0.5398 - acc: 0.7438 - val_loss: 0.7266 - val_acc: 0.6417\n",
      "Epoch 62/100\n",
      "480/480 [==============================] - 0s 385us/step - loss: 0.5380 - acc: 0.7438 - val_loss: 0.8024 - val_acc: 0.6167\n",
      "Epoch 63/100\n",
      "480/480 [==============================] - 0s 389us/step - loss: 0.5502 - acc: 0.7562 - val_loss: 0.8382 - val_acc: 0.6083\n",
      "Epoch 64/100\n",
      "480/480 [==============================] - 0s 421us/step - loss: 0.7090 - acc: 0.6208 - val_loss: 0.7235 - val_acc: 0.5917\n",
      "Epoch 65/100\n",
      "480/480 [==============================] - 0s 429us/step - loss: 0.6390 - acc: 0.6792 - val_loss: 0.8811 - val_acc: 0.5833\n",
      "Epoch 66/100\n",
      "480/480 [==============================] - 0s 405us/step - loss: 0.6391 - acc: 0.6417 - val_loss: 0.8294 - val_acc: 0.5917\n",
      "Epoch 67/100\n",
      "480/480 [==============================] - 0s 442us/step - loss: 0.6212 - acc: 0.6687 - val_loss: 0.7453 - val_acc: 0.6167\n",
      "Epoch 68/100\n",
      "480/480 [==============================] - 0s 427us/step - loss: 0.5966 - acc: 0.6958 - val_loss: 0.8295 - val_acc: 0.6000\n",
      "Epoch 69/100\n",
      "480/480 [==============================] - 0s 520us/step - loss: 0.6054 - acc: 0.6813 - val_loss: 0.7591 - val_acc: 0.5833\n",
      "Epoch 70/100\n",
      "480/480 [==============================] - 0s 462us/step - loss: 0.6271 - acc: 0.6813 - val_loss: 0.6919 - val_acc: 0.5917\n",
      "Epoch 71/100\n",
      "480/480 [==============================] - 0s 452us/step - loss: 0.5932 - acc: 0.7042 - val_loss: 0.7319 - val_acc: 0.5917\n",
      "Epoch 72/100\n",
      "480/480 [==============================] - 0s 435us/step - loss: 0.5292 - acc: 0.7542 - val_loss: 0.8228 - val_acc: 0.6083\n",
      "Epoch 73/100\n",
      "480/480 [==============================] - 0s 442us/step - loss: 0.5334 - acc: 0.7333 - val_loss: 0.8989 - val_acc: 0.6167\n",
      "Epoch 74/100\n",
      "480/480 [==============================] - 0s 400us/step - loss: 0.6004 - acc: 0.6917 - val_loss: 0.9280 - val_acc: 0.5750\n",
      "Epoch 75/100\n",
      "480/480 [==============================] - 0s 510us/step - loss: 0.5243 - acc: 0.7479 - val_loss: 0.6968 - val_acc: 0.6333\n",
      "Epoch 76/100\n",
      "480/480 [==============================] - 0s 445us/step - loss: 0.5054 - acc: 0.7583 - val_loss: 0.8700 - val_acc: 0.6333\n",
      "Epoch 77/100\n",
      "480/480 [==============================] - 0s 435us/step - loss: 0.5260 - acc: 0.7562 - val_loss: 0.8308 - val_acc: 0.6250\n",
      "Epoch 78/100\n",
      "480/480 [==============================] - 0s 451us/step - loss: 0.6954 - acc: 0.6792 - val_loss: 0.7760 - val_acc: 0.6000\n",
      "Epoch 79/100\n",
      "480/480 [==============================] - 0s 438us/step - loss: 0.6199 - acc: 0.6750 - val_loss: 0.6397 - val_acc: 0.6917\n",
      "Epoch 80/100\n",
      "480/480 [==============================] - 0s 356us/step - loss: 0.5384 - acc: 0.7083 - val_loss: 0.8915 - val_acc: 0.6333\n",
      "Epoch 81/100\n",
      "480/480 [==============================] - 0s 363us/step - loss: 0.5185 - acc: 0.7542 - val_loss: 0.8653 - val_acc: 0.5750\n",
      "Epoch 82/100\n",
      "480/480 [==============================] - 0s 376us/step - loss: 0.5096 - acc: 0.7417 - val_loss: 0.9896 - val_acc: 0.5833\n",
      "Epoch 83/100\n",
      "480/480 [==============================] - 0s 403us/step - loss: 0.5352 - acc: 0.7104 - val_loss: 0.7860 - val_acc: 0.6000\n",
      "Epoch 84/100\n",
      "480/480 [==============================] - 0s 481us/step - loss: 0.4970 - acc: 0.7583 - val_loss: 0.7352 - val_acc: 0.6500\n",
      "Epoch 85/100\n",
      "480/480 [==============================] - 0s 429us/step - loss: 0.5140 - acc: 0.7604 - val_loss: 0.8012 - val_acc: 0.6250\n",
      "Epoch 86/100\n",
      "480/480 [==============================] - 0s 404us/step - loss: 0.5672 - acc: 0.7438 - val_loss: 0.7124 - val_acc: 0.6250\n",
      "Epoch 87/100\n",
      "480/480 [==============================] - ETA: 0s - loss: 0.4709 - acc: 0.761 - 0s 417us/step - loss: 0.4624 - acc: 0.7688 - val_loss: 0.7996 - val_acc: 0.6333\n",
      "Epoch 88/100\n",
      "480/480 [==============================] - 0s 445us/step - loss: 0.4547 - acc: 0.7937 - val_loss: 0.7530 - val_acc: 0.6667\n",
      "Epoch 89/100\n",
      "480/480 [==============================] - 0s 428us/step - loss: 0.4789 - acc: 0.7562 - val_loss: 1.0182 - val_acc: 0.6000\n",
      "Epoch 90/100\n",
      "480/480 [==============================] - 0s 450us/step - loss: 0.4642 - acc: 0.7500 - val_loss: 0.8358 - val_acc: 0.6167\n",
      "Epoch 91/100\n",
      "480/480 [==============================] - 0s 432us/step - loss: 0.4525 - acc: 0.7625 - val_loss: 0.8696 - val_acc: 0.6250\n",
      "Epoch 92/100\n",
      "480/480 [==============================] - 0s 383us/step - loss: 0.5274 - acc: 0.7312 - val_loss: 1.2402 - val_acc: 0.5500\n",
      "Epoch 93/100\n",
      "480/480 [==============================] - 0s 428us/step - loss: 0.5048 - acc: 0.7833 - val_loss: 0.7411 - val_acc: 0.6167\n",
      "Epoch 94/100\n",
      "480/480 [==============================] - 0s 428us/step - loss: 0.4617 - acc: 0.8083 - val_loss: 0.9087 - val_acc: 0.6250\n",
      "Epoch 95/100\n",
      "480/480 [==============================] - 0s 445us/step - loss: 0.5024 - acc: 0.7896 - val_loss: 0.8147 - val_acc: 0.6250\n",
      "Epoch 96/100\n",
      "480/480 [==============================] - 0s 416us/step - loss: 0.4427 - acc: 0.8063 - val_loss: 0.9849 - val_acc: 0.5833\n",
      "Epoch 97/100\n",
      "480/480 [==============================] - 0s 426us/step - loss: 0.5877 - acc: 0.7188 - val_loss: 0.8266 - val_acc: 0.6583\n",
      "Epoch 98/100\n",
      "480/480 [==============================] - 0s 430us/step - loss: 0.5439 - acc: 0.7396 - val_loss: 0.7440 - val_acc: 0.6167\n",
      "Epoch 99/100\n",
      "480/480 [==============================] - 0s 404us/step - loss: 0.4339 - acc: 0.7896 - val_loss: 1.0375 - val_acc: 0.6000\n",
      "Epoch 100/100\n",
      "480/480 [==============================] - 0s 430us/step - loss: 0.3972 - acc: 0.8125 - val_loss: 0.9131 - val_acc: 0.6250\n"
     ]
    },
    {
     "data": {
      "text/plain": [
       "<keras.callbacks.History at 0x13290c390>"
      ]
     },
     "execution_count": 44,
     "metadata": {},
     "output_type": "execute_result"
    }
   ],
   "source": [
    "# Loading model\n",
    "model_Adam= Sequential()\n",
    "\n",
    "#Loading input\n",
    "input_shape=(new_X_train.shape[1],)\n",
    "\n",
    "#Loading layers - O hidden layer chosen here\n",
    "model_Adam.add(Dense(100,activation = \"linear\",input_shape = input_shape))#\n",
    "model_Adam.add(LeakyReLU(alpha=0.1))\n",
    "model_Adam.add(Dense(100,activation = \"linear\"))\n",
    "model_Adam.add(LeakyReLU(alpha=0.1))\n",
    "model_Adam.add(Dense(100,activation = \"linear\"))\n",
    "model_Adam.add(LeakyReLU(alpha=0.1))\n",
    "model_Adam.add(Dense(100,activation = \"linear\"))\n",
    "model_Adam.add(LeakyReLU(alpha=0.1))\n",
    "model_Adam.add(Dense(100,activation = \"linear\"))\n",
    "model_Adam.add(LeakyReLU(alpha=0.1))\n",
    "model_Adam.add(Dense(3,activation = \"softmax\"))\n",
    "\n",
    "#Compiling model\n",
    "model_Adam.compile(optimizer=\"adam\",loss='categorical_crossentropy', metrics = ['accuracy'])\n",
    "\n",
    "\n",
    "#Fitting model\n",
    "target = to_categorical(new_Y_train)\n",
    "model_Adam.fit(new_X_train, target, validation_split = 0.2, epochs = 100)"
   ]
  },
  {
   "cell_type": "code",
   "execution_count": 45,
   "metadata": {},
   "outputs": [
    {
     "name": "stdout",
     "output_type": "stream",
     "text": [
      "_________________________________________________________________\n",
      "Layer (type)                 Output Shape              Param #   \n",
      "=================================================================\n",
      "dense_13 (Dense)             (None, 100)               518500    \n",
      "_________________________________________________________________\n",
      "leaky_re_lu_6 (LeakyReLU)    (None, 100)               0         \n",
      "_________________________________________________________________\n",
      "dense_14 (Dense)             (None, 100)               10100     \n",
      "_________________________________________________________________\n",
      "leaky_re_lu_7 (LeakyReLU)    (None, 100)               0         \n",
      "_________________________________________________________________\n",
      "dense_15 (Dense)             (None, 100)               10100     \n",
      "_________________________________________________________________\n",
      "leaky_re_lu_8 (LeakyReLU)    (None, 100)               0         \n",
      "_________________________________________________________________\n",
      "dense_16 (Dense)             (None, 100)               10100     \n",
      "_________________________________________________________________\n",
      "leaky_re_lu_9 (LeakyReLU)    (None, 100)               0         \n",
      "_________________________________________________________________\n",
      "dense_17 (Dense)             (None, 100)               10100     \n",
      "_________________________________________________________________\n",
      "leaky_re_lu_10 (LeakyReLU)   (None, 100)               0         \n",
      "_________________________________________________________________\n",
      "dense_18 (Dense)             (None, 3)                 303       \n",
      "=================================================================\n",
      "Total params: 559,203\n",
      "Trainable params: 559,203\n",
      "Non-trainable params: 0\n",
      "_________________________________________________________________\n"
     ]
    }
   ],
   "source": [
    "model_Adam.summary()"
   ]
  },
  {
   "cell_type": "code",
   "execution_count": 46,
   "metadata": {},
   "outputs": [
    {
     "name": "stdout",
     "output_type": "stream",
     "text": [
      "300/300 [==============================] - 0s 171us/step\n"
     ]
    },
    {
     "data": {
      "text/plain": [
       "[1.0320674856503804, 0.57666666587193804]"
      ]
     },
     "execution_count": 46,
     "metadata": {},
     "output_type": "execute_result"
    }
   ],
   "source": [
    "model_Adam.evaluate(new_X_test, new_Y_test)"
   ]
  },
  {
   "cell_type": "markdown",
   "metadata": {},
   "source": [
    "### Generating a convolutional network"
   ]
  },
  {
   "cell_type": "code",
   "execution_count": 47,
   "metadata": {},
   "outputs": [
    {
     "data": {
      "text/plain": [
       "((600, 5184), (300, 5184), (600,), (300, 3))"
      ]
     },
     "execution_count": 47,
     "metadata": {},
     "output_type": "execute_result"
    }
   ],
   "source": [
    "new_X_train.shape , new_X_test.shape, new_Y_train.shape, new_Y_test.shape"
   ]
  },
  {
   "cell_type": "code",
   "execution_count": 48,
   "metadata": {},
   "outputs": [
    {
     "name": "stdout",
     "output_type": "stream",
     "text": [
      "((600, 3), (300, 3))\n"
     ]
    }
   ],
   "source": [
    "#Converting to categorical variables\n",
    "new_Y_train = to_categorical(new_Y_train, 3)\n",
    "print(new_Y_train.shape,new_Y_test.shape)"
   ]
  },
  {
   "cell_type": "code",
   "execution_count": 49,
   "metadata": {},
   "outputs": [
    {
     "name": "stdout",
     "output_type": "stream",
     "text": [
      "((600, 72, 72, 1), (300, 72, 72, 1))\n"
     ]
    }
   ],
   "source": [
    "#Reshaping input data\n",
    "new_X_train=new_X_train.reshape(-1,72,72,1)\n",
    "new_X_test = new_X_test.reshape(-1,72,72,1)\n",
    "print(new_X_train.shape,new_X_test.shape)"
   ]
  },
  {
   "cell_type": "code",
   "execution_count": 50,
   "metadata": {},
   "outputs": [
    {
     "name": "stdout",
     "output_type": "stream",
     "text": [
      "Train on 480 samples, validate on 120 samples\n",
      "Epoch 1/30\n",
      "480/480 [==============================] - 2s 5ms/step - loss: 2.5188 - acc: 0.3667 - val_loss: 1.1595 - val_acc: 0.3000\n",
      "Epoch 2/30\n",
      "480/480 [==============================] - 2s 5ms/step - loss: 1.1002 - acc: 0.3688 - val_loss: 1.0899 - val_acc: 0.3250\n",
      "Epoch 3/30\n",
      "480/480 [==============================] - 2s 4ms/step - loss: 1.0739 - acc: 0.3646 - val_loss: 1.0733 - val_acc: 0.2583\n",
      "Epoch 4/30\n",
      "480/480 [==============================] - 2s 4ms/step - loss: 1.0613 - acc: 0.3875 - val_loss: 1.0738 - val_acc: 0.2667\n",
      "Epoch 5/30\n",
      "480/480 [==============================] - 2s 4ms/step - loss: 1.0458 - acc: 0.4146 - val_loss: 1.0374 - val_acc: 0.4750\n",
      "Epoch 6/30\n",
      "480/480 [==============================] - 2s 4ms/step - loss: 1.0176 - acc: 0.4396 - val_loss: 1.0094 - val_acc: 0.4333\n",
      "Epoch 7/30\n",
      "480/480 [==============================] - 2s 4ms/step - loss: 0.9791 - acc: 0.4792 - val_loss: 0.9280 - val_acc: 0.5417\n",
      "Epoch 8/30\n",
      "480/480 [==============================] - 2s 4ms/step - loss: 0.9386 - acc: 0.5042 - val_loss: 0.9040 - val_acc: 0.5167\n",
      "Epoch 9/30\n",
      "480/480 [==============================] - 2s 4ms/step - loss: 0.8927 - acc: 0.5500 - val_loss: 0.8162 - val_acc: 0.6250\n",
      "Epoch 10/30\n",
      "480/480 [==============================] - 2s 4ms/step - loss: 0.8713 - acc: 0.5729 - val_loss: 0.8127 - val_acc: 0.6333\n",
      "Epoch 11/30\n",
      "480/480 [==============================] - 2s 4ms/step - loss: 0.8144 - acc: 0.6062 - val_loss: 0.7985 - val_acc: 0.5833\n",
      "Epoch 12/30\n",
      "480/480 [==============================] - 2s 4ms/step - loss: 0.7691 - acc: 0.6271 - val_loss: 0.7768 - val_acc: 0.5833\n",
      "Epoch 13/30\n",
      "480/480 [==============================] - 2s 4ms/step - loss: 0.7950 - acc: 0.5938 - val_loss: 0.7748 - val_acc: 0.6250\n",
      "Epoch 14/30\n",
      "480/480 [==============================] - 2s 4ms/step - loss: 0.7529 - acc: 0.6354 - val_loss: 0.7225 - val_acc: 0.6583\n",
      "Epoch 15/30\n",
      "480/480 [==============================] - 2s 4ms/step - loss: 0.7694 - acc: 0.6292 - val_loss: 0.7247 - val_acc: 0.7083\n",
      "Epoch 16/30\n",
      "480/480 [==============================] - 2s 4ms/step - loss: 0.7209 - acc: 0.6771 - val_loss: 0.7088 - val_acc: 0.6667\n",
      "Epoch 17/30\n",
      "480/480 [==============================] - 2s 4ms/step - loss: 0.6767 - acc: 0.6875 - val_loss: 0.7152 - val_acc: 0.6667\n",
      "Epoch 18/30\n",
      "480/480 [==============================] - 2s 4ms/step - loss: 0.6775 - acc: 0.6813 - val_loss: 0.7057 - val_acc: 0.6667\n",
      "Epoch 19/30\n",
      "480/480 [==============================] - 2s 4ms/step - loss: 0.6598 - acc: 0.7271 - val_loss: 0.6746 - val_acc: 0.6917\n",
      "Epoch 20/30\n",
      "480/480 [==============================] - 2s 4ms/step - loss: 0.6380 - acc: 0.6875 - val_loss: 0.7158 - val_acc: 0.6167\n",
      "Epoch 21/30\n",
      "480/480 [==============================] - 2s 5ms/step - loss: 0.6059 - acc: 0.7479 - val_loss: 0.6446 - val_acc: 0.7167\n",
      "Epoch 22/30\n",
      "480/480 [==============================] - 2s 4ms/step - loss: 0.5939 - acc: 0.7354 - val_loss: 0.6884 - val_acc: 0.6750\n",
      "Epoch 23/30\n",
      "480/480 [==============================] - 2s 4ms/step - loss: 0.5947 - acc: 0.7250 - val_loss: 0.6455 - val_acc: 0.6917\n",
      "Epoch 24/30\n",
      "480/480 [==============================] - 2s 4ms/step - loss: 0.5680 - acc: 0.7354 - val_loss: 0.6992 - val_acc: 0.6417\n",
      "Epoch 25/30\n",
      "480/480 [==============================] - 2s 4ms/step - loss: 0.5071 - acc: 0.7854 - val_loss: 0.6394 - val_acc: 0.7083\n",
      "Epoch 26/30\n",
      "480/480 [==============================] - 2s 4ms/step - loss: 0.4877 - acc: 0.7896 - val_loss: 0.5933 - val_acc: 0.7167\n",
      "Epoch 27/30\n",
      "480/480 [==============================] - 2s 4ms/step - loss: 0.5063 - acc: 0.8042 - val_loss: 0.5832 - val_acc: 0.7417\n",
      "Epoch 28/30\n",
      "480/480 [==============================] - 3s 5ms/step - loss: 0.4746 - acc: 0.8042 - val_loss: 0.6213 - val_acc: 0.7417\n",
      "Epoch 29/30\n",
      "480/480 [==============================] - 3s 5ms/step - loss: 0.4780 - acc: 0.8125 - val_loss: 0.5738 - val_acc: 0.7750\n",
      "Epoch 30/30\n",
      "480/480 [==============================] - 2s 4ms/step - loss: 0.4892 - acc: 0.7958 - val_loss: 0.5910 - val_acc: 0.7500\n"
     ]
    },
    {
     "data": {
      "text/plain": [
       "<keras.callbacks.History at 0x1318eced0>"
      ]
     },
     "execution_count": 50,
     "metadata": {},
     "output_type": "execute_result"
    }
   ],
   "source": [
    "from keras.layers import Dense, Conv2D, MaxPooling2D, Dropout, Flatten\n",
    "convolutional_network = Sequential()\n",
    "convolutional_network.add(Conv2D(16,(5,5),padding='same', activation ='relu', input_shape = new_X_train.shape[1:]))\n",
    "convolutional_network.add(MaxPooling2D(pool_size=(2,2)))#Select the highest pixel value from a 2x2 pixel region\n",
    "convolutional_network.add(Dropout(0.25))\n",
    "convolutional_network.add(Flatten())\n",
    "convolutional_network.add(Dense(128,activation = 'relu'))\n",
    "convolutional_network.add(Dropout(0.5))\n",
    "convolutional_network.add(Dense(3, activation ='softmax'))\n",
    "convolutional_network.compile(optimizer='adam',loss=\"categorical_crossentropy\", metrics = ['accuracy'])\n",
    "convolutional_network.fit(new_X_train, new_Y_train, validation_split = 0.2, epochs = 30)"
   ]
  },
  {
   "cell_type": "code",
   "execution_count": 51,
   "metadata": {},
   "outputs": [
    {
     "name": "stdout",
     "output_type": "stream",
     "text": [
      "_________________________________________________________________\n",
      "Layer (type)                 Output Shape              Param #   \n",
      "=================================================================\n",
      "conv2d_1 (Conv2D)            (None, 72, 72, 16)        416       \n",
      "_________________________________________________________________\n",
      "max_pooling2d_1 (MaxPooling2 (None, 36, 36, 16)        0         \n",
      "_________________________________________________________________\n",
      "dropout_1 (Dropout)          (None, 36, 36, 16)        0         \n",
      "_________________________________________________________________\n",
      "flatten_1 (Flatten)          (None, 20736)             0         \n",
      "_________________________________________________________________\n",
      "dense_19 (Dense)             (None, 128)               2654336   \n",
      "_________________________________________________________________\n",
      "dropout_2 (Dropout)          (None, 128)               0         \n",
      "_________________________________________________________________\n",
      "dense_20 (Dense)             (None, 3)                 387       \n",
      "=================================================================\n",
      "Total params: 2,655,139\n",
      "Trainable params: 2,655,139\n",
      "Non-trainable params: 0\n",
      "_________________________________________________________________\n"
     ]
    }
   ],
   "source": [
    "convolutional_network.summary()"
   ]
  },
  {
   "cell_type": "code",
   "execution_count": 52,
   "metadata": {},
   "outputs": [
    {
     "name": "stdout",
     "output_type": "stream",
     "text": [
      "300/300 [==============================] - 0s 2ms/step\n"
     ]
    },
    {
     "data": {
      "text/plain": [
       "[0.59930883407592772, 0.7266666674613953]"
      ]
     },
     "execution_count": 52,
     "metadata": {},
     "output_type": "execute_result"
    }
   ],
   "source": [
    "convolutional_network.evaluate(new_X_test, new_Y_test)"
   ]
  },
  {
   "cell_type": "markdown",
   "metadata": {},
   "source": [
    "Lower loss function and higher accuracy rate with our convolutional network ! :)"
   ]
  },
  {
   "cell_type": "markdown",
   "metadata": {},
   "source": [
    "## A Regression Problem"
   ]
  },
  {
   "cell_type": "code",
   "execution_count": null,
   "metadata": {
    "collapsed": true
   },
   "outputs": [],
   "source": []
  },
  {
   "cell_type": "code",
   "execution_count": null,
   "metadata": {
    "collapsed": true
   },
   "outputs": [],
   "source": []
  }
 ],
 "metadata": {
  "kernelspec": {
   "display_name": "Python 2",
   "language": "python",
   "name": "python2"
  },
  "language_info": {
   "codemirror_mode": {
    "name": "ipython",
    "version": 2
   },
   "file_extension": ".py",
   "mimetype": "text/x-python",
   "name": "python",
   "nbconvert_exporter": "python",
   "pygments_lexer": "ipython2",
   "version": "2.7.14"
  }
 },
 "nbformat": 4,
 "nbformat_minor": 2
}
