{
 "cells": [
  {
   "cell_type": "markdown",
   "metadata": {},
   "source": [
    "## Florian BARRAL\n",
    "florian.barral@essec.edu"
   ]
  },
  {
   "cell_type": "markdown",
   "metadata": {},
   "source": [
    "**You may need to install [OpenCV](https://pypi.python.org/pypi/opencv-python) and [scikit-video](http://www.scikit-video.org/stable/).**"
   ]
  },
  {
   "cell_type": "code",
   "execution_count": 1,
   "metadata": {},
   "outputs": [
    {
     "name": "stderr",
     "output_type": "stream",
     "text": [
      "/usr/local/lib/python3.6/site-packages/h5py/__init__.py:36: FutureWarning: Conversion of the second argument of issubdtype from `float` to `np.floating` is deprecated. In future, it will be treated as `np.float64 == np.dtype(float).type`.\n",
      "  from ._conv import register_converters as _register_converters\n",
      "Using TensorFlow backend.\n"
     ]
    }
   ],
   "source": [
    "import keras\n",
    "import numpy as np\n",
    "import io\n",
    "import base64\n",
    "from IPython.display import HTML\n",
    "import skvideo.io\n",
    "\n",
    "import cv2\n",
    "import json\n",
    "import random\n",
    "\n",
    "from keras.models import Sequential,model_from_json\n",
    "from keras.layers.core import Dense, Reshape, Flatten\n",
    "from keras.optimizers import sgd\n",
    "from keras.layers import Conv2D, MaxPooling2D, Activation, AveragePooling2D,Reshape,BatchNormalization"
   ]
  },
  {
   "cell_type": "markdown",
   "metadata": {},
   "source": [
    "# MiniProject #3: Deep Reinforcement Learning"
   ]
  },
  {
   "cell_type": "markdown",
   "metadata": {},
   "source": [
    "__Notations__: $E_p$ is the expectation under probability $p$. Please justify each of your answer and widely comment your code."
   ]
  },
  {
   "cell_type": "markdown",
   "metadata": {},
   "source": [
    "# Context"
   ]
  },
  {
   "cell_type": "markdown",
   "metadata": {},
   "source": [
    "In a reinforcement learning algorithm, we modelize each step $t$ as an action $a_t$ obtained from a state $s_t$, i.e. $\\{(a_{t},s_{t})_{t\\leq T}\\}$ having the Markov property. We consider a discount factor $\\gamma \\in [0,1]$ that ensures convergence. The goal is to find among all the policies $\\pi$, one that maximizes the expected reward:\n",
    "\n",
    "\\begin{equation*}\n",
    "R(\\pi)=\\sum_{t\\leq T}E_{p^{\\pi}}[\\gamma^t r(s_{t},a_{t})] \\> ,\n",
    "\\end{equation*}\n",
    "\n",
    "where: \n",
    "\\begin{equation*}p^{\\pi}(a_{0},a_{1},s_{1},...,a_{T},s_{T})=p(a_{0})\\prod_{t=1}^{T}\\pi(a_{t}|s_{t})p(s_{t+1}|s_{t},a_{t}) \\> .\n",
    "\\end{equation*}\n",
    "\n",
    "We note the $Q$-function:\n",
    "\n",
    "\\begin{equation*}Q^\\pi(s,a)=E_{p^{\\pi}}[\\sum_{t\\leq T}\\gamma^{t}r(s_{t},a_{t})|s_{0}=s,a_{0}=a] \\> .\n",
    "\\end{equation*}\n",
    "\n",
    "Thus, the optimal Q function is:\n",
    "\\begin{equation*}\n",
    "Q^*(s,a)=\\max_{\\pi}Q^\\pi(s,a) \\> .\n",
    "\\end{equation*}\n",
    "\n",
    "In this project, we will apply the deep reinforcement learning techniques to a simple game: an agent will have to learn from scratch a policy that will permit it maximizing a reward."
   ]
  },
  {
   "cell_type": "markdown",
   "metadata": {},
   "source": [
    "## The environment, the agent and the game"
   ]
  },
  {
   "cell_type": "markdown",
   "metadata": {},
   "source": [
    "### The environment"
   ]
  },
  {
   "cell_type": "markdown",
   "metadata": {},
   "source": [
    "```Environment``` is an abstract class that represents the states, rewards, and actions to obtain the new state."
   ]
  },
  {
   "cell_type": "code",
   "execution_count": 2,
   "metadata": {},
   "outputs": [],
   "source": [
    "class Environment(object):\n",
    "    def __init__(self):\n",
    "        pass\n",
    "\n",
    "    def act(self, act):\n",
    "        \"\"\"\n",
    "        One can act on the environment and obtain its reaction:\n",
    "        - the new state\n",
    "        - the reward of the new state\n",
    "        - should we continue the game?\n",
    "\n",
    "        :return: state, reward, game_over\n",
    "        \"\"\"\n",
    "        pass\n",
    "\n",
    "\n",
    "    def reset(self):\n",
    "        \"\"\"\n",
    "        Reinitialize the environment to a random state and returns\n",
    "        the original state\n",
    "\n",
    "        :return: state\n",
    "        \"\"\"\n",
    "        pass\n",
    "    \n",
    "    def draw(self):\n",
    "        \"\"\"\n",
    "        Visualize in the console or graphically the current state\n",
    "        \"\"\"\n",
    "        pass"
   ]
  },
  {
   "cell_type": "markdown",
   "metadata": {},
   "source": [
    "The method ```act``` allows to act on the environment at a given state $s_t$ (stored internally), via action $a_t$. The method will return the new state $s_{t+1}$, the reward $r(s_{t},a_{t})$ and determines if $t\\leq T$ (*game_over*).\n",
    "\n",
    "The method ```reset``` simply reinitializes the environment to a random state $s_0$.\n",
    "\n",
    "The method ```draw``` displays the current state $s_t$ (this is useful to check the behavior of the Agent).\n",
    "\n",
    "We modelize $s_t$ as a tensor, while $a_t$ is an integer."
   ]
  },
  {
   "cell_type": "markdown",
   "metadata": {},
   "source": [
    "### The Agent"
   ]
  },
  {
   "cell_type": "markdown",
   "metadata": {},
   "source": [
    "The goal of the ```Agent``` is to interact with the ```Environment``` by proposing actions $a_t$ obtained from a given state $s_t$ to attempt to maximize its __reward__ $r(s_t,a_t)$. We propose the following abstract class:"
   ]
  },
  {
   "cell_type": "code",
   "execution_count": 3,
   "metadata": {},
   "outputs": [],
   "source": [
    "class Agent(object):\n",
    "    def __init__(self, epsilon=0.1, n_action=4):\n",
    "        self.epsilon = epsilon\n",
    "        self.n_action = n_action\n",
    "    \n",
    "    def set_epsilon(self,e):\n",
    "        self.epsilon = e\n",
    "\n",
    "    def act(self,s,train=True):\n",
    "        \"\"\" This function should return the next action to do:\n",
    "        an integer between 0 and 4 (not included) with a random exploration of epsilon\"\"\"\n",
    "        if train:\n",
    "            if np.random.rand() <= self.epsilon:\n",
    "                a = np.random.randint(0, self.n_action, size=1)[0]\n",
    "            else:\n",
    "                a = self.learned_act(s)\n",
    "        else: # in some cases, this can improve the performance.. remove it if poor performances\n",
    "            a = self.learned_act(s)\n",
    "\n",
    "        return a\n",
    "\n",
    "    def learned_act(self,s):\n",
    "        \"\"\" Act via the policy of the agent, from a given state s\n",
    "        it proposes an action a\"\"\"\n",
    "        pass\n",
    "\n",
    "    def reinforce(self, s, n_s, a, r, game_over_):\n",
    "        \"\"\" This function is the core of the learning algorithm. \n",
    "        It takes as an input the current state s_, the next state n_s_\n",
    "        the action a_ used to move from s_ to n_s_ and the reward r_.\n",
    "        \n",
    "        Its goal is to learn a policy.\n",
    "        \"\"\"\n",
    "        pass\n",
    "\n",
    "    def save(self):\n",
    "        \"\"\" This function returns basic stats if applicable: the\n",
    "        loss and/or the model\"\"\"\n",
    "        pass\n",
    "\n",
    "    def load(self):\n",
    "        \"\"\" This function allows to restore a model\"\"\"\n",
    "        pass"
   ]
  },
  {
   "cell_type": "markdown",
   "metadata": {},
   "source": [
    "***\n",
    "__Question 1__:\n",
    "Explain the function act. Why is ```epsilon``` essential?"
   ]
  },
  {
   "cell_type": "markdown",
   "metadata": {},
   "source": [
    "The function ```act``` returns an action that the Agent needs to take according to a policy/tactic.  <br> \n",
    "$\\epsilon$ is essential because it allows the agent to explore. The algorithm would just return the learned tactic without this probability of random action. By exploring other states through random actions, the agent can optimize his learned policy/tactic."
   ]
  },
  {
   "cell_type": "markdown",
   "metadata": {},
   "source": [
    "***\n",
    "### The Game"
   ]
  },
  {
   "cell_type": "markdown",
   "metadata": {},
   "source": [
    "The ```Agent``` and the ```Environment``` work in an interlaced way as in the following (take some time to understand this code as it is the core of the project)\n",
    "\n",
    "```python\n",
    "\n",
    "epoch = 300\n",
    "env = Environment()\n",
    "agent = Agent()\n",
    "\n",
    "\n",
    "# Number of won games\n",
    "score = 0\n",
    "loss = 0\n",
    "\n",
    "\n",
    "for e in range(epoch):\n",
    "    # At each epoch, we restart to a fresh game and get the initial state\n",
    "    state = env.reset()\n",
    "    # This assumes that the games will end\n",
    "    game_over = False\n",
    "\n",
    "    win = 0\n",
    "    lose = 0\n",
    "    \n",
    "    while not game_over:\n",
    "        # The agent performs an action\n",
    "        action = agent.act(state)\n",
    "\n",
    "        # Apply an action to the environment, get the next state, the reward\n",
    "        # and if the games end\n",
    "        prev_state = state\n",
    "        state, reward, game_over = env.act(action)\n",
    "\n",
    "        # Update the counters\n",
    "        if reward > 0:\n",
    "            win = win + reward\n",
    "        if reward < 0:\n",
    "            lose = lose -reward\n",
    "\n",
    "        # Apply the reinforcement strategy\n",
    "        loss = agent.reinforce(prev_state, state,  action, reward, game_over)\n",
    "\n",
    "    # Save as a mp4\n",
    "    if e % 10 == 0:\n",
    "        env.draw(e)\n",
    "\n",
    "    # Update stats\n",
    "    score += win-lose\n",
    "\n",
    "    print(\"Epoch {:03d}/{:03d} | Loss {:.4f} | Win/lose count {}/{} ({})\"\n",
    "          .format(e, epoch, loss, win, lose, win-lose))\n",
    "    agent.save()\n",
    "```"
   ]
  },
  {
   "cell_type": "markdown",
   "metadata": {},
   "source": [
    "# The game, *eat cheese*"
   ]
  },
  {
   "cell_type": "markdown",
   "metadata": {},
   "source": [
    "A rat runs on an island and tries to eat as much as possible. The island is subdivided into $N\\times N$ cells, in which there are cheese (+0.5) and poisonous cells (-1). The rat has a visibility of 2 cells (thus it can see $5^2$ cells). The rat is given a time $T$ to accumulate as much food as possible. It can perform 4 actions: going up, down, left, right. \n",
    "\n",
    "The goal is to code an agent to solve this task that will learn by trial and error. We propose the following environment:"
   ]
  },
  {
   "cell_type": "code",
   "execution_count": 4,
   "metadata": {},
   "outputs": [],
   "source": [
    "class Environment(object):\n",
    "    def __init__(self, grid_size=10, max_time=500, temperature=0.1):\n",
    "        grid_size = grid_size+4\n",
    "        self.grid_size = grid_size\n",
    "        self.max_time = max_time\n",
    "        self.temperature = temperature\n",
    "\n",
    "        #board on which one plays\n",
    "        self.board = np.zeros((grid_size,grid_size))\n",
    "        self.position = np.zeros((grid_size,grid_size))\n",
    "\n",
    "        # coordinate of the rat\n",
    "        self.x = 0\n",
    "        self.y = 1\n",
    "\n",
    "        # self time\n",
    "        self.t = 0\n",
    "\n",
    "        self.scale=16\n",
    "\n",
    "        self.to_draw = np.zeros((max_time+2, grid_size*self.scale, grid_size*self.scale, 3))\n",
    "\n",
    "\n",
    "    def draw(self,e):\n",
    "        skvideo.io.vwrite(str(e) + '.mp4', self.to_draw)\n",
    "\n",
    "    def get_frame(self,t):\n",
    "        b = np.zeros((self.grid_size,self.grid_size,3))+128\n",
    "        b[self.board>0,0] = 256\n",
    "        b[self.board < 0, 2] = 256\n",
    "        b[self.x,self.y,:]=256\n",
    "        b[-2:,:,:]=0\n",
    "        b[:,-2:,:]=0\n",
    "        b[:2,:,:]=0\n",
    "        b[:,:2,:]=0\n",
    "        \n",
    "        b =  cv2.resize(b, None, fx=self.scale, fy=self.scale, interpolation=cv2.INTER_NEAREST)\n",
    "\n",
    "        self.to_draw[t,:,:,:]=b\n",
    "\n",
    "\n",
    "    def act(self, action):\n",
    "        \"\"\"This function returns the new state, reward and decides if the\n",
    "        game ends.\"\"\"\n",
    "\n",
    "        self.get_frame(int(self.t))\n",
    "\n",
    "        self.position = np.zeros((self.grid_size, self.grid_size))\n",
    "\n",
    "        self.position[0:2,:]= -1\n",
    "        self.position[:,0:2] = -1\n",
    "        self.position[-2:, :] = -1\n",
    "        self.position[:,-2:] = -1\n",
    "\n",
    "        self.position[self.x, self.y] = 1\n",
    "        if action == 0:\n",
    "            if self.x == self.grid_size-3:\n",
    "                self.x = self.x-1\n",
    "            else:\n",
    "                self.x = self.x + 1\n",
    "        elif action == 1:\n",
    "            if self.x == 2:\n",
    "                self.x = self.x+1\n",
    "            else:\n",
    "                self.x = self.x-1\n",
    "        elif action == 2:\n",
    "            if self.y == self.grid_size - 3:\n",
    "                self.y = self.y - 1\n",
    "            else:\n",
    "                self.y = self.y + 1\n",
    "        elif action == 3:\n",
    "            if self.y == 2:\n",
    "                self.y = self.y + 1\n",
    "            else:\n",
    "                self.y = self.y - 1\n",
    "        else:\n",
    "            RuntimeError('Error: action not recognized')\n",
    "\n",
    "        self.t = self.t + 1\n",
    "        reward = self.board[self.x, self.y]\n",
    "        self.board[self.x, self.y] = 0\n",
    "        game_over = self.t > self.max_time\n",
    "        state = np.concatenate((self.board.reshape(self.grid_size, self.grid_size,1),\n",
    "                        self.position.reshape(self.grid_size, self.grid_size,1)),axis=2)\n",
    "        state = state[self.x-2:self.x+3,self.y-2:self.y+3,:]\n",
    "\n",
    "        return state, reward, game_over\n",
    "\n",
    "    def reset(self):\n",
    "        \"\"\"This function resets the game and returns the initial state\"\"\"\n",
    "\n",
    "        self.x = np.random.randint(3, self.grid_size-3, size=1)[0]\n",
    "        self.y = np.random.randint(3, self.grid_size-3, size=1)[0]\n",
    "\n",
    "\n",
    "        bonus = 0.5*np.random.binomial(1,self.temperature,size=self.grid_size**2)\n",
    "        bonus = bonus.reshape(self.grid_size,self.grid_size)\n",
    "\n",
    "        malus = -1.0*np.random.binomial(1,self.temperature,size=self.grid_size**2)\n",
    "        malus = malus.reshape(self.grid_size, self.grid_size)\n",
    "\n",
    "        self.to_draw = np.zeros((self.max_time+2, self.grid_size*self.scale, self.grid_size*self.scale, 3))\n",
    "\n",
    "\n",
    "        malus[bonus>0]=0\n",
    "\n",
    "        self.board = bonus + malus\n",
    "\n",
    "        self.position = np.zeros((self.grid_size, self.grid_size))\n",
    "        self.position[0:2,:]= -1\n",
    "        self.position[:,0:2] = -1\n",
    "        self.position[-2:, :] = -1\n",
    "        self.position[:,-2:] = -1\n",
    "        self.board[self.x,self.y] = 0\n",
    "        self.t = 0\n",
    "\n",
    "        state = np.concatenate((\n",
    "                               self.board.reshape(self.grid_size, self.grid_size,1),\n",
    "                        self.position.reshape(self.grid_size, self.grid_size,1)),axis=2)\n",
    "\n",
    "        state = state[self.x - 2:self.x + 3, self.y - 2:self.y + 3, :]\n",
    "        return state"
   ]
  },
  {
   "cell_type": "markdown",
   "metadata": {},
   "source": [
    "The following elements are important because they correspond to the hyper parameters for this project:"
   ]
  },
  {
   "cell_type": "code",
   "execution_count": 5,
   "metadata": {},
   "outputs": [],
   "source": [
    "# parameters\n",
    "size = 13\n",
    "T=200\n",
    "temperature=0.3\n",
    "epochs_train=30 # set small when debugging\n",
    "epochs_test=30 # set small when debugging\n",
    "\n",
    "# display videos\n",
    "def display_videos(name):\n",
    "    video = io.open(name, 'r+b').read()\n",
    "    encoded = base64.b64encode(video)\n",
    "    return '''<video alt=\"test\" controls>\n",
    "                <source src=\"data:video/mp4;base64,{0}\" type=\"video/mp4\" />\n",
    "             </video>'''.format(encoded.decode('ascii'))"
   ]
  },
  {
   "cell_type": "markdown",
   "metadata": {},
   "source": [
    "__Question 2__ Explain the use of the arrays ```position``` and ```board```."
   ]
  },
  {
   "cell_type": "markdown",
   "metadata": {},
   "source": [
    "The `position` is the currently tracked position of the rat on the island.\n",
    "\n",
    "The `board` is the representation of the island of all the cells, that means all the possible states."
   ]
  },
  {
   "cell_type": "markdown",
   "metadata": {},
   "source": [
    "## Random Agent"
   ]
  },
  {
   "cell_type": "markdown",
   "metadata": {},
   "source": [
    "***\n",
    "__Question 3__ Implement a random Agent (only ```learned_act``` needs to be implemented):"
   ]
  },
  {
   "cell_type": "code",
   "execution_count": 6,
   "metadata": {},
   "outputs": [],
   "source": [
    "class RandomAgent(Agent):\n",
    "    def __init__(self,n_action=4):\n",
    "        super(RandomAgent, self).__init__()\n",
    "        self.n_action = n_action\n",
    "        pass\n",
    "\n",
    "    def learned_act(self, s):\n",
    "        return np.random.randint(0 ,self.n_action ,size=1)\n",
    "        pass"
   ]
  },
  {
   "cell_type": "markdown",
   "metadata": {},
   "source": [
    "***\n",
    "***\n",
    "__Question 4__ Visualize the game moves. You need to fill in the following function for the evaluation:"
   ]
  },
  {
   "cell_type": "code",
   "execution_count": 7,
   "metadata": {},
   "outputs": [],
   "source": [
    "def test(agent,env,epochs,prefix=''):\n",
    "    # Number of won games\n",
    "    score = 0\n",
    "        \n",
    "    for e in range(1,epochs+1):\n",
    "        \n",
    "        ##### FILL IN HERE\n",
    "        #At each epoch, we restart to a fresh game and get the initial state\n",
    "        state = env.reset()\n",
    "        # This assumes that the games will end\n",
    "        game_over = False\n",
    "\n",
    "        win = 0\n",
    "        lose = 0\n",
    "        \n",
    "        while not game_over:\n",
    "            # The agent performs an action\n",
    "            action = agent.learned_act(state)\n",
    "            \n",
    "            # Apply an action to the environment, get the next state, the reward\n",
    "            # And if the games end\n",
    "            state, reward, game_over = env.act(action)\n",
    "            \n",
    "            # Update the counters\n",
    "            if reward > 0:\n",
    "                win += reward\n",
    "            if reward < 0:\n",
    "                lose -= reward\n",
    "            \n",
    "            # Apply the reinforcement strategy\n",
    "            \n",
    "        # Save as a mp4\n",
    "        if e % 10 == 0:\n",
    "            env.draw(prefix+str(e))\n",
    "\n",
    "        # Update stats\n",
    "        score += win-lose\n",
    "\n",
    "        print(\"Win/lose count {}/{}. Average score ({})\"\n",
    "              .format(win, lose, score/(1+e)))\n",
    "    print('Final score: '+str(score/epochs))"
   ]
  },
  {
   "cell_type": "code",
   "execution_count": 8,
   "metadata": {},
   "outputs": [
    {
     "name": "stdout",
     "output_type": "stream",
     "text": [
      "Win/lose count 4.0/11.0. Average score (-3.5)\n",
      "Win/lose count 12.5/16.0. Average score (-3.5)\n",
      "Win/lose count 9.5/19.0. Average score (-5.0)\n",
      "Win/lose count 7.0/10.0. Average score (-4.6)\n",
      "Win/lose count 10.5/13.0. Average score (-4.25)\n",
      "Win/lose count 10.0/14.0. Average score (-4.214285714285714)\n",
      "Win/lose count 7.5/20.0. Average score (-5.25)\n",
      "Win/lose count 6.5/6.0. Average score (-4.611111111111111)\n",
      "Win/lose count 7.5/14.0. Average score (-4.8)\n",
      "Win/lose count 7.0/14.0. Average score (-5.0)\n",
      "Win/lose count 8.0/9.0. Average score (-4.666666666666667)\n",
      "Win/lose count 7.5/13.0. Average score (-4.730769230769231)\n",
      "Win/lose count 10.0/14.0. Average score (-4.678571428571429)\n",
      "Win/lose count 7.5/14.0. Average score (-4.8)\n",
      "Win/lose count 10.0/11.0. Average score (-4.5625)\n",
      "Win/lose count 9.5/8.0. Average score (-4.205882352941177)\n",
      "Win/lose count 11.0/14.0. Average score (-4.138888888888889)\n",
      "Win/lose count 10.5/12.0. Average score (-4.0)\n",
      "Win/lose count 6.5/15.0. Average score (-4.225)\n",
      "Win/lose count 10.5/16.0. Average score (-4.285714285714286)\n",
      "Win/lose count 5.5/12.0. Average score (-4.386363636363637)\n",
      "Win/lose count 8.0/16.0. Average score (-4.543478260869565)\n",
      "Win/lose count 14.5/14.0. Average score (-4.333333333333333)\n",
      "Win/lose count 14.5/13.0. Average score (-4.1)\n",
      "Win/lose count 8.0/14.0. Average score (-4.173076923076923)\n",
      "Win/lose count 6.0/15.0. Average score (-4.351851851851852)\n",
      "Win/lose count 10.5/11.0. Average score (-4.214285714285714)\n",
      "Win/lose count 7.5/18.0. Average score (-4.431034482758621)\n",
      "Win/lose count 6.0/15.0. Average score (-4.583333333333333)\n",
      "Win/lose count 7.5/11.0. Average score (-4.548387096774194)\n",
      "Final score: -4.7\n"
     ]
    },
    {
     "data": {
      "text/html": [
       "<video alt=\"test\" controls>\n",
       "                <source src=\"data:video/mp4;base64,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\" type=\"video/mp4\" />\n",
       "             </video>"
      ],
      "text/plain": [
       "<IPython.core.display.HTML object>"
      ]
     },
     "execution_count": 8,
     "metadata": {},
     "output_type": "execute_result"
    }
   ],
   "source": [
    "# Initialize the game\n",
    "env = Environment(grid_size=size, max_time=T,temperature=temperature)\n",
    "\n",
    "# Initialize the agent!\n",
    "agent = RandomAgent()\n",
    "\n",
    "test(agent,env,epochs_test,prefix='random')\n",
    "HTML(display_videos('random10.mp4'))"
   ]
  },
  {
   "cell_type": "markdown",
   "metadata": {},
   "source": [
    "***\n",
    "## DQN"
   ]
  },
  {
   "cell_type": "markdown",
   "metadata": {},
   "source": [
    "Let us assume here that $T=\\infty$.\n",
    "\n",
    "***\n",
    "__Question 5__ Let $\\pi$ be a policy, **(1)** show that:\n",
    "\n",
    "\\begin{equation*}\n",
    "Q^{\\pi}(s,a)=E_{(s',a')\\sim p(.|s,a)}[r(s,a)+\\gamma Q^{\\pi}(s',a')]\n",
    "\\end{equation*}\n",
    "\n",
    "Then, **(2)** show that for the optimal policy $\\pi^*$ (we assume its existence), the following holds: \n",
    "\n",
    "\\begin{equation*}\n",
    "Q^{*}(s,a)=E_{s'\\sim \\pi^*(.|s,a)}[r(s,a)+\\gamma\\max_{a'}Q^{*}(s',a')].\n",
    "\\end{equation*}\n",
    "Finally, **(3)** deduce that a plausible objective is:\n",
    "\n",
    "\\begin{equation*}\n",
    "\\mathcal{L}(\\theta)=E_{s' \\sim \\pi^*(.|s,a)}\\Vert r+\\gamma\\max\\max_{a'}Q(s',a',\\theta)-Q(s,a,\\theta)\\Vert^{2}.\n",
    "\\end{equation*}\n",
    "\n",
    "\n"
   ]
  },
  {
   "cell_type": "markdown",
   "metadata": {},
   "source": [
    "**(1)**\n",
    "\n",
    "Given the Bellman equation:\n",
    "\n",
    "\\begin{align*}\n",
    "Q^{\\pi}(s,a) & = E_{\\pi}[\\Sigma^{\\infty}_{t=0} \\gamma^t r_t(s_t, \\pi(s_t),s_{t+1}) | s_t = s,a_t = a] \\\\\n",
    "\\Rightarrow Q^{\\pi}(s_0,a_0) & = E_{\\pi}[r_0(s_0,a_0,s_1)+\\Sigma^{\\infty}_{t=1} \\gamma^t r_t (s_t,\\pi(s_t),s_{t+1}) | s_0,a_0 ] \\\\\n",
    "& = E_{\\pi}[r_0(s_0,a_0,s_1) + \\gamma E_{\\pi} \\{ \\Sigma_{t=1}^{\\infty} \\gamma^{t-1} r_t (s_t,\\pi(s_t),s_{t+1} | s_1,a_1 \\} s_0,a_0 ] \\\\\n",
    "& = E_{\\pi} [r_0 (s_0,a_0,s_1)+\\gamma Q^{\\pi}(s_1,a_1)]\n",
    "\\end{align*}\n",
    "\n",
    "Then:\n",
    "$$\\boxed{Q^{\\pi}(s,a) = E_{(s',a') \\sim p(.|s,a)} [r(s,a)+\\gamma Q^{\\pi}(s',a')]}$$ \n",
    "**(2)** \n",
    "\n",
    "Given the Bellman equation:\n",
    "\n",
    "$$V^{\\pi}(s_0) = E[\\Sigma^{\\infty}_{t=0} \\gamma^t r_t (s_t,\\pi(s_t),s_{t+1} | s_0] $$\n",
    "and \n",
    "$$V^*(s_0) = \\max E[\\Sigma^{\\infty}_{t=0}\\gamma^t r_t (s_t,\\pi(s_t),s_{t+1} | s_0] $$\n",
    "\n",
    "Then\n",
    "\n",
    "\\begin{align*} V^*(s_0) & = \\underset{\\pi,a_0}{\\max} E[r_0(s_0,a_0,s_1) + \\Sigma^{\\infty}_{t=1} \\gamma^t r_t (s_t,\\pi(s_t),s_(t+1)|s_0] \\\\\n",
    "& = \\underset{a_0}{\\max} E_{s_1} [r_0(s_0,a_0,s_1)+ \\gamma \\underset{\\pi}{\\max} \\Sigma^{\\infty}_{t=1} E_{s_2,s_3...} \\{ \\Sigma^{\\infty}_{t=1} \\gamma^{t-1} r_t(s_t,\\pi(s_{t+1}),s_{t+1} \\}  | s_0] \\\\\n",
    "& = \\underset{a_0}{\\max} E_{s_1}[r_0(s_0,a_0,s_1)+\\gamma V^* (s_1)] \n",
    "\\end{align*}\n",
    "\n",
    "Then:\n",
    "$$ V^*(s) = \\max E_{s'}[r(s,a,s')+\\gamma V^*(s')|s] $$\n",
    "\n",
    "Since $V^*(s) = \\underset{a'}{\\max}Q^*(s,a')$\n",
    "\n",
    "\\begin{align*}\n",
    "\\Rightarrow V^*(s) & = \\underset{a}{\\max}E_{s'}[r(s,a,s')+\\gamma \\underset{a'}{\\max} Q^*(s',a')|s,a] \\\\\n",
    "\\Rightarrow Q^*(s,a) & = E_{s'}[r(s,a,s')+\\gamma \\underset{a'}{\\max} Q^*(s',a')|s,a]\n",
    "\\end{align*}\n",
    "$$\n",
    "\\boxed{Q^*(s,a) = E_{s'\\sim\\pi^*(.|s,a)}[r(s,a)+\\gamma \\underset{a'}{\\max} Q^*(s',a')]}$$\n",
    "\n",
    "\n",
    "\n",
    "**(3)** \n",
    "\n",
    "Given the loss function $\\mathcal{L}(\\theta)= [Q^*(s,a,\\theta) - Q(s,a,\\theta)]^2$\n",
    "\n",
    "By substituting $Q^*(s,a,\\theta)$, we get:\n",
    "\n",
    "$$\\mathcal{L}(\\theta) = [E_{s'\\sim \\pi^*(.|s,a,s')}[r(s,a,s')+\\gamma\\max_{a'}Q^{*}(s',a,\\theta)] - Q(s,a,\\theta)]^2$$\n",
    "$$ \\Rightarrow \\boxed{\\mathcal{L}(\\theta)=E_{s' \\sim \\pi^*(.|s,a)}\\Vert r+\\gamma\\max\\max_{a'}Q(s',a',\\theta)-Q(s,a,\\theta)\\Vert^{2}} $$"
   ]
  },
  {
   "cell_type": "markdown",
   "metadata": {},
   "source": [
    "***\n",
    "The DQN-learning algorithm relies on these derivations to train the parameters $\\theta$ of a Deep Neural Network:\n",
    "\n",
    "1. At the state $s_t$, select the action $a_t$ with best reward using $Q_t$ and store the results;\n",
    "\n",
    "2. Obtain the new state $s_{t+1}$ from the environment $p$;\n",
    "\n",
    "3. Store $(s_t,a_t,s_{t+1})$;\n",
    "\n",
    "4. Obtain $Q_{t+1}$ by minimizing  $\\mathcal{L}$ from a recovered batch from the previously stored results.\n",
    "\n",
    "***\n",
    "__Question 6__ Implement the class ```Memory``` that stores moves (in a replay buffer) via ```remember``` and provides a ```random_access``` to these. Specify a maximum memory size to avoid side effects. You can for example use a ```list()``` and set by default ```max_memory=100```."
   ]
  },
  {
   "cell_type": "code",
   "execution_count": 9,
   "metadata": {},
   "outputs": [],
   "source": [
    "class Memory(object):\n",
    "    def __init__(self, max_memory=100):\n",
    "        self.max_memory = max_memory\n",
    "        self.memory = list()\n",
    "\n",
    "    def remember(self, m):\n",
    "        self.memory.append(m)\n",
    "        pass\n",
    "\n",
    "    def random_access(self):\n",
    "        r= np.random.randint(0, len(self.memory))\n",
    "        return self.memory[r]"
   ]
  },
  {
   "cell_type": "markdown",
   "metadata": {},
   "source": [
    "***\n",
    "The pipeline we will use for training is given below:"
   ]
  },
  {
   "cell_type": "code",
   "execution_count": 10,
   "metadata": {},
   "outputs": [],
   "source": [
    "def train(agent,env,epoch,prefix=''):\n",
    "    # Number of won games\n",
    "    score = 0\n",
    "    loss = 0\n",
    "\n",
    "    for e in range(1,epoch+1):\n",
    "        # At each epoch, we restart to a fresh game and get the initial state\n",
    "        state = env.reset()\n",
    "        # This assumes that the games will terminate\n",
    "        game_over = False\n",
    "\n",
    "        win = 0\n",
    "        lose = 0\n",
    "\n",
    "        while not game_over:\n",
    "            # The agent performs an action\n",
    "            action = agent.act(state)\n",
    "\n",
    "            # Apply an action to the environment, get the next state, the reward\n",
    "            # and if the games end\n",
    "            prev_state = state\n",
    "            state, reward, game_over = env.act(action)\n",
    "\n",
    "            # Update the counters\n",
    "            if reward > 0:\n",
    "                win = win + reward\n",
    "            if reward < 0:\n",
    "                lose = lose -reward\n",
    "\n",
    "            # Apply the reinforcement strategy\n",
    "            loss = agent.reinforce(prev_state, state,  action, reward, game_over)\n",
    "\n",
    "        # Save as a mp4\n",
    "        if e % 10 == 0:\n",
    "            env.draw(prefix+str(e))\n",
    "\n",
    "        # Update stats\n",
    "        score += win-lose\n",
    "\n",
    "        print(\"Epoch {:03d}/{:03d} | Loss {:.4f} | Win/lose count {}/{} ({})\"\n",
    "              .format(e, epoch, loss, win, lose, win-lose))\n",
    "        agent.save(name_weights=prefix+'model.h5',name_model=prefix+'model.json')"
   ]
  },
  {
   "cell_type": "markdown",
   "metadata": {},
   "source": [
    "***\n",
    "__Question 7__ Implement the DQN training algorithm using a cascade of fully connected layers. You can use different learning rate, batch size or memory size parameters. In particular, the loss might oscillate while the player will start to win the games. You have to find a good criterium."
   ]
  },
  {
   "cell_type": "code",
   "execution_count": 11,
   "metadata": {},
   "outputs": [],
   "source": [
    "class DQN(Agent):\n",
    "    def __init__(self, grid_size,  epsilon = 0.1, memory_size=100, batch_size = 16,n_state=2):\n",
    "        super(DQN, self).__init__(epsilon = epsilon)\n",
    "\n",
    "        # Discount for Q learning\n",
    "        self.discount = 0.99\n",
    "        \n",
    "        self.grid_size = grid_size\n",
    "        \n",
    "        # number of state\n",
    "        self.n_state = n_state\n",
    "\n",
    "        # Memory\n",
    "        self.memory = Memory(memory_size)\n",
    "        \n",
    "        # Batch size when learning\n",
    "        self.batch_size = batch_size\n",
    "\n",
    "    def learned_act(self, s):\n",
    "        acts_ = self.model.predict(np.reshape(s,(1,5,5,self.n_state)))\n",
    "        return np.argmax(acts_[0])\n",
    "        \n",
    "\n",
    "    def reinforce(self, s_, n_s_, a_, r_, game_over_):\n",
    "        # Two steps: first memorize the states, second learn from the pool\n",
    "\n",
    "        self.memory.remember([s_, n_s_, a_, r_, game_over_])\n",
    "        \n",
    "        input_states = np.zeros((self.batch_size, 5,5,self.n_state))\n",
    "        target_q = np.zeros((self.batch_size, 4))\n",
    "        \n",
    "        for i in range(self.batch_size):\n",
    "            current_state, next_state, action, reward, game_over_ = self.memory.random_access() #sample some moves\n",
    "            input_states[i] = current_state\n",
    "            \n",
    "            s_reshape=np.reshape(current_state,(1,5,5,self.n_state))\n",
    "            next_state=np.reshape(next_state,(1,5,5,self.n_state))\n",
    "            target_q[i] = self.model.predict(s_reshape)\n",
    "            \n",
    "           \n",
    "            if game_over_:\n",
    "\n",
    "                target_q[i,a_]= reward\n",
    "            else:\n",
    "                q = self.model.predict(next_state)\n",
    "                target_q[i,a_] = reward + self.discount * np.max(q)\n",
    "        \n",
    "                \n",
    "        ######## FILL IN\n",
    "        # HINT: Clip the target to avoid exploiding gradients.. -- clipping is a bit tighter\n",
    "        \n",
    "        \n",
    "        target_q = np.clip(target_q, -3, 3)\n",
    "\n",
    "        l = self.model.train_on_batch(input_states, target_q)\n",
    "\n",
    "\n",
    "        return l\n",
    "\n",
    "    def save(self,name_weights='model.h5',name_model='model.json'):\n",
    "        self.model.save_weights(name_weights, overwrite=True)\n",
    "        with open(name_model, \"w\") as outfile:\n",
    "            json.dump(self.model.to_json(), outfile)\n",
    "            \n",
    "    def load(self,name_weights='model.h5',name_model='model.json'):\n",
    "        with open(name_model, \"r\") as jfile:\n",
    "            model = model_from_json(json.load(jfile))\n",
    "        model.load_weights(name_weights)\n",
    "        model.compile(\"sgd\", \"mse\")\n",
    "        self.model = model\n",
    "\n",
    "            \n",
    "class DQN_FC(DQN):\n",
    "    def __init__(self, *args, lr=0.1,**kwargs):\n",
    "        super(DQN_FC, self).__init__( *args,**kwargs)\n",
    "        \n",
    "        # NN Model\n",
    "        model = Sequential()\n",
    "        model.add(Reshape((5*5*self.n_state,), input_shape=(5,5,self.n_state)))\n",
    "        model.add(Dense(128,input_shape=(50,),init='uniform',activation='relu'))\n",
    "        model.add(Dense(64,init='uniform',activation='relu'))\n",
    "        model.add(Dense(32,init='uniform',activation='relu'))\n",
    "        model.add(Dense(16,activation='relu'))\n",
    "        model.add(Dense(8,activation='relu'))\n",
    "        model.add(Dense(4,init='uniform',activation='linear'))\n",
    "        model.compile(sgd(lr=lr, decay=1e-4, momentum=0.0), \"mse\")\n",
    "        self.model = model"
   ]
  },
  {
   "cell_type": "code",
   "execution_count": 12,
   "metadata": {
    "scrolled": true
   },
   "outputs": [
    {
     "name": "stderr",
     "output_type": "stream",
     "text": [
      "/usr/local/lib/python3.6/site-packages/ipykernel_launcher.py:80: UserWarning: Update your `Dense` call to the Keras 2 API: `Dense(128, input_shape=(50,), activation=\"relu\", kernel_initializer=\"uniform\")`\n",
      "/usr/local/lib/python3.6/site-packages/ipykernel_launcher.py:81: UserWarning: Update your `Dense` call to the Keras 2 API: `Dense(64, activation=\"relu\", kernel_initializer=\"uniform\")`\n",
      "/usr/local/lib/python3.6/site-packages/ipykernel_launcher.py:82: UserWarning: Update your `Dense` call to the Keras 2 API: `Dense(32, activation=\"relu\", kernel_initializer=\"uniform\")`\n",
      "/usr/local/lib/python3.6/site-packages/ipykernel_launcher.py:85: UserWarning: Update your `Dense` call to the Keras 2 API: `Dense(4, activation=\"linear\", kernel_initializer=\"uniform\")`\n"
     ]
    },
    {
     "name": "stdout",
     "output_type": "stream",
     "text": [
      "WARNING:tensorflow:Variable *= will be deprecated. Use variable.assign_mul if you want assignment to the variable value or 'x = x * y' if you want a new python Tensor object.\n",
      "Epoch 001/030 | Loss 0.0000 | Win/lose count 4.0/3.0 (1.0)\n",
      "Epoch 002/030 | Loss 0.0078 | Win/lose count 5.0/4.0 (1.0)\n",
      "Epoch 003/030 | Loss 0.0254 | Win/lose count 4.0/3.0 (1.0)\n",
      "Epoch 004/030 | Loss 0.0058 | Win/lose count 2.5/3.0 (-0.5)\n",
      "Epoch 005/030 | Loss 0.0058 | Win/lose count 6.5/12.0 (-5.5)\n",
      "Epoch 006/030 | Loss 0.0176 | Win/lose count 8.0/15.0 (-7.0)\n",
      "Epoch 007/030 | Loss 0.0176 | Win/lose count 9.5/14.0 (-4.5)\n",
      "Epoch 008/030 | Loss 0.0196 | Win/lose count 13.5/10.0 (3.5)\n",
      "Epoch 009/030 | Loss 0.0156 | Win/lose count 10.0/14.0 (-4.0)\n",
      "Epoch 010/030 | Loss 0.0097 | Win/lose count 13.5/10.0 (3.5)\n",
      "Epoch 011/030 | Loss 0.0352 | Win/lose count 10.0/17.0 (-7.0)\n",
      "Epoch 012/030 | Loss 0.0390 | Win/lose count 8.0/15.0 (-7.0)\n",
      "Epoch 013/030 | Loss 0.0039 | Win/lose count 10.0/12.0 (-2.0)\n",
      "Epoch 014/030 | Loss 0.0137 | Win/lose count 7.0/10.0 (-3.0)\n",
      "Epoch 015/030 | Loss 0.0000 | Win/lose count 9.5/8.0 (1.5)\n",
      "Epoch 016/030 | Loss 0.0079 | Win/lose count 8.5/16.0 (-7.5)\n",
      "Epoch 017/030 | Loss 0.0156 | Win/lose count 6.0/11.0 (-5.0)\n",
      "Epoch 018/030 | Loss 0.0059 | Win/lose count 9.0/5.0 (4.0)\n",
      "Epoch 019/030 | Loss 0.0156 | Win/lose count 9.5/12.0 (-2.5)\n",
      "Epoch 020/030 | Loss 0.0098 | Win/lose count 6.0/6.0 (0.0)\n",
      "Epoch 021/030 | Loss 0.0020 | Win/lose count 11.0/17.0 (-6.0)\n",
      "Epoch 022/030 | Loss 0.0156 | Win/lose count 7.5/6.0 (1.5)\n",
      "Epoch 023/030 | Loss 0.0253 | Win/lose count 12.5/17.0 (-4.5)\n",
      "Epoch 024/030 | Loss 0.0041 | Win/lose count 5.5/6.0 (-0.5)\n",
      "Epoch 025/030 | Loss 0.0117 | Win/lose count 1.0/4.0 (-3.0)\n",
      "Epoch 026/030 | Loss 0.0195 | Win/lose count 14.0/23.0 (-9.0)\n",
      "Epoch 027/030 | Loss 0.0117 | Win/lose count 7.5/14.0 (-6.5)\n",
      "Epoch 028/030 | Loss 0.0215 | Win/lose count 7.0/13.0 (-6.0)\n",
      "Epoch 029/030 | Loss 0.0239 | Win/lose count 11.0/11.0 (0.0)\n",
      "Epoch 030/030 | Loss 0.0157 | Win/lose count 9.0/11.0 (-2.0)\n"
     ]
    }
   ],
   "source": [
    "env = Environment(grid_size=size, max_time=T, temperature=0.3)\n",
    "agent = DQN_FC(size, lr=.1, epsilon = 0.2, memory_size=16000, batch_size = 32)\n",
    "train(agent, env, epochs_train, prefix='fc_train_')"
   ]
  },
  {
   "cell_type": "code",
   "execution_count": 13,
   "metadata": {},
   "outputs": [
    {
     "data": {
      "text/html": [
       "<video alt=\"test\" controls>\n",
       "                <source src=\"data:video/mp4;base64,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\" type=\"video/mp4\" />\n",
       "             </video>"
      ],
      "text/plain": [
       "<IPython.core.display.HTML object>"
      ]
     },
     "execution_count": 13,
     "metadata": {},
     "output_type": "execute_result"
    }
   ],
   "source": [
    "HTML(display_videos('fc_train_30.mp4'))"
   ]
  },
  {
   "cell_type": "markdown",
   "metadata": {},
   "source": [
    "***\n",
    "***\n",
    "__Question 8__ Implement the DQN training algorithm using a CNN (for example, 2 convolutional layers and one final fully connected layer)."
   ]
  },
  {
   "cell_type": "code",
   "execution_count": 14,
   "metadata": {},
   "outputs": [],
   "source": [
    "class DQN_CNN(DQN):\n",
    "    def __init__(self, *args,lr=0.1,**kwargs):\n",
    "        super(DQN_CNN, self).__init__(*args,**kwargs)\n",
    "        \n",
    "        ###### FILL IN\n",
    "        model = Sequential()\n",
    "        model.add(Conv2D(32,kernel_size=(2,2),strides=(1,1),\n",
    "                         activation='relu',input_shape=(5,5,self.n_state)))\n",
    "        model.add(MaxPooling2D(pool_size=(2, 2), strides=(2, 2)))\n",
    "        model.add(Conv2D(64, (1, 1), activation='relu'))\n",
    "        model.add(MaxPooling2D(pool_size=(2, 2)))\n",
    "        model.add(Flatten())\n",
    "        model.add(Dense(4, activation='linear'))\n",
    "        model.compile(sgd(lr=lr, decay=1e-4, momentum=0.0), \"mse\")\n",
    "        print(model.summary())\n",
    "        self.model = model"
   ]
  },
  {
   "cell_type": "code",
   "execution_count": 15,
   "metadata": {},
   "outputs": [
    {
     "name": "stdout",
     "output_type": "stream",
     "text": [
      "_________________________________________________________________\n",
      "Layer (type)                 Output Shape              Param #   \n",
      "=================================================================\n",
      "conv2d_1 (Conv2D)            (None, 4, 4, 32)          288       \n",
      "_________________________________________________________________\n",
      "max_pooling2d_1 (MaxPooling2 (None, 2, 2, 32)          0         \n",
      "_________________________________________________________________\n",
      "conv2d_2 (Conv2D)            (None, 2, 2, 64)          2112      \n",
      "_________________________________________________________________\n",
      "max_pooling2d_2 (MaxPooling2 (None, 1, 1, 64)          0         \n",
      "_________________________________________________________________\n",
      "flatten_1 (Flatten)          (None, 64)                0         \n",
      "_________________________________________________________________\n",
      "dense_7 (Dense)              (None, 4)                 260       \n",
      "=================================================================\n",
      "Total params: 2,660\n",
      "Trainable params: 2,660\n",
      "Non-trainable params: 0\n",
      "_________________________________________________________________\n",
      "None\n",
      "Epoch 001/030 | Loss 0.0184 | Win/lose count 4.0/4.0 (0.0)\n",
      "Epoch 002/030 | Loss 0.0096 | Win/lose count 1.5/2.0 (-0.5)\n",
      "Epoch 003/030 | Loss 0.0485 | Win/lose count 3.5/2.0 (1.5)\n",
      "Epoch 004/030 | Loss 0.0072 | Win/lose count 3.5/7.0 (-3.5)\n",
      "Epoch 005/030 | Loss 0.0015 | Win/lose count 3.0/9.0 (-6.0)\n",
      "Epoch 006/030 | Loss 0.0125 | Win/lose count 6.0/4.0 (2.0)\n",
      "Epoch 007/030 | Loss 0.0201 | Win/lose count 2.5/6.0 (-3.5)\n",
      "Epoch 008/030 | Loss 0.0206 | Win/lose count 7.0/13.0 (-6.0)\n",
      "Epoch 009/030 | Loss 0.0124 | Win/lose count 4.5/5.0 (-0.5)\n",
      "Epoch 010/030 | Loss 0.0648 | Win/lose count 6.0/11.0 (-5.0)\n",
      "Epoch 011/030 | Loss 0.0160 | Win/lose count 9.0/14.0 (-5.0)\n",
      "Epoch 012/030 | Loss 0.0067 | Win/lose count 3.5/6.0 (-2.5)\n",
      "Epoch 013/030 | Loss 0.0298 | Win/lose count 12.5/13.0 (-0.5)\n",
      "Epoch 014/030 | Loss 0.0145 | Win/lose count 7.5/15.0 (-7.5)\n",
      "Epoch 015/030 | Loss 0.0237 | Win/lose count 3.0/5.0 (-2.0)\n",
      "Epoch 016/030 | Loss 0.0185 | Win/lose count 5.0/1.0 (4.0)\n",
      "Epoch 017/030 | Loss 0.0425 | Win/lose count 7.0/13.0 (-6.0)\n",
      "Epoch 018/030 | Loss 0.0047 | Win/lose count 9.0/5.0 (4.0)\n",
      "Epoch 019/030 | Loss 0.0171 | Win/lose count 4.5/2.0 (2.5)\n",
      "Epoch 020/030 | Loss 0.0150 | Win/lose count 1.5/2.0 (-0.5)\n",
      "Epoch 021/030 | Loss 0.0076 | Win/lose count 3.0/9.0 (-6.0)\n",
      "Epoch 022/030 | Loss 0.0064 | Win/lose count 8.0/14.0 (-6.0)\n",
      "Epoch 023/030 | Loss 0.0217 | Win/lose count 4.5/4.0 (0.5)\n",
      "Epoch 024/030 | Loss 0.0142 | Win/lose count 8.0/7.0 (1.0)\n",
      "Epoch 025/030 | Loss 0.0181 | Win/lose count 8.5/12.0 (-3.5)\n",
      "Epoch 026/030 | Loss 0.0092 | Win/lose count 7.0/11.0 (-4.0)\n",
      "Epoch 027/030 | Loss 0.0163 | Win/lose count 6.5/7.0 (-0.5)\n",
      "Epoch 028/030 | Loss 0.0097 | Win/lose count 9.5/5.0 (4.5)\n",
      "Epoch 029/030 | Loss 0.0129 | Win/lose count 5.0/5.0 (0.0)\n",
      "Epoch 030/030 | Loss 0.0042 | Win/lose count 8.5/8.0 (0.5)\n"
     ]
    }
   ],
   "source": [
    "env = Environment(grid_size=size, max_time=T, temperature=0.3)\n",
    "agent = DQN_CNN(size, lr=.1, epsilon = 0.1, memory_size=2000, batch_size = 32)\n",
    "train(agent,env,epochs_train,prefix='cnn_train_')"
   ]
  },
  {
   "cell_type": "code",
   "execution_count": 16,
   "metadata": {},
   "outputs": [
    {
     "data": {
      "text/html": [
       "<video alt=\"test\" controls>\n",
       "                <source src=\"data:video/mp4;base64,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\" type=\"video/mp4\" />\n",
       "             </video>"
      ],
      "text/plain": [
       "<IPython.core.display.HTML object>"
      ]
     },
     "execution_count": 16,
     "metadata": {},
     "output_type": "execute_result"
    }
   ],
   "source": [
    "HTML(display_videos('cnn_train_30.mp4'))"
   ]
  },
  {
   "cell_type": "markdown",
   "metadata": {},
   "source": [
    "***\n",
    "***\n",
    "__Question 9__ Test both algorithms and compare their performances. Which issue(s) do you observe? Observe also different behaviors by changing the temperature."
   ]
  },
  {
   "cell_type": "markdown",
   "metadata": {},
   "source": [
    "### Testing CNN & FC with temperature set to 0.3"
   ]
  },
  {
   "cell_type": "code",
   "execution_count": 17,
   "metadata": {},
   "outputs": [
    {
     "name": "stdout",
     "output_type": "stream",
     "text": [
      "_________________________________________________________________\n",
      "Layer (type)                 Output Shape              Param #   \n",
      "=================================================================\n",
      "conv2d_3 (Conv2D)            (None, 4, 4, 32)          288       \n",
      "_________________________________________________________________\n",
      "max_pooling2d_3 (MaxPooling2 (None, 2, 2, 32)          0         \n",
      "_________________________________________________________________\n",
      "conv2d_4 (Conv2D)            (None, 2, 2, 64)          2112      \n",
      "_________________________________________________________________\n",
      "max_pooling2d_4 (MaxPooling2 (None, 1, 1, 64)          0         \n",
      "_________________________________________________________________\n",
      "flatten_2 (Flatten)          (None, 64)                0         \n",
      "_________________________________________________________________\n",
      "dense_8 (Dense)              (None, 4)                 260       \n",
      "=================================================================\n",
      "Total params: 2,660\n",
      "Trainable params: 2,660\n",
      "Non-trainable params: 0\n",
      "_________________________________________________________________\n",
      "None\n"
     ]
    },
    {
     "name": "stderr",
     "output_type": "stream",
     "text": [
      "/usr/local/lib/python3.6/site-packages/ipykernel_launcher.py:80: UserWarning: Update your `Dense` call to the Keras 2 API: `Dense(128, input_shape=(50,), activation=\"relu\", kernel_initializer=\"uniform\")`\n",
      "/usr/local/lib/python3.6/site-packages/ipykernel_launcher.py:81: UserWarning: Update your `Dense` call to the Keras 2 API: `Dense(64, activation=\"relu\", kernel_initializer=\"uniform\")`\n",
      "/usr/local/lib/python3.6/site-packages/ipykernel_launcher.py:82: UserWarning: Update your `Dense` call to the Keras 2 API: `Dense(32, activation=\"relu\", kernel_initializer=\"uniform\")`\n",
      "/usr/local/lib/python3.6/site-packages/ipykernel_launcher.py:85: UserWarning: Update your `Dense` call to the Keras 2 API: `Dense(4, activation=\"linear\", kernel_initializer=\"uniform\")`\n"
     ]
    },
    {
     "name": "stdout",
     "output_type": "stream",
     "text": [
      "Test of the CNN\n",
      "Win/lose count 0.5/0. Average score (0.25)\n",
      "Win/lose count 0/0. Average score (0.16666666666666666)\n",
      "Win/lose count 0/2.0. Average score (-0.375)\n",
      "Win/lose count 1.5/1.0. Average score (-0.2)\n",
      "Win/lose count 1.5/2.0. Average score (-0.25)\n",
      "Win/lose count 0/0. Average score (-0.21428571428571427)\n",
      "Win/lose count 1.0/2.0. Average score (-0.3125)\n",
      "Win/lose count 0.5/2.0. Average score (-0.4444444444444444)\n",
      "Win/lose count 2.0/0. Average score (-0.2)\n",
      "Win/lose count 1.0/0. Average score (-0.09090909090909091)\n",
      "Win/lose count 2.0/1.0. Average score (0.0)\n",
      "Win/lose count 1.0/1.0. Average score (0.0)\n",
      "Win/lose count 2.5/2.0. Average score (0.03571428571428571)\n",
      "Win/lose count 0.5/1.0. Average score (0.0)\n",
      "Win/lose count 0.5/4.0. Average score (-0.21875)\n",
      "Win/lose count 1.5/3.0. Average score (-0.29411764705882354)\n",
      "Win/lose count 0.5/0. Average score (-0.25)\n",
      "Win/lose count 0/0. Average score (-0.23684210526315788)\n",
      "Win/lose count 0/0. Average score (-0.225)\n",
      "Win/lose count 2.5/0. Average score (-0.09523809523809523)\n",
      "Win/lose count 1.5/1.0. Average score (-0.06818181818181818)\n",
      "Win/lose count 1.5/0. Average score (0.0)\n",
      "Win/lose count 0/0. Average score (0.0)\n",
      "Win/lose count 1.0/2.0. Average score (-0.04)\n",
      "Win/lose count 0.5/0. Average score (-0.019230769230769232)\n",
      "Win/lose count 3.5/0. Average score (0.1111111111111111)\n",
      "Win/lose count 2.0/3.0. Average score (0.07142857142857142)\n",
      "Win/lose count 1.5/0. Average score (0.1206896551724138)\n",
      "Win/lose count 2.5/1.0. Average score (0.16666666666666666)\n",
      "Win/lose count 0/0. Average score (0.16129032258064516)\n",
      "Final score: 0.16666666666666666\n",
      "Test of the FC\n",
      "Win/lose count 2.0/1.0. Average score (0.5)\n",
      "Win/lose count 0/0. Average score (0.3333333333333333)\n",
      "Win/lose count 1.5/2.0. Average score (0.125)\n",
      "Win/lose count 1.0/0. Average score (0.3)\n",
      "Win/lose count 0/0. Average score (0.25)\n",
      "Win/lose count 2.0/1.0. Average score (0.35714285714285715)\n",
      "Win/lose count 0/0. Average score (0.3125)\n",
      "Win/lose count 1.0/2.0. Average score (0.16666666666666666)\n",
      "Win/lose count 0.5/1.0. Average score (0.1)\n",
      "Win/lose count 1.0/2.0. Average score (0.0)\n",
      "Win/lose count 2.5/4.0. Average score (-0.125)\n",
      "Win/lose count 1.5/1.0. Average score (-0.07692307692307693)\n",
      "Win/lose count 0.5/1.0. Average score (-0.10714285714285714)\n",
      "Win/lose count 1.5/3.0. Average score (-0.2)\n",
      "Win/lose count 2.5/1.0. Average score (-0.09375)\n",
      "Win/lose count 0.5/3.0. Average score (-0.23529411764705882)\n",
      "Win/lose count 1.0/2.0. Average score (-0.2777777777777778)\n",
      "Win/lose count 1.5/1.0. Average score (-0.23684210526315788)\n",
      "Win/lose count 1.5/1.0. Average score (-0.2)\n",
      "Win/lose count 0.5/1.0. Average score (-0.21428571428571427)\n",
      "Win/lose count 0/0. Average score (-0.20454545454545456)\n",
      "Win/lose count 2.0/3.0. Average score (-0.2391304347826087)\n",
      "Win/lose count 0.5/0. Average score (-0.20833333333333334)\n",
      "Win/lose count 0.5/3.0. Average score (-0.3)\n",
      "Win/lose count 0/0. Average score (-0.28846153846153844)\n",
      "Win/lose count 0/0. Average score (-0.2777777777777778)\n",
      "Win/lose count 0.5/1.0. Average score (-0.2857142857142857)\n",
      "Win/lose count 0/0. Average score (-0.27586206896551724)\n",
      "Win/lose count 0.5/2.0. Average score (-0.31666666666666665)\n",
      "Win/lose count 2.0/3.0. Average score (-0.3387096774193548)\n",
      "Final score: -0.35\n"
     ]
    }
   ],
   "source": [
    "env = Environment(grid_size=size, max_time=T,temperature=0.3)\n",
    "agent_cnn = DQN_CNN(size, lr=.1, epsilon = 0.1, memory_size=2000, batch_size = 32)\n",
    "agent_cnn.load(name_weights='cnn_train_model.h5',name_model='cnn_train_model.json')\n",
    "\n",
    "agent_fc = DQN_FC(size, lr=.1, epsilon = 0.1, memory_size=2000, batch_size = 32)\n",
    "agent_cnn.load(name_weights='fc_train_model.h5',name_model='fc_train_model.json')\n",
    "print('Test of the CNN')\n",
    "test(agent_cnn,env,epochs_test,prefix='cnn_test_03_')\n",
    "print('Test of the FC')\n",
    "test(agent_fc,env,epochs_test,prefix='fc_test_03_')"
   ]
  },
  {
   "cell_type": "code",
   "execution_count": 18,
   "metadata": {},
   "outputs": [
    {
     "data": {
      "text/html": [
       "<video alt=\"test\" controls>\n",
       "                <source src=\"data:video/mp4;base64,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\" type=\"video/mp4\" />\n",
       "             </video>"
      ],
      "text/plain": [
       "<IPython.core.display.HTML object>"
      ]
     },
     "execution_count": 18,
     "metadata": {},
     "output_type": "execute_result"
    }
   ],
   "source": [
    "HTML(display_videos('cnn_test_03_30.mp4'))"
   ]
  },
  {
   "cell_type": "code",
   "execution_count": 19,
   "metadata": {},
   "outputs": [
    {
     "data": {
      "text/html": [
       "<video alt=\"test\" controls>\n",
       "                <source src=\"data:video/mp4;base64,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\" type=\"video/mp4\" />\n",
       "             </video>"
      ],
      "text/plain": [
       "<IPython.core.display.HTML object>"
      ]
     },
     "execution_count": 19,
     "metadata": {},
     "output_type": "execute_result"
    }
   ],
   "source": [
    "HTML(display_videos('fc_test_03_30.mp4'))"
   ]
  },
  {
   "cell_type": "markdown",
   "metadata": {},
   "source": [
    "### Testing CNN & FC with temperature set to 0.9"
   ]
  },
  {
   "cell_type": "code",
   "execution_count": 20,
   "metadata": {},
   "outputs": [
    {
     "name": "stdout",
     "output_type": "stream",
     "text": [
      "_________________________________________________________________\n",
      "Layer (type)                 Output Shape              Param #   \n",
      "=================================================================\n",
      "conv2d_5 (Conv2D)            (None, 4, 4, 32)          288       \n",
      "_________________________________________________________________\n",
      "max_pooling2d_5 (MaxPooling2 (None, 2, 2, 32)          0         \n",
      "_________________________________________________________________\n",
      "conv2d_6 (Conv2D)            (None, 2, 2, 64)          2112      \n",
      "_________________________________________________________________\n",
      "max_pooling2d_6 (MaxPooling2 (None, 1, 1, 64)          0         \n",
      "_________________________________________________________________\n",
      "flatten_3 (Flatten)          (None, 64)                0         \n",
      "_________________________________________________________________\n",
      "dense_15 (Dense)             (None, 4)                 260       \n",
      "=================================================================\n",
      "Total params: 2,660\n",
      "Trainable params: 2,660\n",
      "Non-trainable params: 0\n",
      "_________________________________________________________________\n",
      "None\n"
     ]
    },
    {
     "name": "stderr",
     "output_type": "stream",
     "text": [
      "/usr/local/lib/python3.6/site-packages/ipykernel_launcher.py:80: UserWarning: Update your `Dense` call to the Keras 2 API: `Dense(128, input_shape=(50,), activation=\"relu\", kernel_initializer=\"uniform\")`\n",
      "/usr/local/lib/python3.6/site-packages/ipykernel_launcher.py:81: UserWarning: Update your `Dense` call to the Keras 2 API: `Dense(64, activation=\"relu\", kernel_initializer=\"uniform\")`\n",
      "/usr/local/lib/python3.6/site-packages/ipykernel_launcher.py:82: UserWarning: Update your `Dense` call to the Keras 2 API: `Dense(32, activation=\"relu\", kernel_initializer=\"uniform\")`\n",
      "/usr/local/lib/python3.6/site-packages/ipykernel_launcher.py:85: UserWarning: Update your `Dense` call to the Keras 2 API: `Dense(4, activation=\"linear\", kernel_initializer=\"uniform\")`\n"
     ]
    },
    {
     "name": "stdout",
     "output_type": "stream",
     "text": [
      "Test of the CNN\n",
      "Win/lose count 0.5/1.0. Average score (-0.25)\n",
      "Win/lose count 1.5/2.0. Average score (-0.3333333333333333)\n",
      "Win/lose count 1.0/0. Average score (0.0)\n",
      "Win/lose count 1.0/3.0. Average score (-0.4)\n",
      "Win/lose count 1.0/2.0. Average score (-0.5)\n",
      "Win/lose count 2.5/2.0. Average score (-0.35714285714285715)\n",
      "Win/lose count 1.5/3.0. Average score (-0.5)\n",
      "Win/lose count 1.0/2.0. Average score (-0.5555555555555556)\n",
      "Win/lose count 0/2.0. Average score (-0.7)\n",
      "Win/lose count 0/2.0. Average score (-0.8181818181818182)\n",
      "Win/lose count 0.5/1.0. Average score (-0.7916666666666666)\n",
      "Win/lose count 1.5/1.0. Average score (-0.6923076923076923)\n",
      "Win/lose count 0/1.0. Average score (-0.7142857142857143)\n",
      "Win/lose count 1.0/0. Average score (-0.6)\n",
      "Win/lose count 1.0/0. Average score (-0.5)\n",
      "Win/lose count 0.5/2.0. Average score (-0.5588235294117647)\n",
      "Win/lose count 0/3.0. Average score (-0.6944444444444444)\n",
      "Win/lose count 1.0/2.0. Average score (-0.7105263157894737)\n",
      "Win/lose count 0/0. Average score (-0.675)\n",
      "Win/lose count 2.0/0. Average score (-0.5476190476190477)\n",
      "Win/lose count 0.5/2.0. Average score (-0.5909090909090909)\n",
      "Win/lose count 1.0/2.0. Average score (-0.6086956521739131)\n",
      "Win/lose count 1.5/5.0. Average score (-0.7291666666666666)\n",
      "Win/lose count 0/1.0. Average score (-0.74)\n",
      "Win/lose count 0/2.0. Average score (-0.7884615384615384)\n",
      "Win/lose count 0/1.0. Average score (-0.7962962962962963)\n",
      "Win/lose count 2.0/3.0. Average score (-0.8035714285714286)\n",
      "Win/lose count 1.5/2.0. Average score (-0.7931034482758621)\n",
      "Win/lose count 2.0/0. Average score (-0.7)\n",
      "Win/lose count 0.5/3.0. Average score (-0.7580645161290323)\n",
      "Final score: -0.7833333333333333\n",
      "Test of the FC\n",
      "Win/lose count 1.0/1.0. Average score (0.0)\n",
      "Win/lose count 2.0/1.0. Average score (0.3333333333333333)\n",
      "Win/lose count 0/0. Average score (0.25)\n",
      "Win/lose count 0.5/2.0. Average score (-0.1)\n",
      "Win/lose count 0/0. Average score (-0.08333333333333333)\n",
      "Win/lose count 1.0/1.0. Average score (-0.07142857142857142)\n",
      "Win/lose count 0/0. Average score (-0.0625)\n",
      "Win/lose count 0/0. Average score (-0.05555555555555555)\n",
      "Win/lose count 0/0. Average score (-0.05)\n",
      "Win/lose count 0/1.0. Average score (-0.13636363636363635)\n",
      "Win/lose count 0/2.0. Average score (-0.2916666666666667)\n",
      "Win/lose count 0.5/0. Average score (-0.23076923076923078)\n",
      "Win/lose count 1.5/0. Average score (-0.10714285714285714)\n",
      "Win/lose count 1.0/0. Average score (-0.03333333333333333)\n",
      "Win/lose count 0/0. Average score (-0.03125)\n",
      "Win/lose count 0.5/3.0. Average score (-0.17647058823529413)\n",
      "Win/lose count 0/0. Average score (-0.16666666666666666)\n",
      "Win/lose count 1.0/0. Average score (-0.10526315789473684)\n",
      "Win/lose count 0.5/0. Average score (-0.075)\n",
      "Win/lose count 0/1.0. Average score (-0.11904761904761904)\n",
      "Win/lose count 0.5/0. Average score (-0.09090909090909091)\n",
      "Win/lose count 0.5/0. Average score (-0.06521739130434782)\n",
      "Win/lose count 0/0. Average score (-0.0625)\n",
      "Win/lose count 0/0. Average score (-0.06)\n",
      "Win/lose count 1.0/0. Average score (-0.019230769230769232)\n",
      "Win/lose count 1.0/1.0. Average score (-0.018518518518518517)\n",
      "Win/lose count 0/1.0. Average score (-0.05357142857142857)\n",
      "Win/lose count 0.5/0. Average score (-0.034482758620689655)\n",
      "Win/lose count 0/0. Average score (-0.03333333333333333)\n",
      "Win/lose count 0/2.0. Average score (-0.0967741935483871)\n",
      "Final score: -0.1\n"
     ]
    }
   ],
   "source": [
    "env = Environment(grid_size=size, max_time=T,temperature=0.3)\n",
    "agent_cnn = DQN_CNN(size, lr=.1, epsilon = 0.1, memory_size=2000, batch_size = 32)\n",
    "agent_cnn.load(name_weights='cnn_train_model.h5',name_model='cnn_train_model.json')\n",
    "\n",
    "agent_fc = DQN_FC(size, lr=.1, epsilon = 0.1, memory_size=2000, batch_size = 32)\n",
    "agent_cnn.load(name_weights='fc_train_model.h5',name_model='fc_train_model.json')\n",
    "print('Test of the CNN')\n",
    "test(agent_cnn,env,epochs_test,prefix='cnn_test_09_')\n",
    "print('Test of the FC')\n",
    "test(agent_fc,env,epochs_test,prefix='fc_test_09_')"
   ]
  },
  {
   "cell_type": "code",
   "execution_count": 21,
   "metadata": {},
   "outputs": [
    {
     "data": {
      "text/html": [
       "<video alt=\"test\" controls>\n",
       "                <source src=\"data:video/mp4;base64,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\" type=\"video/mp4\" />\n",
       "             </video>"
      ],
      "text/plain": [
       "<IPython.core.display.HTML object>"
      ]
     },
     "execution_count": 21,
     "metadata": {},
     "output_type": "execute_result"
    }
   ],
   "source": [
    "HTML(display_videos('cnn_test_09_30.mp4'))"
   ]
  },
  {
   "cell_type": "code",
   "execution_count": 22,
   "metadata": {},
   "outputs": [
    {
     "data": {
      "text/html": [
       "<video alt=\"test\" controls>\n",
       "                <source src=\"data:video/mp4;base64,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\" type=\"video/mp4\" />\n",
       "             </video>"
      ],
      "text/plain": [
       "<IPython.core.display.HTML object>"
      ]
     },
     "execution_count": 22,
     "metadata": {},
     "output_type": "execute_result"
    }
   ],
   "source": [
    "HTML(display_videos('fc_test_09_30.mp4'))"
   ]
  },
  {
   "cell_type": "markdown",
   "metadata": {},
   "source": [
    "The CNN model seems to perform better and to be more stable than the FC's.\n",
    "\n",
    "When increasing the temperature, results improve for both models. Something expected and that makes sense since we are increasing the percentage of cheeses and bonus on the board\n",
    "\n",
    "Yet, in both models, the agent tends not exploring the island anymore."
   ]
  },
  {
   "cell_type": "markdown",
   "metadata": {},
   "source": [
    "***\n",
    "\n",
    "The algorithm tends to not explore the map which can be an issue. We propose two ideas in order to encourage exploration:\n",
    "1. Incorporating a decreasing $\\epsilon$-greedy exploration. You can use the method ```set_epsilon```\n",
    "2. Append via the environment a new state that describes if a cell has been visited or not\n",
    "\n",
    "***\n",
    "__Question 10__ Design a new ```train_explore``` function and environment class ```EnvironmentExploring``` to tackle the issue of exploration.\n",
    "\n"
   ]
  },
  {
   "cell_type": "code",
   "execution_count": 23,
   "metadata": {},
   "outputs": [],
   "source": [
    "def train_explore(agent,env,epoch,prefix=''):\n",
    "    # Number of won games\n",
    "    score = 0\n",
    "    loss = 0\n",
    "\n",
    "    for e in range(1,epoch+1):\n",
    "        # At each epoch, we restart to a fresh game and get the initial state\n",
    "        state = env.reset()\n",
    "        # This assumes that the games will terminate\n",
    "        game_over = False\n",
    "\n",
    "        win = 0\n",
    "        lose = 0\n",
    "\n",
    "        while not game_over:\n",
    "            # The agent performs an action\n",
    "            action = agent.act(state,train=True)\n",
    "\n",
    "            # Apply an action to the environment, get the next state, the reward\n",
    "            # and if the games end\n",
    "            prev_state = state\n",
    "            state, reward, game_over = env.act(action)\n",
    "\n",
    "            # Update the counters\n",
    "            if reward > 0:\n",
    "                win = win + reward\n",
    "            if reward < 0:\n",
    "                lose = lose - reward\n",
    "\n",
    "            # Apply the reinforcement strategy\n",
    "            loss = agent.reinforce(prev_state, state,  action, reward, game_over)\n",
    "\n",
    "        # Save as a mp4\n",
    "        if e % 10 == 0:\n",
    "            env.draw(prefix+str(e))\n",
    "\n",
    "        # Update stats\n",
    "        score += win-lose\n",
    "\n",
    "        print(\"Epoch {:03d}/{:03d} | Loss {:.4f} | Win/lose count {}/{} ({})\"\n",
    "              .format(e, epoch, loss, win, lose, win-lose))\n",
    "        agent.save(name_weights=prefix+'model.h5',name_model=prefix+'model.json')\n",
    "        \n",
    "class EnvironmentExploring(object):\n",
    "    def __init__(self, grid_size=10, max_time=500, temperature=0.1):\n",
    "        grid_size = grid_size+4\n",
    "        self.grid_size = grid_size\n",
    "        self.max_time = max_time\n",
    "        self.temperature = temperature\n",
    "\n",
    "        #board on which one plays\n",
    "        self.board = np.zeros((grid_size,grid_size))\n",
    "        self.position = np.zeros((grid_size,grid_size))\n",
    "\n",
    "        # coordinate of the rat\n",
    "        self.x = 0\n",
    "        self.y = 1\n",
    "#\n",
    "        self.malus_position = np.zeros((grid_size,grid_size))      \n",
    "#         \n",
    "        # self time\n",
    "        self.t = 0\n",
    "\n",
    "        self.scale=16\n",
    "\n",
    "        self.to_draw = np.zeros((max_time+2, grid_size*self.scale, grid_size*self.scale, 3))\n",
    "\n",
    "\n",
    "    def draw(self,e):\n",
    "        skvideo.io.vwrite(str(e) + '.mp4', self.to_draw)\n",
    "\n",
    "    def get_frame(self,t):\n",
    "        b = np.zeros((self.grid_size,self.grid_size,3))+128\n",
    "        b[self.board>0,0] = 256\n",
    "        b[self.board < 0, 2] = 256\n",
    "        b[self.x,self.y,:]=256\n",
    "        b[-2:,:,:]=0\n",
    "        b[:,-2:,:]=0\n",
    "        b[:2,:,:]=0\n",
    "        b[:,:2,:]=0\n",
    "        \n",
    "        b =  cv2.resize(b, None, fx=self.scale, fy=self.scale, interpolation=cv2.INTER_NEAREST)\n",
    "\n",
    "        self.to_draw[t,:,:,:]=b\n",
    "\n",
    "\n",
    "    def act(self, action):\n",
    "        \"\"\"This function returns the new state, reward and decides if the\n",
    "        game ends.\"\"\"\n",
    "\n",
    "        self.get_frame(int(self.t))\n",
    "\n",
    "        self.position = np.zeros((self.grid_size, self.grid_size))\n",
    "\n",
    "        self.position[0:2,:]= -1\n",
    "        self.position[:,0:2] = -1\n",
    "        self.position[-2:, :] = -1\n",
    "        self.position[:,-2:] = -1\n",
    "\n",
    "        self.position[self.x, self.y] = 1\n",
    "        if action == 0:\n",
    "            if self.x == self.grid_size-3:\n",
    "                self.x = self.x-1\n",
    "            else:\n",
    "                self.x = self.x + 1\n",
    "        elif action == 1:\n",
    "            if self.x == 2:\n",
    "                self.x = self.x+1\n",
    "            else:\n",
    "                self.x = self.x-1\n",
    "        elif action == 2:\n",
    "            if self.y == self.grid_size - 3:\n",
    "                self.y = self.y - 1\n",
    "            else:\n",
    "                self.y = self.y + 1\n",
    "        elif action == 3:\n",
    "            if self.y == 2:\n",
    "                self.y = self.y + 1\n",
    "            else:\n",
    "                self.y = self.y - 1\n",
    "        else:\n",
    "            RuntimeError('Error: action not recognized')\n",
    "\n",
    "        self.t = self.t + 1\n",
    "#       #reward = self.board[self.x, self.y]\n",
    "        reward = 0\n",
    "        if train:\n",
    "            reward = -self.malus_position[self.x, self.y]\n",
    "        self.malus_position[self.x, self.y] = 0.1 \n",
    "        reward = reward + self.board[self.x, self.y]\n",
    "#        \n",
    "        self.board[self.x, self.y] = 0\n",
    "        game_over = self.t > self.max_time\n",
    "        #state = np.concatenate((self.board.reshape(self.grid_size, self.grid_size,1),\n",
    "        #                self.position.reshape(self.grid_size, self.grid_size,1)),axis=2)\n",
    "#        \n",
    "        # 3 \"feature\" states instead of 2\n",
    "        state = np.concatenate((self.malus_position.reshape(self.grid_size, self.grid_size,1), #OK ajouté dans init\n",
    "                                self.board.reshape(self.grid_size, self.grid_size,1), #OK deja dans init\n",
    "                        self.position.reshape(self.grid_size, self.grid_size,1)),axis=2)#OK deja init\n",
    "#        \n",
    "        state = state[self.x-2:self.x+3,self.y-2:self.y+3,:]\n",
    "\n",
    "        return state, reward, game_over\n",
    "\n",
    "    def reset(self):\n",
    "        \"\"\"This function resets the game and returns the initial state\"\"\"\n",
    "\n",
    "        self.x = np.random.randint(3, self.grid_size-3, size=1)[0]\n",
    "        self.y = np.random.randint(3, self.grid_size-3, size=1)[0]\n",
    "\n",
    "\n",
    "        bonus = 0.5*np.random.binomial(1,self.temperature,size=self.grid_size**2)\n",
    "        bonus = bonus.reshape(self.grid_size,self.grid_size)\n",
    "\n",
    "        malus = -1.0*np.random.binomial(1,self.temperature,size=self.grid_size**2)\n",
    "        malus = malus.reshape(self.grid_size, self.grid_size)\n",
    "\n",
    "        self.to_draw = np.zeros((self.max_time+2, self.grid_size*self.scale, self.grid_size*self.scale, 3))\n",
    "\n",
    "\n",
    "        malus[bonus>0]=0\n",
    "\n",
    "        self.board = bonus + malus\n",
    "\n",
    "        self.position = np.zeros((self.grid_size, self.grid_size))\n",
    "        self.position[0:2,:]= -1\n",
    "        self.position[:,0:2] = -1\n",
    "        self.position[-2:, :] = -1\n",
    "        self.position[:,-2:] = -1\n",
    "        self.board[self.x,self.y] = 0\n",
    "        self.t = 0\n",
    "\n",
    "        #state = np.concatenate((\n",
    "        #                      self.board.reshape(self.grid_size, self.grid_size,1),\n",
    "        #                self.position.reshape(self.grid_size, self.grid_size,1)),axis=2)\n",
    "        # 3 \"feature\" states instead of 2\n",
    "#\n",
    "        state = np.concatenate((self.malus_position.reshape(self.grid_size, self.grid_size,1), #OK ajouté dans init\n",
    "                                        self.board.reshape(self.grid_size, self.grid_size,1), #OK deja dans init\n",
    "                                self.position.reshape(self.grid_size, self.grid_size,1)),axis=2)#OK deja init\n",
    "#\n",
    "        state = state[self.x - 2:self.x + 3, self.y - 2:self.y + 3, :]\n",
    "        return state\n",
    "    \n",
    "## use those samples of code:\n",
    "#In train explore: OK\n",
    "#state, reward, game_over = env.act(action, train=True)\n",
    "#\n",
    "## In Environment exploring: #OK \n",
    "# You will have to change n_state to 3 because you will use one more layer!\n",
    "#reward = 0\n",
    "#if train:\n",
    "#    reward = -self.malus_position[self.x, self.y]\n",
    "#self.malus_position[self.x, self.y] = 0.1 \n",
    "#\n",
    "#reward = reward + self.board[self.x, self.y]\n",
    "# 3 \"feature\" states instead of 2\n",
    "#state = np.concatenate((self.malus_position.reshape(self.grid_size, self.grid_size,1), #OK ajouté dans init\n",
    "#                                self.board.reshape(self.grid_size, self.grid_size,1), #OK deja dans init\n",
    "#                        self.position.reshape(self.grid_size, self.grid_size,1)),axis=2)#OK deja init"
   ]
  },
  {
   "cell_type": "code",
   "execution_count": 24,
   "metadata": {},
   "outputs": [
    {
     "name": "stdout",
     "output_type": "stream",
     "text": [
      "_________________________________________________________________\n",
      "Layer (type)                 Output Shape              Param #   \n",
      "=================================================================\n",
      "conv2d_7 (Conv2D)            (None, 4, 4, 32)          416       \n",
      "_________________________________________________________________\n",
      "max_pooling2d_7 (MaxPooling2 (None, 2, 2, 32)          0         \n",
      "_________________________________________________________________\n",
      "conv2d_8 (Conv2D)            (None, 2, 2, 64)          2112      \n",
      "_________________________________________________________________\n",
      "max_pooling2d_8 (MaxPooling2 (None, 1, 1, 64)          0         \n",
      "_________________________________________________________________\n",
      "flatten_4 (Flatten)          (None, 64)                0         \n",
      "_________________________________________________________________\n",
      "dense_22 (Dense)             (None, 4)                 260       \n",
      "=================================================================\n",
      "Total params: 2,788\n",
      "Trainable params: 2,788\n",
      "Non-trainable params: 0\n",
      "_________________________________________________________________\n",
      "None\n",
      "Epoch 001/030 | Loss 0.0179 | Win/lose count 4.0/22.700000000000053 (-18.700000000000053)\n",
      "Epoch 002/030 | Loss 0.0095 | Win/lose count 2.0/22.60000000000001 (-20.60000000000001)\n",
      "Epoch 003/030 | Loss 0.0051 | Win/lose count 3.8/20.20000000000002 (-16.40000000000002)\n",
      "Epoch 004/030 | Loss 0.0104 | Win/lose count 8.600000000000001/25.300000000000075 (-16.700000000000074)\n",
      "Epoch 005/030 | Loss 0.0111 | Win/lose count 2.0/23.600000000000072 (-21.600000000000072)\n",
      "Epoch 006/030 | Loss 0.0048 | Win/lose count 8.600000000000001/25.50000000000005 (-16.90000000000005)\n",
      "Epoch 007/030 | Loss 0.0036 | Win/lose count 3.9999999999999996/28.10000000000008 (-24.10000000000008)\n",
      "Epoch 008/030 | Loss 0.0625 | Win/lose count 4.3999999999999995/24.000000000000064 (-19.600000000000065)\n",
      "Epoch 009/030 | Loss 0.0030 | Win/lose count 3.9999999999999996/30.9000000000001 (-26.9000000000001)\n",
      "Epoch 010/030 | Loss 0.0045 | Win/lose count 7.3000000000000025/28.900000000000126 (-21.600000000000122)\n",
      "Epoch 011/030 | Loss 0.0099 | Win/lose count 11.100000000000003/36.600000000000136 (-25.500000000000135)\n",
      "Epoch 012/030 | Loss 0.0067 | Win/lose count 10.100000000000003/32.9000000000001 (-22.800000000000097)\n",
      "Epoch 013/030 | Loss 0.0083 | Win/lose count 10.300000000000004/30.20000000000009 (-19.900000000000087)\n",
      "Epoch 014/030 | Loss 0.0073 | Win/lose count 8.500000000000002/32.80000000000013 (-24.300000000000132)\n",
      "Epoch 015/030 | Loss 0.0035 | Win/lose count 4.3999999999999995/32.0000000000001 (-27.6000000000001)\n",
      "Epoch 016/030 | Loss 0.0063 | Win/lose count 7.700000000000002/27.900000000000087 (-20.200000000000085)\n",
      "Epoch 017/030 | Loss 0.0026 | Win/lose count 10.400000000000004/32.30000000000009 (-21.900000000000084)\n",
      "Epoch 018/030 | Loss 0.0086 | Win/lose count 6.500000000000002/33.50000000000009 (-27.000000000000092)\n",
      "Epoch 019/030 | Loss 0.0103 | Win/lose count 5.6000000000000005/36.700000000000124 (-31.100000000000122)\n",
      "Epoch 020/030 | Loss 0.0106 | Win/lose count 8.000000000000002/37.000000000000085 (-29.000000000000085)\n",
      "Epoch 021/030 | Loss 0.0046 | Win/lose count 8.400000000000002/28.000000000000068 (-19.600000000000065)\n",
      "Epoch 022/030 | Loss 0.0029 | Win/lose count 9.200000000000003/29.7000000000001 (-20.500000000000096)\n",
      "Epoch 023/030 | Loss 0.0080 | Win/lose count 6.000000000000001/26.600000000000087 (-20.600000000000087)\n",
      "Epoch 024/030 | Loss 0.0082 | Win/lose count 6.400000000000001/23.50000000000004 (-17.100000000000037)\n",
      "Epoch 025/030 | Loss 0.0044 | Win/lose count 8.000000000000002/30.90000000000008 (-22.900000000000077)\n",
      "Epoch 026/030 | Loss 0.0049 | Win/lose count 4.8/24.900000000000098 (-20.100000000000097)\n",
      "Epoch 027/030 | Loss 0.0034 | Win/lose count 2.8/23.400000000000055 (-20.600000000000055)\n",
      "Epoch 028/030 | Loss 0.0054 | Win/lose count 8.000000000000002/28.10000000000011 (-20.100000000000108)\n",
      "Epoch 029/030 | Loss 0.0550 | Win/lose count 12.000000000000005/28.100000000000072 (-16.100000000000065)\n",
      "Epoch 030/030 | Loss 0.0048 | Win/lose count 3.9999999999999996/20.1 (-16.1)\n"
     ]
    }
   ],
   "source": [
    "# Training\n",
    "env = EnvironmentExploring(grid_size=size, max_time=T, temperature=0.3)\n",
    "agent = DQN_CNN(size, lr=.1, epsilon = 0.1, memory_size=2000, batch_size = 32,n_state=3)\n",
    "train_explore(agent, env, epochs_train, prefix='cnn_train_explore_')"
   ]
  },
  {
   "cell_type": "code",
   "execution_count": 25,
   "metadata": {},
   "outputs": [
    {
     "data": {
      "text/html": [
       "<video alt=\"test\" controls>\n",
       "                <source src=\"data:video/mp4;base64,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\" type=\"video/mp4\" />\n",
       "             </video>"
      ],
      "text/plain": [
       "<IPython.core.display.HTML object>"
      ]
     },
     "execution_count": 25,
     "metadata": {},
     "output_type": "execute_result"
    }
   ],
   "source": [
    "HTML(display_videos('cnn_train_explore_30.mp4'))"
   ]
  },
  {
   "cell_type": "code",
   "execution_count": 26,
   "metadata": {},
   "outputs": [
    {
     "name": "stdout",
     "output_type": "stream",
     "text": [
      "Win/lose count 0.8/22.900000000000055. Average score (-11.050000000000027)\n",
      "Win/lose count 2.0/19.60000000000001. Average score (-13.233333333333354)\n",
      "Win/lose count 0.4/20.000000000000014. Average score (-14.825000000000019)\n",
      "Win/lose count 0.8/22.900000000000055. Average score (-16.280000000000026)\n",
      "Win/lose count 3.1999999999999997/20.30000000000002. Average score (-16.416666666666693)\n",
      "Win/lose count 0.4/21.000000000000032. Average score (-17.01428571428574)\n",
      "Win/lose count 1.2000000000000002/21.80000000000004. Average score (-17.46250000000003)\n",
      "Win/lose count 1.2000000000000002/22.800000000000054. Average score (-17.922222222222256)\n",
      "Win/lose count 2.0/19.60000000000001. Average score (-17.890000000000033)\n",
      "Win/lose count 3.1999999999999997/19.300000000000004. Average score (-17.727272727272755)\n",
      "Win/lose count 0/20.100000000000016. Average score (-17.92500000000003)\n",
      "Win/lose count 0.4/23.000000000000057. Average score (-18.284615384615414)\n",
      "Win/lose count 0.4/20.000000000000014. Average score (-18.37857142857146)\n",
      "Win/lose count 1.2000000000000002/24.800000000000093. Average score (-18.7266666666667)\n",
      "Win/lose count 2.4/24.500000000000085. Average score (-18.937500000000036)\n",
      "Win/lose count 0.4/20.000000000000014. Average score (-18.97647058823533)\n",
      "Win/lose count 2.4/19.500000000000007. Average score (-18.872222222222256)\n",
      "Win/lose count 3.9999999999999996/19.1. Average score (-18.67368421052635)\n",
      "Win/lose count 1.6/19.70000000000001. Average score (-18.64500000000003)\n",
      "Win/lose count 1.2000000000000002/20.800000000000026. Average score (-18.69047619047622)\n",
      "Win/lose count 0.8/23.900000000000073. Average score (-18.890909090909126)\n",
      "Win/lose count 0/22.100000000000044. Average score (-19.03043478260873)\n",
      "Win/lose count 1.6/19.70000000000001. Average score (-18.9916666666667)\n",
      "Win/lose count 2.0/22.600000000000055. Average score (-19.056000000000036)\n",
      "Win/lose count 0.4/21.00000000000003. Average score (-19.11538461538465)\n",
      "Win/lose count 0/21.10000000000003. Average score (-19.188888888888922)\n",
      "Win/lose count 1.6/22.700000000000053. Average score (-19.25714285714289)\n",
      "Win/lose count 1.6/20.700000000000028. Average score (-19.251724137931067)\n",
      "Win/lose count 1.2000000000000002/22.800000000000054. Average score (-19.330000000000034)\n",
      "Win/lose count 2.4/22.500000000000053. Average score (-19.354838709677452)\n",
      "Final score: -20.000000000000036\n"
     ]
    }
   ],
   "source": [
    "# Evaluation\n",
    "test(agent,env,epochs_test,prefix='cnn_test_explore_')"
   ]
  },
  {
   "cell_type": "code",
   "execution_count": 27,
   "metadata": {
    "scrolled": false
   },
   "outputs": [
    {
     "data": {
      "text/html": [
       "<video alt=\"test\" controls>\n",
       "                <source src=\"data:video/mp4;base64,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\" type=\"video/mp4\" />\n",
       "             </video>"
      ],
      "text/plain": [
       "<IPython.core.display.HTML object>"
      ]
     },
     "execution_count": 27,
     "metadata": {},
     "output_type": "execute_result"
    }
   ],
   "source": [
    "HTML(display_videos('cnn_test_explore_30.mp4'))"
   ]
  },
  {
   "cell_type": "markdown",
   "metadata": {},
   "source": [
    "***\n",
    "***\n",
    "__BONUS question__ Use the expert DQN from the previous question to generate some winning games. Train a model that mimicks its behavior. Compare the performances."
   ]
  },
  {
   "cell_type": "markdown",
   "metadata": {},
   "source": []
  },
  {
   "cell_type": "markdown",
   "metadata": {},
   "source": [
    "***"
   ]
  }
 ],
 "metadata": {
  "kernelspec": {
   "display_name": "Python 2",
   "language": "python",
   "name": "python2"
  },
  "language_info": {
   "codemirror_mode": {
    "name": "ipython",
    "version": 2
   },
   "file_extension": ".py",
   "mimetype": "text/x-python",
   "name": "python",
   "nbconvert_exporter": "python",
   "pygments_lexer": "ipython2",
   "version": "2.7.15"
  }
 },
 "nbformat": 4,
 "nbformat_minor": 2
}
