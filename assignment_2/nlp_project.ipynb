{
 "cells": [
  {
   "cell_type": "markdown",
   "metadata": {},
   "source": [
    "# Deep Learning for NLP - Project"
   ]
  },
  {
   "cell_type": "markdown",
   "metadata": {},
   "source": [
    "RULES:\n",
    "\n",
    "* Do not create any additional cell\n",
    "\n",
    "* Fill in the blanks\n",
    "\n",
    "* All cells should be runnable (modulo trivial compatibility bugs that we'd fix)\n",
    "\n",
    "* 4 / 20 points will be allocated to the clarity of your code\n",
    "\n",
    "* Efficient code will have a bonus\n",
    "\n",
    "DELIVERABLE:\n",
    "\n",
    "* this notebook\n",
    "* the predictions of the SST test set\n",
    "\n",
    "DO NOT INCLUDE THE DATASETS IN THE DELIVERABLE.."
   ]
  },
  {
   "cell_type": "code",
   "execution_count": 1,
   "metadata": {
    "collapsed": true
   },
   "outputs": [],
   "source": [
    "import io\n",
    "import os\n",
    "import numpy as np\n",
    "import scipy\n",
    "\n",
    "import pandas as pd\n",
    "from urllib2 import urlopen"
   ]
  },
  {
   "cell_type": "code",
   "execution_count": 2,
   "metadata": {
    "collapsed": true
   },
   "outputs": [],
   "source": [
    "PATH_TO_DATA = \"/Users/florian/Documents/ETUDES/Etudes Post-Prepa/4. ESSEC MSc DSBA/T2/6. Deep Learning/assignment_2/data/\""
   ]
  },
  {
   "cell_type": "markdown",
   "metadata": {},
   "source": [
    "# 1) Monolingual (English) word embeddings "
   ]
  },
  {
   "cell_type": "code",
   "execution_count": 3,
   "metadata": {
    "collapsed": true
   },
   "outputs": [],
   "source": [
    "class Word2vec():\n",
    "    def __init__(self, fname, nmax=100000):\n",
    "        if fname[0:4] == 'http':\n",
    "            self.load_wordvec_url(fname, nmax)\n",
    "        else:\n",
    "            self.load_wordvec(fname, nmax)\n",
    "        self.word2id = dict.fromkeys(self.word2vec.keys())\n",
    "        self.id2word = {v: k for k, v in self.word2id.items()}\n",
    "        self.embeddings = np.array(self.word2vec.values())\n",
    "    \n",
    "    def load_wordvec(self, fname, nmax):\n",
    "        self.word2vec = {}\n",
    "        with io.open(fname, encoding='utf-8') as f:\n",
    "            next(f)\n",
    "            for i, line in enumerate(f):\n",
    "                word, vec = line.split(' ', 1)\n",
    "                self.word2vec[word] = np.fromstring(vec, sep=' ')\n",
    "                if i == (nmax - 1):\n",
    "                    break\n",
    "        print('Loaded %s pretrained word vectors from file' % (len(self.word2vec)))\n",
    "    \n",
    "    def load_wordvec_url(self, fname, nmax):\n",
    "        url = fname\n",
    "        self.word2vec={}\n",
    "        f = urlopen(url) \n",
    "        for i, line in enumerate(f):\n",
    "            if i == 0: \n",
    "                pass\n",
    "            elif i > nmax:\n",
    "                break\n",
    "            else:\n",
    "                word, vec = line.split(' ', 1)\n",
    "                self.word2vec[word] = np.fromstring(vec, sep=' ')\n",
    "        print('Loaded {} pretrained word vectors from URL {}'.format(nmax,url))\n",
    "\n",
    "    def most_similar(self, w, K=5):\n",
    "        # K most similar words: self.score  -  np.argsort \n",
    "        similar_dico={}\n",
    "        for j in self.word2vec.keys():\n",
    "            if j!=w:\n",
    "                similar_dico[j] = self.score(w,j)\n",
    "            else:\n",
    "                pass\n",
    "    \n",
    "        return sorted(similar_dico, key = similar_dico.get, reverse = True)[0:K]\n",
    "\n",
    "    def score(self, w1, w2):\n",
    "        # cosine similarity: np.dot  -  np.linalg.norm\n",
    "        v1, v2 = self.word2vec[w1], self.word2vec[w2]\n",
    "        \n",
    "        cos_sim = np.dot(v1,v2)/(np.linalg.norm(v1)*np.linalg.norm(v2))\n",
    "        return cos_sim\n"
   ]
  },
  {
   "cell_type": "code",
   "execution_count": 4,
   "metadata": {},
   "outputs": [
    {
     "name": "stdout",
     "output_type": "stream",
     "text": [
      "Loaded 200000 pretrained word vectors from file\n",
      "\n",
      "\n",
      "('cat', 'dog', 0.67168366627924914)\n",
      "('dog', 'pet', 0.68420640296692192)\n",
      "('dogs', 'cats', 0.70743893280524039)\n",
      "('paris', 'france', 0.77751085412885612)\n",
      "('germany', 'berlin', 0.7420295235998392)\n",
      "\n",
      "\n",
      "[u'cats', u'kitty', u'kitten', u'feline', u'kitties']\n",
      "[u'dogs', u'puppy', u'Dog', u'doggie', u'canine']\n",
      "[u'dog', u'pooches', u'Dogs', u'doggies', u'canines']\n",
      "[u'france', u'Paris', u'parisian', u'london', u'berlin']\n",
      "[u'austria', u'europe', u'german', u'berlin', u'poland']\n"
     ]
    }
   ],
   "source": [
    "w2v = Word2vec(os.path.join(PATH_TO_DATA, 'crawl-300d-200k.vec'), nmax=200000)\n",
    "print '\\n'\n",
    "# You will be evaluated on the output of the following:\n",
    "for w1, w2 in zip(('cat', 'dog', 'dogs', 'paris', 'germany'), ('dog', 'pet', 'cats', 'france', 'berlin')):\n",
    "    print(w1, w2, w2v.score(w1, w2))\n",
    "print '\\n'\n",
    "for w1 in ['cat', 'dog', 'dogs', 'paris', 'germany']:\n",
    "    print(w2v.most_similar(w1))"
   ]
  },
  {
   "cell_type": "code",
   "execution_count": 5,
   "metadata": {
    "collapsed": true
   },
   "outputs": [],
   "source": [
    "class BoV():\n",
    "    def __init__(self, w2v):\n",
    "        self.w2v = w2v\n",
    "    \n",
    "    def encode(self, sentences, idf=False):\n",
    "        # takes a list of sentences, outputs a numpy array of sentence embeddings\n",
    "        # see TP1 for help\n",
    "        sentemb = []\n",
    "        for sent in sentences:\n",
    "            if idf is False:\n",
    "                # mean of word vectors\n",
    "                sent_vec = [self.w2v.word2vec[w] for w in sent if w in self.w2v.word2vec]\n",
    "            \n",
    "            else:\n",
    "                # idf-weighted mean of word vectors\n",
    "                sent_vec = [self.w2v.word2vec[w]*idf[w] for w in sent \n",
    "                            if (w in self.w2v.word2vec) and (w in idf)]\n",
    "            \n",
    "            sentemb.append(np.mean(sent_vec, axis=0))\n",
    "            \n",
    "        if len(sentences) is 1:\n",
    "            return np.reshape(sentemb, (300, ))\n",
    "        return np.vstack(sentemb)\n",
    "\n",
    "    def most_similar(self, s, sentences, idf=False, K=5):\n",
    "        # get most similar sentences and **print** them\n",
    "        keys = self.encode(sentences, idf)\n",
    "        query = self.encode([s], idf)\n",
    "        \n",
    "        similar_dico={}\n",
    "        sent_index = 0\n",
    "        for sent_index, sent in enumerate(sentences):\n",
    "            if sent != s:\n",
    "                sv1 = query\n",
    "                sv2 = keys[sent_index:sent_index+1][0]\n",
    "                score = np.dot(sv1, sv2)/(np.linalg.norm(sv1)*np.linalg.norm(sv2))\n",
    "                similar_dico[' '.join(sent)] = score\n",
    "            else:\n",
    "                pass\n",
    "    \n",
    "        result = sorted(similar_dico, key = similar_dico.get, reverse = True)[0:K]\n",
    "        \n",
    "        # Printing out.\n",
    "        print(\"\\nThe {} most similar sentences to '{}' are: \".format(K, ' '.join(s)))\n",
    "        for i in range(K):\n",
    "            print('{} - {}'.format(similar_dico[result[i]], result[i]))\n",
    "        print('\\n')\n",
    "        return None\n",
    "    \n",
    "    def score(self, s1, s2, idf=False):\n",
    "        # cosine similarity: use   np.dot  and  np.linalg.norm\n",
    "        sv1, sv2 = self.encode([s1], idf), self.encode([s2], idf)\n",
    "        \n",
    "        score_sim = np.dot(sv1, sv2)/(np.linalg.norm(sv1)*np.linalg.norm(sv2))\n",
    "        \n",
    "        print(\"Sentences '{}' and '{}' have a similarity of {} \\n\".format(' '.join(s1), ' '.join(s2), score_sim))\n",
    "        return None\n",
    "    \n",
    "    def build_idf(self, sentences):\n",
    "        # build the idf dictionary: associate each word to its idf value\n",
    "        idf = {}\n",
    "\n",
    "        for sent in sentences:\n",
    "            for w in set(sent):\n",
    "                idf[w] = idf.get(w, 0) + 1\n",
    "    \n",
    "        idf = dict([(k,max(1, np.log10(len(sentences)/v))) for (k, v) in idf.items()])\n",
    "        return idf"
   ]
  },
  {
   "cell_type": "code",
   "execution_count": 6,
   "metadata": {},
   "outputs": [
    {
     "name": "stdout",
     "output_type": "stream",
     "text": [
      "Loaded 200000 pretrained word vectors from file\n",
      "BoV with the normal average of word vectors\n",
      "\n",
      "The 5 most similar sentences to '1 smiling african american boy .' are: \n",
      "0.917045335771 - an african american man smiling .\n",
      "0.849855600388 - a little african american boy and girl looking up .\n",
      "0.821713913954 - an afican american woman standing behind two small african american children .\n",
      "0.820704738463 - an african american man is sitting .\n",
      "0.819112249101 - a girl in black hat holding an african american baby .\n",
      "\n",
      "\n",
      "Sentences '1 man singing and 1 man playing a saxophone in a concert .' and '10 people venture out to go crosscountry skiing .' have a similarity of 0.572625885972 \n",
      "\n",
      "BoV with the weighted-average of word vectors - idf\n",
      "\n",
      "The 5 most similar sentences to '1 smiling african american boy .' are: \n",
      "0.921780772743 - an african american man smiling .\n",
      "0.871596000101 - an african american man is sitting .\n",
      "0.865194017102 - a little african american boy and girl looking up .\n",
      "0.85501990728 - an afican american woman standing behind two small african american children .\n",
      "0.846537458228 - a girl in black hat holding an african american baby .\n",
      "\n",
      "\n",
      "Sentences '1 man singing and 1 man playing a saxophone in a concert .' and '10 people venture out to go crosscountry skiing .' have a similarity of 0.475099605155 \n",
      "\n"
     ]
    }
   ],
   "source": [
    "w2v = Word2vec(os.path.join(PATH_TO_DATA, 'crawl-300d-200k.vec'), nmax=200000)\n",
    "s2v = BoV(w2v)\n",
    "\n",
    "# Load sentences in \"PATH_TO_DATA/sentences.txt\"\n",
    "sentences = []\n",
    "with open(PATH_TO_DATA+'/sentences.txt') as f:\n",
    "    for i, line in enumerate(f):\n",
    "        sent = line.rstrip().split()\n",
    "        sentences.append(sent)\n",
    "\n",
    "# Build idf scores for each word\n",
    "idf = {} if True else s2v.build_idf(sentences)\n",
    "\n",
    "# You will be evaluated on the output of the following:\n",
    "print '\\n-- BoV with the normal average of word vectors --'\n",
    "s2v.most_similar('' if not sentences else sentences[10], sentences)  # BoV-mean\n",
    "s2v.score('' if not sentences else sentences[7], '' if not sentences else sentences[13])\n",
    "\n",
    "print '-- BoV with the weighted-average of word vectors - idf --'\n",
    "idf = {} if False else s2v.build_idf(sentences) # with idf NOT empty\n",
    "s2v.most_similar('' if not sentences else sentences[10], sentences, idf)  # BoV-idf\n",
    "s2v.score('' if not sentences else sentences[7], '' if not sentences else sentences[13], idf)"
   ]
  },
  {
   "cell_type": "markdown",
   "metadata": {},
   "source": [
    "# 2) Multilingual (English-French) word embeddings"
   ]
  },
  {
   "cell_type": "markdown",
   "metadata": {},
   "source": [
    "Let's consider a bilingual dictionary of size V_a (e.g French-English).\n",
    "\n",
    "Let's define **X** and **Y** the **French** and **English** matrices.\n",
    "\n",
    "They contain the embeddings associated to the words in the bilingual dictionary.\n",
    "\n",
    "We want to find a **mapping W** that will project the source word space (e.g French) to the target word space (e.g English).\n",
    "\n",
    "Procrustes : **W\\* = argmin || W.X - Y ||  s.t  W^T.W = Id**\n",
    "has a closed form solution:\n",
    "**W = U.V^T  where  U.Sig.V^T = SVD(Y.X^T)**\n",
    "\n",
    "In what follows, you are asked to: "
   ]
  },
  {
   "cell_type": "code",
   "execution_count": 9,
   "metadata": {
    "scrolled": true
   },
   "outputs": [
    {
     "name": "stdout",
     "output_type": "stream",
     "text": [
      "Loaded 10000 pretrained word vectors from URL https://s3-us-west-1.amazonaws.com/fasttext-vectors/wiki.en.vec\n",
      "Loaded 10000 pretrained word vectors from URL https://s3-us-west-1.amazonaws.com/fasttext-vectors/wiki.fr.vec\n"
     ]
    }
   ],
   "source": [
    "# 1 - Download and load 50k first vectors of\n",
    "#     https://s3-us-west-1.amazonaws.com/fasttext-vectors/wiki.en.vec\n",
    "#     https://s3-us-west-1.amazonaws.com/fasttext-vectors/wiki.fr.vec\n",
    "\n",
    "w2v_en = Word2vec('https://s3-us-west-1.amazonaws.com/fasttext-vectors/wiki.en.vec', nmax=10000)\n",
    "w2v_fr = Word2vec('https://s3-us-west-1.amazonaws.com/fasttext-vectors/wiki.fr.vec', nmax=10000)    \n"
   ]
  },
  {
   "cell_type": "code",
   "execution_count": 10,
   "metadata": {
    "collapsed": true
   },
   "outputs": [],
   "source": [
    "# 2 - Get words that appear in both vocabs (= identical character strings)\n",
    "#     Use it to create the matrix X and Y (of aligned embeddings for these words)\n",
    "#common_keys = list(set(eng_word_dico.keys()) & set(fr_word_dico.keys()))\n",
    "\n",
    "x = [] #french\n",
    "y = [] #english\n",
    "for w in w2v_en.word2vec:\n",
    "    if w in w2v_fr.word2vec:\n",
    "        x.append(list(w2v_fr.word2vec[w]))\n",
    "        y.append(list(w2v_en.word2vec[w]))\n",
    "        \n",
    "X = np.array(x).transpose() # X.shape = (300, nb)\n",
    "Y = np.array(y).transpose() # Y.shape = (300, nb)"
   ]
  },
  {
   "cell_type": "code",
   "execution_count": 11,
   "metadata": {
    "collapsed": true
   },
   "outputs": [],
   "source": [
    "# 3 - Solve the Procrustes using the scipy package and: scipy.linalg.svd() and get the optimal W\n",
    "#     Now W*French_vector is in the same space as English_vector\n",
    "\n",
    "\n",
    "U, sigma, V_T = np.linalg.svd(np.dot(Y, X.transpose()))\n",
    "W = np.dot(U, V_T)\n",
    "W = np.mat(W) # W.shape = (300, 300)"
   ]
  },
  {
   "cell_type": "code",
   "execution_count": 12,
   "metadata": {
    "collapsed": true
   },
   "outputs": [],
   "source": [
    "def most_similar_wv(w2v, wv, K=5): #most similar words to an embedding\n",
    "    top_list = []\n",
    "    for word in w2v.word2vec:\n",
    "        if score_wv(w2v.word2vec[word], wv) != 1 :\n",
    "            top_list.append((word, score_wv(w2v.word2vec[word], wv)))\n",
    "    return sorted(top_list, key=lambda x: x[1], reverse=True)[0:K]\n",
    "\n",
    "def score_wv(wv1, wv2): # score between embeddings\n",
    "    # cosine similarity: np.dot  -  np.linalg.norm\n",
    "    return (np.dot(wv1, wv2) / (np.linalg.norm(wv1) * np.linalg.norm(wv2)))"
   ]
  },
  {
   "cell_type": "code",
   "execution_count": 13,
   "metadata": {},
   "outputs": [
    {
     "name": "stdout",
     "output_type": "stream",
     "text": [
      "\n",
      "English nearest neighbors of: cat\n",
      "('cat', 0.69506881489576477)\n",
      "('chat', 0.54310854040506906)\n",
      "('lapin', 0.45907235725471146)\n",
      "('dog', 0.45381997649092493)\n",
      "('chien', 0.44317416357901185)\n",
      "\n",
      "English nearest neighbors of: dog\n",
      "('dog', 0.66211906797182563)\n",
      "('chien', 0.61395931798880088)\n",
      "('lapin', 0.51732327178586313)\n",
      "('chiens', 0.51606329503889103)\n",
      "('animal', 0.50373327231468534)\n",
      "\n",
      "English nearest neighbors of: germany\n",
      "('allemagne', 0.78598952926086108)\n",
      "('berlin', 0.57407684315537366)\n",
      "('allemande', 0.57177058697029637)\n",
      "('autriche', 0.55911693677638608)\n",
      "('weimar', 0.55678480364598815)\n",
      "\n",
      "French nearest neighbors of: chat\n",
      "('cat', 0.54310854040506917)\n",
      "('rabbit', 0.50804231440890213)\n",
      "('rat', 0.50393066237858286)\n",
      "('dog', 0.48964155010460197)\n",
      "('chat', 0.48144049187862209)\n",
      "\n",
      "French nearest neighbors of: chien\n",
      "('dog', 0.61395931798880132)\n",
      "('dogs', 0.50530474132417136)\n",
      "('rabbit', 0.44820124839291497)\n",
      "('rat', 0.44433081064351448)\n",
      "('cat', 0.44317416357901207)\n"
     ]
    }
   ],
   "source": [
    "# 4 - After alignment with W, give examples of English nearest neighbors of some French words (and vice versa)\n",
    "#     You will be evaluated on that part and the code above\n",
    "\n",
    "\n",
    "for w in ['cat', 'dog', 'germany']:\n",
    "    print('\\n'+'English nearest neighbors of: '+w)\n",
    "    wv_y = w2v_en.word2vec[w]\n",
    "    wv_x = list(np.array(np.dot(W.I, wv_y).transpose()).flatten())\n",
    "    top_K_list = most_similar_wv(w2v_fr, wv_x)\n",
    "    for x in top_K_list:\n",
    "        print(x[0], x[1])\n",
    "        \n",
    "for w in ['chat', 'chien']:\n",
    "    print('\\n'+'French nearest neighbors of: '+w)\n",
    "    wv_x = w2v_fr.word2vec[w]\n",
    "    wv_y = list(np.array(np.dot(W, wv_x).transpose()).flatten())\n",
    "    top_K_list = most_similar_wv(w2v_en, wv_y)\n",
    "    for x in top_K_list:\n",
    "        print(x[0], x[1])"
   ]
  },
  {
   "cell_type": "markdown",
   "metadata": {},
   "source": [
    "If you want to dive deeper on this subject: https://github.com/facebookresearch/MUSE"
   ]
  },
  {
   "cell_type": "markdown",
   "metadata": {},
   "source": [
    "# 3) Sentence classification with BoV and scikit-learn"
   ]
  },
  {
   "cell_type": "code",
   "execution_count": 14,
   "metadata": {},
   "outputs": [
    {
     "name": "stdout",
     "output_type": "stream",
     "text": [
      "Loaded 200000 pretrained word vectors from file\n"
     ]
    }
   ],
   "source": [
    "# 1 - Load train/dev/test of Stanford Sentiment TreeBank (SST)\n",
    "#     (https://nlp.stanford.edu/~socherr/EMNLP2013_RNTN.pdf)\n",
    "\n",
    "sst_data = ['stsa.fine.train','stsa.fine.dev', 'stsa.fine.test.X', ]\n",
    "\n",
    "def load_sst_dataset(f, label_known=True):\n",
    "    x = []\n",
    "    y = []\n",
    "    with open(PATH_TO_DATA+'SST/'+f) as data:    \n",
    "        for line in data:\n",
    "            if label_known is True:\n",
    "                label, sent = line.strip().split(' ', 1)\n",
    "                x.append(sent)\n",
    "                y.append(label)\n",
    "            else:\n",
    "                sent = line.strip()\n",
    "                x.append(sent)\n",
    "    return x,y if label_known else x\n",
    "\n",
    "x_train, y_train = load_sst_dataset(sst_data[0])\n",
    "x_dev, y_dev = load_sst_dataset(sst_data[1])\n",
    "x_test = load_sst_dataset(sst_data[2],False)[0]\n",
    "\n",
    "w2v = Word2vec(os.path.join(PATH_TO_DATA, 'crawl-300d-200k.vec'), nmax=200000)\n",
    "s2v = BoV(w2v)"
   ]
  },
  {
   "cell_type": "code",
   "execution_count": 15,
   "metadata": {},
   "outputs": [
    {
     "name": "stderr",
     "output_type": "stream",
     "text": [
      "/Users/florian/anaconda2/lib/python2.7/site-packages/ipykernel_launcher.py:12: UnicodeWarning: Unicode equal comparison failed to convert both arguments to Unicode - interpreting them as being unequal\n",
      "  if sys.path[0] == '':\n",
      "/Users/florian/anaconda2/lib/python2.7/site-packages/ipykernel_launcher.py:17: UnicodeWarning: Unicode equal comparison failed to convert both arguments to Unicode - interpreting them as being unequal\n"
     ]
    }
   ],
   "source": [
    "# 2 - Encode sentences with the BoV model above\n",
    "\n",
    "# we derive idf scores\n",
    "idf = {} if False else s2v.build_idf(x_train + x_dev + x_test)# with idf NOT empty\n",
    "\n",
    "# we create embeddings of sentences\n",
    "x_train_bov = s2v.encode(x_train)\n",
    "x_dev_bov = s2v.encode(x_dev)\n",
    "x_test_bov = s2v.encode(x_test)\n",
    "\n",
    "x_train_bov_idf = s2v.encode(x_train, idf)\n",
    "x_dev_bov_idf = s2v.encode(x_dev, idf)\n",
    "x_test_bov_idf = s2v.encode(x_test, idf)"
   ]
  },
  {
   "cell_type": "code",
   "execution_count": 16,
   "metadata": {},
   "outputs": [
    {
     "name": "stdout",
     "output_type": "stream",
     "text": [
      "- LogisticRegression -\n",
      "-- BoV with the normal average of word vectors --\n",
      "Accuracy on train set: 0.306062734082\n",
      "Accuracy on dev set: 0.319709355132 \n",
      "\n",
      "-- BoV with the weighted-average of word vectors - idf --\n",
      "Accuracy on train set: 0.309691011236\n",
      "Accuracy on dev set: 0.320617620345\n"
     ]
    }
   ],
   "source": [
    "# 3 - Learn Logistic Regression on top of sentence embeddings using scikit-learn\n",
    "#     (consider tuning the L2 regularization on the dev set)\n",
    "\n",
    "from sklearn.linear_model import LogisticRegression\n",
    "from sklearn.metrics import accuracy_score\n",
    "\n",
    "print '- LogisticRegression -'\n",
    "print '-- BoV with the normal average of word vectors --'\n",
    "log_clf = LogisticRegression(solver='lbfgs', penalty='l2', max_iter=150, random_state=9, multi_class='multinomial')\n",
    "log_clf.fit(x_train_bov, y_train)\n",
    "preds = log_clf.predict(x_train_bov)\n",
    "print('Accuracy on train set: {}'.format(accuracy_score(y_train, preds)))\n",
    "preds = log_clf.predict(x_dev_bov)\n",
    "print('Accuracy on dev set: {} \\n'.format(accuracy_score(y_dev, preds)))\n",
    "\n",
    "print '-- BoV with the weighted-average of word vectors - idf --'\n",
    "log_clf = LogisticRegression(solver='lbfgs', penalty='l2', max_iter=150, random_state=9, multi_class='multinomial')\n",
    "log_clf.fit(x_train_bov_idf, y_train)\n",
    "preds = log_clf.predict(x_train_bov_idf)\n",
    "print('Accuracy on train set: {}'.format(accuracy_score(y_train, preds)))\n",
    "preds = log_clf.predict(x_dev_bov_idf)\n",
    "print('Accuracy on dev set: {}'.format(accuracy_score(y_dev, preds)))"
   ]
  },
  {
   "cell_type": "code",
   "execution_count": 17,
   "metadata": {},
   "outputs": [],
   "source": [
    "# 4 - Produce 2210 predictions for the test set (in the same order). One line = one prediction (=0,1,2,3,4).\n",
    "#     Attach the output file \"logreg_bov_y_test_sst.txt\" to your deliverable.\n",
    "#     You will be evaluated on the results of the test set.\n",
    "\n",
    "y_test_preds = log_clf.predict(x_test_bov_idf)\n",
    "df=pd.DataFrame(y_test_preds)\n",
    "df.to_csv(PATH_TO_DATA+'/logreg_bov_y_test_sst.txt', header=None, index=None, sep=' ', mode='a')"
   ]
  },
  {
   "cell_type": "code",
   "execution_count": 18,
   "metadata": {},
   "outputs": [
    {
     "name": "stdout",
     "output_type": "stream",
     "text": [
      "- GradientBoostingClassifier -\n",
      "-- BoV with the normal average of word vectors --\n",
      "Accuracy on train set: 0.393609550562\n",
      "Accuracy on dev set: 0.300635785649 \n",
      "\n",
      "-- BoV with the weighted-average of word vectors - idf --\n",
      "Accuracy on train set: 0.397471910112\n",
      "Accuracy on dev set: 0.297910990009\n"
     ]
    }
   ],
   "source": [
    "# BONUS!\n",
    "# 5 - Try to improve performance with another classifier\n",
    "#     Attach the output file \"XXX_bov_y_test_sst.txt\" to your deliverable (where XXX = the name of the classifier)\n",
    "\n",
    "from sklearn.ensemble import GradientBoostingClassifier\n",
    "from sklearn.metrics import accuracy_score\n",
    "\n",
    "# TYPE CODE HERE\n",
    "print '- GradientBoostingClassifier -'\n",
    "print '-- BoV with the normal average of word vectors --'\n",
    "clf = GradientBoostingClassifier(n_estimators=20)\n",
    "clf.fit(x_train_bov, y_train)\n",
    "preds = clf.predict(x_train_bov)\n",
    "print('Accuracy on train set: {}'.format(accuracy_score(y_train, preds)))\n",
    "preds = clf.predict(x_dev_bov)\n",
    "print('Accuracy on dev set: {} \\n'.format(accuracy_score(y_dev, preds)))\n",
    "\n",
    "print '-- BoV with the weighted-average of word vectors - idf --'\n",
    "clf = GradientBoostingClassifier(n_estimators=20)\n",
    "clf.fit(x_train_bov_idf, y_train)\n",
    "preds = clf.predict(x_train_bov_idf)\n",
    "print('Accuracy on train set: {}'.format(accuracy_score(y_train, preds)))\n",
    "preds = clf.predict(x_dev_bov_idf)\n",
    "print('Accuracy on dev set: {}'.format(accuracy_score(y_dev, preds)))\n",
    "\n",
    "y_test_preds = clf.predict(x_test_bov)\n",
    "df=pd.DataFrame(y_test_preds)\n",
    "df.to_csv(PATH_TO_DATA+'/gradboost_bov_y_test_sst.txt', header=None, index=None, sep=' ', mode='a')"
   ]
  },
  {
   "cell_type": "markdown",
   "metadata": {},
   "source": [
    "# 4) Sentence classification with LSTMs in Keras"
   ]
  },
  {
   "cell_type": "markdown",
   "metadata": {},
   "source": [
    "## 4.1 - Preprocessing"
   ]
  },
  {
   "cell_type": "code",
   "execution_count": 19,
   "metadata": {},
   "outputs": [
    {
     "name": "stderr",
     "output_type": "stream",
     "text": [
      "Using TensorFlow backend.\n"
     ]
    }
   ],
   "source": [
    "import keras\n",
    "from keras.preprocessing import sequence"
   ]
  },
  {
   "cell_type": "code",
   "execution_count": 20,
   "metadata": {
    "collapsed": true
   },
   "outputs": [],
   "source": [
    "# 1 - Load train/dev/test sets of SST\n",
    "\n",
    "sst_data = ['stsa.fine.train','stsa.fine.dev', 'stsa.fine.test.X', ]\n",
    "\n",
    "def load_sst_dataset(f, label_known=True):\n",
    "    x = []\n",
    "    y = []\n",
    "    with open(PATH_TO_DATA+'SST/'+f) as data:    \n",
    "        for line in data:\n",
    "            if label_known is True:\n",
    "                label, sent = line.strip().split(' ', 1)\n",
    "                x.append(sent)\n",
    "                y.append(label)\n",
    "            else:\n",
    "                sent = line.strip()\n",
    "                x.append(sent)\n",
    "    return x,y if label_known else x\n",
    "\n",
    "x_train, y_train = load_sst_dataset(sst_data[0])\n",
    "x_dev, y_dev = load_sst_dataset(sst_data[1])\n",
    "x_test = load_sst_dataset(sst_data[2],False)[0]"
   ]
  },
  {
   "cell_type": "code",
   "execution_count": 21,
   "metadata": {
    "collapsed": true
   },
   "outputs": [],
   "source": [
    "# 2 - Transform text to integers using keras.preprocessing.text.one_hot function\n",
    "#     https://keras.io/preprocessing/text/\n",
    "\n",
    "from keras.preprocessing import text\n",
    "N = 50000\n",
    "max_len = 60\n",
    "\n",
    "x_train_oh = [text.one_hot(i, n=N, filters='!\"#$%&()*+,-./:;<=>?@[\\]^_`{|}~\\t\\n', lower=True, split=' ') for i in x_train]\n",
    "x_dev_oh = [text.one_hot(i, n=N, filters='!\"#$%&()*+,-./:;<=>?@[\\]^_`{|}~\\t\\n', lower=True, split=' ') for i in x_dev]\n",
    "x_test_oh = [text.one_hot(i, n=N, filters='!\"#$%&()*+,-./:;<=>?@[\\]^_`{|}~\\t\\n', lower=True, split=' ') for i in x_test]"
   ]
  },
  {
   "cell_type": "markdown",
   "metadata": {},
   "source": [
    "**Padding input data**\n",
    "\n",
    "Models in Keras (and elsewhere) take batches of sentences of the same length as input. It is because Deep Learning framework have been designed to handle well Tensors, which are particularly suited for fast computation on the GPU.\n",
    "\n",
    "Since sentences have different sizes, we \"pad\" them. That is, we add dummy \"padding\" tokens so that they all have the same length.\n",
    "\n",
    "The input to a Keras model thus has this size : (batchsize, maxseqlen) where maxseqlen is the maximum length of a sentence in the batch."
   ]
  },
  {
   "cell_type": "code",
   "execution_count": 22,
   "metadata": {
    "collapsed": true
   },
   "outputs": [],
   "source": [
    "# 3 - Pad your sequences using keras.preprocessing.sequence.pad_sequences\n",
    "#     https://keras.io/preprocessing/sequence/\n",
    "\n",
    "x_train = keras.preprocessing.sequence.pad_sequences(x_train_oh, maxlen=max_len, dtype='int32', padding='pre', truncating='pre', value=0.)\n",
    "x_dev = keras.preprocessing.sequence.pad_sequences(x_dev_oh, maxlen=max_len, dtype='int32', padding='pre', truncating='pre', value=0.)\n",
    "x_test = keras.preprocessing.sequence.pad_sequences(x_test_oh, maxlen=max_len, dtype='int32', padding='pre', truncating='pre', value=0.)\n",
    "\n",
    "from keras.utils import to_categorical\n",
    "\n",
    "y_train = to_categorical(y_train)\n",
    "y_dev = to_categorical(y_dev)\n"
   ]
  },
  {
   "cell_type": "markdown",
   "metadata": {},
   "source": [
    "## 4.2 - Design and train your model"
   ]
  },
  {
   "cell_type": "code",
   "execution_count": 23,
   "metadata": {},
   "outputs": [
    {
     "name": "stderr",
     "output_type": "stream",
     "text": [
      "/Users/florian/anaconda2/lib/python2.7/site-packages/ipykernel_launcher.py:20: UserWarning: Update your `LSTM` call to the Keras 2 API: `LSTM(64, dropout=0.2, recurrent_dropout=0.2)`\n"
     ]
    }
   ],
   "source": [
    "# 4 - Design your encoder + classifier using keras.layers\n",
    "#     In Keras, Torch and other deep learning framework, we create a \"container\" which is the Sequential() module.\n",
    "#     Then we add components to this contained : the lookuptable, the LSTM, the classifier etc.\n",
    "#     All of these components are contained in the Sequential() and are trained together.\n",
    "\n",
    "\n",
    "# ADAPT CODE BELOW\n",
    "\n",
    "\n",
    "from keras.models import Sequential\n",
    "from keras.layers import Embedding, LSTM, Dense, Activation\n",
    "\n",
    "embed_dim  = 32  # word embedding dimension\n",
    "nhid       = 64  # number of hidden units in the LSTM\n",
    "vocab_size = N # size of the vocabulary\n",
    "n_classes  = 5\n",
    "\n",
    "model = Sequential()\n",
    "model.add(Embedding(vocab_size, embed_dim))\n",
    "model.add(LSTM(nhid, dropout_W=0.2, dropout_U=0.2))\n",
    "model.add(Dense(n_classes, activation='sigmoid'))\n"
   ]
  },
  {
   "cell_type": "code",
   "execution_count": 24,
   "metadata": {},
   "outputs": [
    {
     "name": "stdout",
     "output_type": "stream",
     "text": [
      "_________________________________________________________________\n",
      "Layer (type)                 Output Shape              Param #   \n",
      "=================================================================\n",
      "embedding_1 (Embedding)      (None, None, 32)          1600000   \n",
      "_________________________________________________________________\n",
      "lstm_1 (LSTM)                (None, 64)                24832     \n",
      "_________________________________________________________________\n",
      "dense_1 (Dense)              (None, 5)                 325       \n",
      "=================================================================\n",
      "Total params: 1,625,157\n",
      "Trainable params: 1,625,157\n",
      "Non-trainable params: 0\n",
      "_________________________________________________________________\n",
      "None\n"
     ]
    }
   ],
   "source": [
    "# 5 - Define your loss/optimizer/metrics\n",
    "\n",
    "# MODIFY CODE BELOW\n",
    "\n",
    "loss_classif     =  'categorical_crossentropy' # find the right loss for multi-class classification\n",
    "optimizer        =  'RMSprop' # find the right optimizer\n",
    "metrics_classif  =  ['accuracy']\n",
    "\n",
    "# Observe how easy (but blackboxed) this is in Keras\n",
    "model.compile(loss=loss_classif,\n",
    "              optimizer=optimizer,\n",
    "              metrics=metrics_classif)\n",
    "print(model.summary())"
   ]
  },
  {
   "cell_type": "code",
   "execution_count": 25,
   "metadata": {},
   "outputs": [
    {
     "name": "stderr",
     "output_type": "stream",
     "text": [
      "/Users/florian/anaconda2/lib/python2.7/site-packages/keras/models.py:874: UserWarning: The `nb_epoch` argument in `fit` has been renamed `epochs`.\n",
      "  warnings.warn('The `nb_epoch` argument in `fit` '\n"
     ]
    },
    {
     "name": "stdout",
     "output_type": "stream",
     "text": [
      "Train on 8544 samples, validate on 1101 samples\n",
      "Epoch 1/3\n",
      "8544/8544 [==============================] - 63s 7ms/step - loss: 1.5717 - acc: 0.2687 - val_loss: 1.5666 - val_acc: 0.3206\n",
      "Epoch 2/3\n",
      "8544/8544 [==============================] - 65s 8ms/step - loss: 1.5074 - acc: 0.3329 - val_loss: 1.4648 - val_acc: 0.3497\n",
      "Epoch 3/3\n",
      "8544/8544 [==============================] - 58s 7ms/step - loss: 1.3659 - acc: 0.4012 - val_loss: 1.3931 - val_acc: 0.3833\n"
     ]
    }
   ],
   "source": [
    "# 6 - Train your model and find the best hyperparameters for your dev set\n",
    "#     you will be evaluated on the quality of your predictions on the test set\n",
    "\n",
    "# ADAPT CODE BELOW\n",
    "bs = 32\n",
    "n_epochs = 3\n",
    "\n",
    "history = model.fit(x_train, y_train, batch_size=bs, \n",
    "                    nb_epoch=n_epochs, validation_data=(x_dev, y_dev))"
   ]
  },
  {
   "cell_type": "code",
   "execution_count": 26,
   "metadata": {},
   "outputs": [
    {
     "name": "stdout",
     "output_type": "stream",
     "text": [
      "2210/2210 [==============================] - 2s 894us/step\n"
     ]
    }
   ],
   "source": [
    "# 7 - Generate your predictions on the test set using model.predict(x_test)\n",
    "#     https://keras.io/models/model/\n",
    "#     Log your predictions in a file (one line = one integer: 0,1,2,3,4)\n",
    "#     Attach the output file \"logreg_lstm_y_test_sst.txt\" to your deliverable.\n",
    "\n",
    "y_pred = model.predict_classes(x_test)\n",
    "with open(PATH_TO_DATA+\"logreg_lstm_y_test_sst.txt\", \"w\") as f:\n",
    "    for i in y_pred:\n",
    "        f.write(str(i)+'\\n')"
   ]
  },
  {
   "cell_type": "markdown",
   "metadata": {},
   "source": [
    "## 4.3 -- innovate !"
   ]
  },
  {
   "cell_type": "code",
   "execution_count": null,
   "metadata": {
    "collapsed": true
   },
   "outputs": [],
   "source": [
    "# 8 - Open question: find a model that is better on your dev set\n",
    "#     (e.g: use a 1D ConvNet, use a better classifier, pretrain your lookup tables ..)\n",
    "#     you will get point if the results on the test set are better: be careful of not overfitting your dev set too much..\n",
    "#     Attach the output file \"XXX_XXX_y_test_sst.txt\" to your deliverable.\n",
    "\n",
    "# TYPE CODE HERE\n"
   ]
  },
  {
   "cell_type": "code",
   "execution_count": null,
   "metadata": {
    "collapsed": true
   },
   "outputs": [],
   "source": []
  }
 ],
 "metadata": {
  "kernelspec": {
   "display_name": "Python 2",
   "language": "python",
   "name": "python2"
  },
  "language_info": {
   "codemirror_mode": {
    "name": "ipython",
    "version": 2
   },
   "file_extension": ".py",
   "mimetype": "text/x-python",
   "name": "python",
   "nbconvert_exporter": "python",
   "pygments_lexer": "ipython2",
   "version": "2.7.14"
  }
 },
 "nbformat": 4,
 "nbformat_minor": 1
}
